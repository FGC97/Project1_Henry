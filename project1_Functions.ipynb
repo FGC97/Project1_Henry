{
  "nbformat": 4,
  "nbformat_minor": 0,
  "metadata": {
    "colab": {
      "provenance": [],
      "authorship_tag": "ABX9TyNdX0x+D1zu8JyberlAlro9",
      "include_colab_link": true
    },
    "kernelspec": {
      "name": "python3",
      "display_name": "Python 3"
    },
    "language_info": {
      "name": "python"
    }
  },
  "cells": [
    {
      "cell_type": "markdown",
      "metadata": {
        "id": "view-in-github",
        "colab_type": "text"
      },
      "source": [
        "<a href=\"https://colab.research.google.com/github/FGC97/project1_Henry/blob/main/project1_Functions.ipynb\" target=\"_parent\"><img src=\"https://colab.research.google.com/assets/colab-badge.svg\" alt=\"Open In Colab\"/></a>"
      ]
    },
    {
      "cell_type": "code",
      "source": [
        "# Importing libraries\n",
        "import pandas as pd\n",
        "import numpy as np\n",
        "import ast\n"
      ],
      "metadata": {
        "id": "seKIEvFWJOfY"
      },
      "execution_count": null,
      "outputs": []
    },
    {
      "cell_type": "code",
      "source": [
        "# from google.colab import drive\n",
        "# drive.mount('/content/drive')\n",
        "\n",
        "# # Drive\n",
        "# df_movies = pd.read_csv('/content/drive/MyDrive/Proyectos Henry/ML_Ops_Project/df_movies.csv', sep = ',')"
      ],
      "metadata": {
        "id": "VisWCpablNKl",
        "colab": {
          "base_uri": "https://localhost:8080/"
        },
        "outputId": "e680db9b-1a87-49f5-ec4e-95cbd445f1fa"
      },
      "execution_count": null,
      "outputs": [
        {
          "output_type": "stream",
          "name": "stdout",
          "text": [
            "Mounted at /content/drive\n"
          ]
        }
      ]
    },
    {
      "cell_type": "code",
      "source": [
        "df_movies.info()"
      ],
      "metadata": {
        "id": "ttq7uMLCM43S"
      },
      "execution_count": null,
      "outputs": []
    },
    {
      "cell_type": "code",
      "source": [
        "# Reading the 'df_movies.csv' file and storing the data in the 'df_movies' DataFrame\n",
        "df_movies = pd.read_csv('dataset/df_movies.csv', sep=',')\n",
        "\n"
      ],
      "metadata": {
        "id": "XI2qRv4XlAgC"
      },
      "execution_count": null,
      "outputs": []
    },
    {
      "cell_type": "markdown",
      "source": [
        "# ***API development***: You propose to make the company's data available using the FastAPI framework.\n",
        "\n",
        "* You must create 6 functions for the endpoints that will be consumed in the API, remember that you must have a decorator for each one.\n",
        "\n",
        "---"
      ],
      "metadata": {
        "id": "tY0VG0VmmKFU"
      }
    },
    {
      "cell_type": "markdown",
      "source": [
        "# ***def peliculas_idioma***\n",
        "* **def peliculas_idioma( Idioma: str ):**\n",
        "\n",
        "**Spanish**: <br>\n",
        "\n",
        "* Se ingresa un idioma (como están escritos en el dataset, no hay que traducirlos!). Debe devolver la cantidad de películas producidas en ese idioma.\n",
        "* Ejemplo de retorno: X cantidad de películas fueron estrenadas en idioma\n",
        "\n",
        "**English**: <br>\n",
        "\n",
        "* A language is entered (as they are written in the dataset, no translation is needed!). It should return the number of movies produced in that language.\n",
        "\n",
        "* Example return: X number of movies were released in the language\n"
      ],
      "metadata": {
        "id": "0FDNu6VHKBh7"
      }
    },
    {
      "cell_type": "code",
      "source": [
        "def peliculas_idioma(language: str):\n",
        "    try:\n",
        "        if not isinstance(language, str):\n",
        "            raise TypeError(\"Please provide a valid language name. It must be a string.\")\n",
        "\n",
        "        # Get the list of unique languages in the DataFrame\n",
        "        languages_list = list(df_movies['original_language'].unique())\n",
        "\n",
        "        # Check if the provided language is in the list of languages\n",
        "        if language in languages_list:\n",
        "            # Count the number of movies released in the provided language\n",
        "            movies_count = df_movies[df_movies['original_language'] == language].shape[0]\n",
        "            return {language: f'{movies_count} movies'}\n",
        "        else:\n",
        "            # Raise a ValueError if no movies are found in the provided language\n",
        "            raise ValueError\n",
        "    except TypeError as e:\n",
        "        # Return a dictionary with a TypeError message if an invalid language type is provided\n",
        "        return {'TypeError': str(e)}\n",
        "    except ValueError:\n",
        "        # Return a dictionary with a NotFound message if no movies are found in the provided language\n",
        "        return {'NotFound': f'No movie released in the language \"{language}\" was found'}\n"
      ],
      "metadata": {
        "id": "qEUb_bAhKy-h"
      },
      "execution_count": null,
      "outputs": []
    },
    {
      "cell_type": "code",
      "source": [
        "# Check all the posible languages\n",
        "# df_movies['original_language'].unique()\n",
        "\n",
        "\n",
        "print(peliculas_idioma('es'))\n",
        "print(peliculas_idioma('fr'))\n",
        "print(peliculas_idioma('English'))\n",
        "print(peliculas_idioma('kskf'))\n",
        "print(peliculas_idioma(123))"
      ],
      "metadata": {
        "colab": {
          "base_uri": "https://localhost:8080/"
        },
        "id": "515oRjsWK4f_",
        "outputId": "c1357ed4-8370-40a1-de0e-2a1db9397344"
      },
      "execution_count": null,
      "outputs": [
        {
          "output_type": "stream",
          "name": "stdout",
          "text": [
            "{'es': '991 movies'}\n",
            "{'fr': '2435 movies'}\n",
            "{'NotFound': 'No movie released in the language \"English\" was found'}\n",
            "{'NotFound': 'No movie released in the language \"kskf\" was found'}\n",
            "{'TypeError': 'Please provide a valid language name. It must be a string.'}\n"
          ]
        }
      ]
    },
    {
      "cell_type": "markdown",
      "source": [
        "# ***def peliculas_duracion***\n",
        "\n",
        "**Spanish**: <br>\n",
        "\n",
        "* def peliculas_duracion( Pelicula: str ): Se ingresa una pelicula. Debe devolver la duracion y el año.\n",
        "* Ejemplo de retorno: X . Duración: x. Año: xx\n",
        "\n",
        "\n",
        "**English**: <br>\n",
        "\n",
        "* def movies duration( Movie: str ): A movie is entered. It must return the duration and the year.\n",
        "* Return example: X . Duration: x. Year: xx"
      ],
      "metadata": {
        "id": "zF1Ob8vprwkG"
      }
    },
    {
      "cell_type": "code",
      "source": [
        "def peliculas_duracion(movie: str):\n",
        "\n",
        "    try:\n",
        "        if isinstance(movie, str):  # Check if the input is a string\n",
        "            movie = movie.strip()\n",
        "            movie = movie.lower()  # Convert the movie name to lowercase\n",
        "            duplicates = df_movies[df_movies['title'].str.lower() == movie]\n",
        "            # Select rows where the lowercase movie title matches the lowercase input movie name\n",
        "\n",
        "            if not duplicates.empty:\n",
        "                results = []\n",
        "                for index, row in duplicates.sort_values('release_year').iterrows():\n",
        "                    duration = row['runtime']  # Get the movie duration\n",
        "                    year = row['release_year']  # Get the movie release year\n",
        "                    movie_info = f\"Duración: {duration} min, Año: {year}\"\n",
        "                    results.append(movie_info)\n",
        "                    # Append the formatted string with movie duration and year to the results list\n",
        "                return {movie.title(): results}  # Return a dictionary with the movie name as key and the list of movie information as value\n",
        "            else:\n",
        "                selection = df_movies[df_movies['title'].str.lower() == movie]\n",
        "                # Select rows where the lowercase movie title matches the lowercase input movie name (without duplicates)\n",
        "                if not selection.empty:\n",
        "                    duration = selection['runtime'].iloc[0]  # Get the duration of the first selected movie\n",
        "                    year = selection['release_year'].iloc[0]  # Get the release year of the first selected movie\n",
        "                    movie_info = f\"Duración: {duration} min, Año: {year}\"\n",
        "                    return {movie.title(): [movie_info]}\n",
        "                    # Return a dictionary with the movie name as key and a list with the movie information as value\n",
        "            return f\"No '{movie}' movie found, please provide a valid movie name as a string.\"\n",
        "            # Return a message indicating that no movie was found with the given name\n",
        "        else:\n",
        "            return f\"Invalid input: '{movie}', please provide a valid movie name as a string.\"\n",
        "    except ValueError:\n",
        "        return {'NotFound': f'No movie released in the language \"{movie}\" was found'}"
      ],
      "metadata": {
        "id": "Guq511GCJ_3I"
      },
      "execution_count": null,
      "outputs": []
    },
    {
      "cell_type": "code",
      "source": [
        "print(peliculas_duracion(' titanic  '))\n",
        "print(peliculas_duracion('Avatar'))\n",
        "print(peliculas_duracion('Toy Story '))\n",
        "print(peliculas_duracion('12 Angry Men'))\n",
        "print(peliculas_duracion('20,000 Leagues undER the Sea'))\n",
        "print(peliculas_duracion('Cars'))\n",
        "print(peliculas_duracion(5))\n",
        "print(peliculas_duracion('adg  dg'))\n",
        "print(peliculas_duracion('Star Wars'))\n"
      ],
      "metadata": {
        "colab": {
          "base_uri": "https://localhost:8080/"
        },
        "id": "prsA1s0oLNwX",
        "outputId": "4e28a52b-be2b-4a5a-f7fa-9375b925fe81"
      },
      "execution_count": null,
      "outputs": [
        {
          "output_type": "stream",
          "name": "stdout",
          "text": [
            "{'Titanic': ['Duración: 98.0 min, Año: 1953', 'Duración: 173.0 min, Año: 1996', 'Duración: 194.0 min, Año: 1997']}\n",
            "{'Avatar': ['Duración: 162.0 min, Año: 2009']}\n",
            "{'Toy Story': ['Duración: 81.0 min, Año: 1995']}\n",
            "{'12 Angry Men': ['Duración: 96.0 min, Año: 1957', 'Duración: 117.0 min, Año: 1997']}\n",
            "{'20,000 Leagues Under The Sea': ['Duración: 105.0 min, Año: 1916', 'Duración: 127.0 min, Año: 1954', 'Duración: 158.0 min, Año: 1997', 'Duración: 95.0 min, Año: 1997']}\n",
            "{'Cars': ['Duración: 117.0 min, Año: 2006']}\n",
            "Invalid input: '5', please provide a valid movie name as a string.\n",
            "No 'adg  dg' movie found, please provide a valid movie name as a string.\n",
            "{'Star Wars': ['Duración: 121.0 min, Año: 1977']}\n"
          ]
        }
      ]
    },
    {
      "cell_type": "markdown",
      "source": [
        "# ***def franquicia***\n",
        "\n",
        "**Spanish**: <br>\n",
        "\n",
        "* def franquicia( Franquicia: str ): Se ingresa la franquicia, retornando la cantidad de peliculas, ganancia total y promedio\n",
        "* Ejemplo de retorno: La franquicia X posee X peliculas, una ganancia total de x y una ganancia promedio de xx\n",
        "\n",
        "**English**: <br>\n",
        "\n",
        "* def franchise( Franchise: str ): The franchise is entered, returning the number of movies, total and average profit\n",
        "* Return example: Franchise X owns X movies, a total profit of x and an average profit of xx\n",
        "\n"
      ],
      "metadata": {
        "id": "qVhw2-Bg0Jsp"
      }
    },
    {
      "cell_type": "code",
      "source": [
        "def franquicia(franquicia: str):\n",
        "    try:\n",
        "        if not isinstance(franquicia, str):\n",
        "            raise TypeError(\"Please provide a valid franchise name. It must be a string!\")\n",
        "\n",
        "        # Remove leading and trailing spaces from the franchise name and Convert the franchise name to lowercase\n",
        "        franchise = franquicia.strip().lower()\n",
        "\n",
        "        # selection = df_movies[df_movies['belongs_to_collection'].str.lower().str.contains(franchise, na=False)]  # El contains hace que falle la respuesta\n",
        "\n",
        "        selection = df_movies[df_movies['belongs_to_collection'].str.lower().str.fullmatch(franchise.lower(), na=False)]\n",
        "        # Select rows where the 'belongs_to_collection' column fullmatch the franchise name (case-insensitive)\n",
        "\n",
        "        if not selection.empty:\n",
        "            movies = selection.shape[0]  # Get the number of movies in the franchise\n",
        "            total_revenue = selection['revenue'].sum()  # Calculate the total revenue of the movies\n",
        "            average_revenue = selection['revenue'].mean()  # Calculate the average revenue per movie\n",
        "\n",
        "            return {franchise.title(): {'Number of movies': movies, 'Total revenue': total_revenue, 'Average revenue': average_revenue}}\n",
        "            # Return the formatted string with franchise information\n",
        "        else:\n",
        "            return {'Error': {'No franchise found': franchise}}\n",
        "            # Return a message indicating that no franchise was found with the given name\n",
        "    except TypeError as e:\n",
        "        return {'Error': {'TypeError': str(e)}}\n",
        "    except ValueError:\n",
        "        return {'No franchise found': {franchise: 'Franchise not found'}}\n"
      ],
      "metadata": {
        "id": "SDEQ6pgsRocG"
      },
      "execution_count": null,
      "outputs": []
    },
    {
      "cell_type": "code",
      "source": [
        "print(franquicia('star'))\n",
        "print(franquicia('star wars collection'))\n",
        "print(franquicia('Father of the Bride Collection'))\n",
        "print(franquicia('Zatôichi: The blind swordsman     '))\n",
        "print(franquicia(5))\n",
        "print(franquicia('Father of the Bride Collection'))\n",
        "print(franquicia('Toy Story Collection'))\n",
        "print(franquicia(745435243543))\n",
        "print(franquicia('Star Wars Collection'))\n"
      ],
      "metadata": {
        "colab": {
          "base_uri": "https://localhost:8080/"
        },
        "id": "OQoGxYZ-Li6E",
        "outputId": "003f7456-cbb8-484f-ec54-a4f96c2bdae6"
      },
      "execution_count": null,
      "outputs": [
        {
          "output_type": "stream",
          "name": "stdout",
          "text": [
            "{'Error': {'No franchise found': 'star'}}\n",
            "{'Star Wars Collection': {'Number of movies': 8, 'Total revenue': 7434494790.0, 'Average revenue': 929311848.75}}\n",
            "{'Father Of The Bride Collection': {'Number of movies': 2, 'Total revenue': 165904691.0, 'Average revenue': 82952345.5}}\n",
            "{'Zatôichi: The Blind Swordsman': {'Number of movies': 26, 'Total revenue': 0.0, 'Average revenue': 0.0}}\n",
            "{'Error': {'TypeError': 'Please provide a valid franchise name. It must be a string!'}}\n",
            "{'Father Of The Bride Collection': {'Number of movies': 2, 'Total revenue': 165904691.0, 'Average revenue': 82952345.5}}\n",
            "{'Toy Story Collection': {'Number of movies': 3, 'Total revenue': 1937890605.0, 'Average revenue': 645963535.0}}\n",
            "{'Error': {'TypeError': 'Please provide a valid franchise name. It must be a string!'}}\n",
            "{'Star Wars Collection': {'Number of movies': 8, 'Total revenue': 7434494790.0, 'Average revenue': 929311848.75}}\n"
          ]
        }
      ]
    },
    {
      "cell_type": "markdown",
      "source": [
        "# ***def peliculas_pais***\n",
        "\n",
        "**Spanish**: <br>\n",
        "\n",
        "* **def peliculas_pais( Pais: str )**: Se ingresa un país (como están escritos en el dataset, no hay que traducirlos!), retornando la cantidad de peliculas producidas en el mismo.\n",
        "\n",
        "* Ejemplo de retorno: Se produjeron X películas en el país X\n",
        "\n",
        "**English**: <br>\n",
        "\n",
        "* **def peliculas_pais( Country: str )**: Enter a country (as they are written in the dataset, you don't have to translate them!), returning the number of movies produced in it.\n",
        "\n",
        "* Example of return: X films were produced in country X"
      ],
      "metadata": {
        "id": "Ksh_sl4k18Ec"
      }
    },
    {
      "cell_type": "code",
      "source": [
        "def peliculas_pais(pais: str):\n",
        "    try:\n",
        "        if not isinstance(pais, str):\n",
        "            raise TypeError(\"please provide a valid country name. It must be a string!\")\n",
        "\n",
        "        # Remove leading and trailing spaces from the input country name and convert it to lowercase\n",
        "        country = pais.strip().title()\n",
        "\n",
        "        # Filter the DataFrame to get rows where 'production_countries' column contains the country\n",
        "        matching_movies = df_movies[df_movies['production_countries'].str.contains(country, case=False, na=False)]\n",
        "\n",
        "        # Count the number of matching movies\n",
        "        countries_count = matching_movies.shape[0]\n",
        "\n",
        "        if countries_count > 0:\n",
        "            # Return a dictionary with the movie count and country name\n",
        "            return {country: f\"{countries_count} movie{'s' if countries_count > 1 else ''}\"}\n",
        "        else:\n",
        "            # If no movies were found, return a message indicating that\n",
        "            return {'No movies were produced in': country}\n",
        "    except TypeError as e:\n",
        "        return {'Error': f\"Invalid input: {pais}, {str(e)}\"}\n",
        "    except Exception as e:\n",
        "        return {'Error': f\"Error retrieving movie data for {country}: {str(e)}\"}\n",
        "\n"
      ],
      "metadata": {
        "id": "-nd2DGpGSWuj"
      },
      "execution_count": null,
      "outputs": []
    },
    {
      "cell_type": "code",
      "source": [
        "print(peliculas_pais('United States of America'))\n",
        "print(peliculas_pais('Colombia'))\n",
        "print(peliculas_pais(3))\n",
        "print(peliculas_pais('adgdg   '))\n",
        "print(peliculas_pais('Canada'))\n",
        "print(peliculas_pais('Germany'))"
      ],
      "metadata": {
        "colab": {
          "base_uri": "https://localhost:8080/"
        },
        "id": "5BKOgAIZSZNP",
        "outputId": "5516f292-7c70-4377-97ff-20732e129dcb"
      },
      "execution_count": null,
      "outputs": [
        {
          "output_type": "stream",
          "name": "stdout",
          "text": [
            "{'United States Of America': '21134 movies'}\n",
            "{'Colombia': '34 movies'}\n",
            "{'Error': 'Invalid input: 3, please provide a valid country name. It must be a string!'}\n",
            "{'No movies were produced in': 'Adgdg'}\n",
            "{'Canada': '1765 movies'}\n",
            "{'Germany': '2255 movies'}\n"
          ]
        }
      ]
    },
    {
      "cell_type": "markdown",
      "source": [
        "\n",
        "# ***def productoras_exitosas***\n",
        "\n",
        "**Spanish**: <br>\n",
        "\n",
        "* **def productoras_exitosas(Productora: str ):**: Se ingresa la productora, entregandote el revenue total y la cantidad de peliculas que realizo.\n",
        "* Ejemplo de retorno: La productora X ha tenido un revenue de x\n",
        "\n",
        "**English**: <br>\n",
        "\n",
        "* **def successful_producers(Producer: str ):**: Enter the production company, giving you the total revenue and the number of films made.\n",
        "* Return example: Production company X has had a revenue of x\n",
        "                    "
      ],
      "metadata": {
        "id": "Cr12HdGK1-LE"
      }
    },
    {
      "cell_type": "code",
      "source": [
        "def productoras_exitosas(productora: str):\n",
        "    try:\n",
        "        # Check if the input is a valid string\n",
        "        if not isinstance(productora, str):\n",
        "            raise TypeError(\"Please provide a valid production company name. It must be a string.\")\n",
        "\n",
        "        # Remove leading and trailing spaces from the input production company name\n",
        "        productora = productora.strip()\n",
        "\n",
        "        # Convert the production company name to lowercase\n",
        "        productora = productora.lower()\n",
        "\n",
        "        # Filter the DataFrame to get rows where 'production_companies' column contains the lowercase production company name\n",
        "        matching_movies = df_movies[df_movies['production_companies'].str.lower().str.contains(productora, na=False)]\n",
        "\n",
        "        if not matching_movies.empty:\n",
        "            # Calculate the total revenue and number of movies for the matching production company\n",
        "            total_revenue = matching_movies['revenue'].sum()\n",
        "            movies_count = matching_movies.shape[0]\n",
        "\n",
        "            # Return a dictionary with the production company, total revenue, and number of movies\n",
        "            return {\n",
        "                'Production Company': productora.title(),\n",
        "                'Total Revenue': total_revenue,\n",
        "                'Number of movies': movies_count\n",
        "            }\n",
        "        else:\n",
        "            # If no matching production company is found, return an error message\n",
        "            return {'Error': f\"No successful production company found: '{productora.title()}'\"}\n",
        "\n",
        "    except TypeError as e:\n",
        "        # Return an error message for invalid input type\n",
        "        return {'Error': f\"Invalid input: '{productora}', {str(e)}\"}\n",
        "\n",
        "    except Exception as e:\n",
        "        # Return an error message for other exceptions\n",
        "        return {'Error': f\"No successful production company found: '{productora}', {str(e)}\"}\n"
      ],
      "metadata": {
        "id": "bk047roncEKh"
      },
      "execution_count": null,
      "outputs": []
    },
    {
      "cell_type": "code",
      "source": [
        "print(productoras_exitosas('Universal Pictures'))\n",
        "print(productoras_exitosas('Warner Bros    '))\n",
        "print(productoras_exitosas('pARaMounT Pictures'))\n",
        "print(productoras_exitosas('  Disney  '))\n",
        "print(productoras_exitosas('20th Century Fox'))\n",
        "print(productoras_exitosas(5))\n",
        "print(productoras_exitosas('afasfg')) # Error\n",
        "print(productoras_exitosas('20')) # Error con el contains.... verificar despues\n",
        "print(productoras_exitosas('TriStar Pictures')) # Jair 1 menos"
      ],
      "metadata": {
        "colab": {
          "base_uri": "https://localhost:8080/"
        },
        "id": "zNUQcd49WDpG",
        "outputId": "e1ae04ff-a4ce-4328-9600-8984ee47fb1f"
      },
      "execution_count": null,
      "outputs": [
        {
          "output_type": "stream",
          "name": "stdout",
          "text": [
            "{'Production Company': 'Universal Pictures', 'Total Revenue': 55420412907.0, 'Number of movies': 863}\n",
            "{'Production Company': 'Warner Bros', 'Total Revenue': 67477165267.0, 'Number of movies': 1376}\n",
            "{'Production Company': 'Paramount Pictures', 'Total Revenue': 48789399614.0, 'Number of movies': 1005}\n",
            "{'Production Company': 'Disney', 'Total Revenue': 48083899100.0, 'Number of movies': 507}\n",
            "{'Production Company': '20Th Century Fox', 'Total Revenue': 325377956.0, 'Number of movies': 52}\n",
            "{'Error': \"Invalid input: '5', Please provide a valid production company name. It must be a string.\"}\n",
            "{'Error': \"No successful production company found: 'Afasfg'\"}\n",
            "{'Production Company': '20', 'Total Revenue': 8019141195.0, 'Number of movies': 209}\n",
            "{'Production Company': 'Tristar Pictures', 'Total Revenue': 8022366764.0, 'Number of movies': 197}\n"
          ]
        }
      ]
    },
    {
      "cell_type": "markdown",
      "source": [
        "# ***def get_director***\n",
        "\n",
        "**Spanish**: <br>\n",
        "\n",
        "* **def get_director( nombre_director )**: Se ingresa el nombre de un director que se encuentre dentro de un dataset debiendo devolver el éxito del mismo medido a través del retorno. Además, deberá devolver el nombre de cada película con la fecha de lanzamiento, retorno individual, costo y ganancia de la misma, en formato lista.\n",
        "\n",
        "**English**: <br>\n",
        "\n",
        "* **def get_director( name_director )**: Enter the name of a director that is inside a dataset and must return the success of the same measured through the return. In addition, you must return the name of each film with the release date, individual return, cost and profit of the same, in list format.\n",
        "\n",
        "\n"
      ],
      "metadata": {
        "id": "Ld-9oTAh2DdL"
      }
    },
    {
      "cell_type": "code",
      "source": [
        "def get_director(director_name: str):\n",
        "    try:\n",
        "        # Check if a string is provided as input\n",
        "        if not isinstance(director_name, str):\n",
        "            raise ValueError(\"TypeError: Please provide a valid director name. It must be a string!\")\n",
        "\n",
        "        # Normalize the input director name\n",
        "        director_name = director_name.strip().title()\n",
        "\n",
        "        # Filter the DataFrame to select rows where the director name matches\n",
        "        matching_directors = df_movies[df_movies[\"director\"].str.title().apply(lambda directors: director_name in directors)]\n",
        "\n",
        "        # Check if the director was found in the dataset\n",
        "        if matching_directors.empty:\n",
        "            return {\"Error\": f\"Director '{director_name}' not found\"}\n",
        "\n",
        "        # Calculate the total number of movies for the director\n",
        "        total_movies = len(matching_directors)\n",
        "\n",
        "        # Calculate the success of the director based on the average return\n",
        "        director_success = matching_directors['revenue'].sum()\n",
        "\n",
        "        # Create a list of dictionaries containing movie details\n",
        "        director_movies = []\n",
        "        for index, row in matching_directors.iterrows():\n",
        "            movie_info = {\n",
        "                'Title': row['title'],\n",
        "                'Release date': row['release_date'],\n",
        "                'Return': row['return'],\n",
        "                'Budget': row['budget'],\n",
        "                'Revenue': row['revenue']\n",
        "            }\n",
        "            director_movies.append(movie_info)\n",
        "\n",
        "        # Return a dictionary with the director's success, total movies, and movie details\n",
        "        return {\"Director\": director_name, \"Success (Revenue)\": director_success, \"Total Movies\": total_movies, \"Movies\": director_movies}\n",
        "\n",
        "    except ValueError as e:\n",
        "        return str(e)\n"
      ],
      "metadata": {
        "id": "CPzkClEq0Bhz"
      },
      "execution_count": null,
      "outputs": []
    },
    {
      "cell_type": "code",
      "source": [
        "print(get_director('John Lasseter'))\n",
        "print(get_director('John Lassseter'))\n",
        "print(get_director('4'))\n",
        "print(get_director(5))\n",
        "#pd.DataFrame(get_director('John Lasseter'))\n",
        "print(get_director('Steven Spielberg'))\n"
      ],
      "metadata": {
        "id": "lCX4R7BLIZ2p",
        "colab": {
          "base_uri": "https://localhost:8080/"
        },
        "outputId": "9971e76e-2b2c-4bcf-8b0a-6bf4dffbde4a"
      },
      "execution_count": null,
      "outputs": [
        {
          "output_type": "stream",
          "name": "stdout",
          "text": [
            "{'Director': 'John Lasseter', 'Success (Revenue)': 2256015306.0, 'Total Movies': 10, 'Movies': [{'Title': 'Toy Story', 'Release date': '1995-10-30', 'Return': 12.4518011, 'Budget': 30000000.0, 'Revenue': 373554033.0}, {'Title': \"A Bug's Life\", 'Release date': '1998-11-25', 'Return': 3.027157158333333, 'Budget': 120000000.0, 'Revenue': 363258859.0}, {'Title': 'Toy Story 2', 'Release date': '1999-10-30', 'Return': 5.526298544444445, 'Budget': 90000000.0, 'Revenue': 497366869.0}, {'Title': 'Luxo Jr.', 'Release date': '1986-08-17', 'Return': 0.0, 'Budget': 0.0, 'Revenue': 0.0}, {'Title': 'Cars', 'Release date': '2006-06-08', 'Return': 3.849859575, 'Budget': 120000000.0, 'Revenue': 461983149.0}, {'Title': 'Cars 2', 'Release date': '2011-06-11', 'Return': 2.79926198, 'Budget': 200000000.0, 'Revenue': 559852396.0}, {'Title': 'Tin Toy', 'Release date': '1988-08-01', 'Return': 0.0, 'Budget': 0.0, 'Revenue': 0.0}, {'Title': \"Red's Dream\", 'Release date': '1987-08-17', 'Return': 0.0, 'Budget': 0.0, 'Revenue': 0.0}, {'Title': 'Knick Knack', 'Release date': '1989-01-01', 'Return': 0.0, 'Budget': 0.0, 'Revenue': 0.0}, {'Title': 'Mater and the Ghostlight', 'Release date': '2006-07-27', 'Return': 0.0, 'Budget': 0.0, 'Revenue': 0.0}]}\n",
            "{'Error': \"Director 'John Lassseter' not found\"}\n",
            "{'Error': \"Director '4' not found\"}\n",
            "TypeError: Please provide a valid director name. It must be a string!\n"
          ]
        }
      ]
    },
    {
      "cell_type": "markdown",
      "source": [
        "# **Recommendation System**:\n",
        "\n",
        "Once all the data is consumable by the API and ready to be consumed by the Analytics and Machine Learning departments, and our EDA (Exploratory Data Analysis) allows us to understand the available data well, it's time to train our machine learning model to build a movie recommendation system. The EDA should include interesting visualizations to extract insights, such as a word cloud with the most frequent words in movie titles.\n",
        "\n",
        "This recommendation system aims to recommend movies to users based on similar movies. It involves finding the similarity in ratings between a given movie and the rest of the movies. The movies will be sorted based on the similarity score, and the system will return a Python list with 5 values, each representing the name of the movies with the highest scores in descending order.\n",
        "\n",
        "This recommendation system should be deployed as an additional function in the previous API and should be named:\n",
        "\n",
        "**Spanish**: <br>\n",
        "\n",
        "* ***def recomendacion(titulo)***: Se ingresa el nombre de una película y te recomienda las similares en una lista de 5 valores.\n",
        "\n",
        "**English**: <br>\n",
        "\n",
        "* ***def recomendacion(title)***: Enter the name of a movie and it recommends similar ones in a list of 5 values."
      ],
      "metadata": {
        "id": "sLv3_UAuobWw"
      }
    },
    {
      "cell_type": "code",
      "source": [
        "# Importing necessary libraries\n",
        "from sklearn.metrics.pairwise        import cosine_similarity\n",
        "from sklearn.feature_extraction.text import TfidfVectorizer\n",
        "import ast"
      ],
      "metadata": {
        "id": "Azip90t1P8Lp"
      },
      "execution_count": null,
      "outputs": []
    },
    {
      "cell_type": "code",
      "source": [
        "df_movies_ml = pd.read_csv('dataset/df_movies_ml.csv', sep = ',')"
      ],
      "metadata": {
        "id": "8WhpXJGDQCLm"
      },
      "execution_count": null,
      "outputs": []
    },
    {
      "cell_type": "code",
      "source": [
        "def recomendacion(titulo: str):\n",
        "    # Verify if the title is a string\n",
        "    if not isinstance(titulo, str):\n",
        "        return {\"Error\": f\"'{titulo}' is not a string\"}\n",
        "\n",
        "    # Normalize the title\n",
        "    titulo = titulo.strip().title()\n",
        "\n",
        "    # Check if the title is present in the DataFrame\n",
        "    matching_movies = df_movies_ml[df_movies_ml['title'].str.title() == titulo]\n",
        "    if matching_movies.empty:\n",
        "        return {\"Error\": f\"The movie {titulo} was not found\"}\n",
        "\n",
        "    recommendations_dict = {}\n",
        "\n",
        "    # Iterate over the matching movies\n",
        "    for _, movie in matching_movies.iterrows():\n",
        "        movie_title = movie['title']\n",
        "        movie_anio = movie['release_year']\n",
        "        movie_id = movie['id']\n",
        "        movie_genre = ast.literal_eval(movie[\"genres\"])\n",
        "\n",
        "        # Check if the movie has at least one genre\n",
        "        if len(movie_genre) == 0:\n",
        "            return {\"Error\": f\"No recommendations found for the movie {titulo}\"}\n",
        "\n",
        "        # Filter movies with the same genres as the current movie\n",
        "        filtered_movies = df_movies_ml[df_movies_ml['genres'].apply(lambda x: len(ast.literal_eval(x)) == len(movie_genre) and ast.literal_eval(x) == movie_genre)]\n",
        "\n",
        "        # Reset the index of the filtered DataFrame\n",
        "        filtered_movies = filtered_movies.reset_index(drop=True)\n",
        "\n",
        "        # Create a TF-IDF vectorizer for movie features (title and overview)\n",
        "        tfidf = TfidfVectorizer(stop_words='english')\n",
        "\n",
        "        # Combine the features (title and overview) into a single field\n",
        "        filtered_movies['combined_features'] = filtered_movies['title'] + ' ' + filtered_movies['overview'].fillna('')\n",
        "\n",
        "        # Calculate the TF-IDF matrix of the features\n",
        "        tfidf_matrix = tfidf.fit_transform(filtered_movies['combined_features'])\n",
        "\n",
        "        # Get the index corresponding to the movie ID of the input movie\n",
        "        movie_index = filtered_movies[filtered_movies['id'] == movie_id].index[0]\n",
        "\n",
        "        # Calculate the cosine similarity between the input movie and the filtered movies\n",
        "        similarities = cosine_similarity(tfidf_matrix[movie_index], tfidf_matrix).flatten()\n",
        "\n",
        "        # Get the indices of the top 5 most similar movies (excluding the input movie)\n",
        "        top_indices = similarities.argsort()[-6:-1][::-1]\n",
        "\n",
        "        recommendations = {}\n",
        "        # Create a dictionary of recommendations for the current movie\n",
        "        for idx in top_indices:\n",
        "            rec_movie_title = filtered_movies.iloc[idx]['title']\n",
        "            rec_movie_genres = filtered_movies.iloc[idx]['genres']\n",
        "            rec_movie_vote_average = filtered_movies.iloc[idx]['vote_average']\n",
        "            recommendations[rec_movie_title] = {'genres': rec_movie_genres, 'vote_average': rec_movie_vote_average}\n",
        "\n",
        "        # Add the recommendations for the current movie to the final recommendations dictionary\n",
        "        recommendations_dict[f\"{movie_title}, year {movie_anio}\"] = recommendations\n",
        "\n",
        "    # Return the final dictionary containing recommendations for each movie matching the input title\n",
        "    return recommendations_dict\n"
      ],
      "metadata": {
        "id": "WB6AlZdrN0OZ"
      },
      "execution_count": null,
      "outputs": []
    }
  ]
}