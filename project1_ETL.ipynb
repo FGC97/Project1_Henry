{
  "nbformat": 4,
  "nbformat_minor": 0,
  "metadata": {
    "colab": {
      "provenance": [],
      "authorship_tag": "ABX9TyPaCgGtuXAw+mC9jWC/dryN",
      "include_colab_link": true
    },
    "kernelspec": {
      "name": "python3",
      "display_name": "Python 3"
    },
    "language_info": {
      "name": "python"
    }
  },
  "cells": [
    {
      "cell_type": "markdown",
      "metadata": {
        "id": "view-in-github",
        "colab_type": "text"
      },
      "source": [
        "<a href=\"https://colab.research.google.com/github/FGC97/project1_Henry/blob/main/project1_ETL.ipynb\" target=\"_parent\"><img src=\"https://colab.research.google.com/assets/colab-badge.svg\" alt=\"Open In Colab\"/></a>"
      ]
    },
    {
      "cell_type": "code",
      "source": [
        "# Importing libraries\n",
        "import pandas as pd\n",
        "import ast\n",
        "import math\n",
        "import numpy as np"
      ],
      "metadata": {
        "id": "b3rR4_kC6S5b"
      },
      "execution_count": null,
      "outputs": []
    },
    {
      "cell_type": "code",
      "source": [
        "# Drive\n",
        "# from google.colab import drive\n",
        "# drive.mount('/content/drive')\n",
        "\n",
        "# credits = pd.read_csv('/content/drive/MyDrive/Proyectos Henry/ML_Ops_Project/credits.csv', sep = ',')\n",
        "# movies = pd.read_csv('/content/drive/MyDrive/Proyectos Henry/ML_Ops_Project/movies_dataset.csv', sep = ',')"
      ],
      "metadata": {
        "id": "hA8UE-CFjeE_"
      },
      "execution_count": null,
      "outputs": []
    },
    {
      "cell_type": "code",
      "source": [
        "# Reading the 'credits.csv' file and storing the data in the 'credits' DataFrame\n",
        "credits = pd.read_csv('dataset/credits.csv', sep=',')\n",
        "\n",
        "# # Reading the 'movies_dataset.csv' file and storing the data in the 'movies' DataFrame\n",
        "movies = pd.read_csv('dataset/movies_dataset.csv', sep=',')"
      ],
      "metadata": {
        "id": "Htpo3qNF6S2j"
      },
      "execution_count": null,
      "outputs": []
    },
    {
      "cell_type": "code",
      "source": [
        "print(credits.info())\n",
        "print(movies.info())"
      ],
      "metadata": {
        "id": "520LwycM6SyI"
      },
      "execution_count": null,
      "outputs": []
    },
    {
      "cell_type": "markdown",
      "source": [
        "# **Unpacking nested lists of dictionaries**\n",
        "\n",
        "\n"
      ],
      "metadata": {
        "id": "AlAi7PesjvBo"
      }
    },
    {
      "cell_type": "markdown",
      "source": [
        "# Data Frame ***credits.csv***"
      ],
      "metadata": {
        "id": "NaOjzlyskJm_"
      }
    },
    {
      "cell_type": "markdown",
      "source": [
        "\n",
        "## Column Crew: Extracting Directors\n",
        "To extract the directors from the crew list, we can define a function called get_directors that iterates over each dictionary in the crew list and returns a list of director names."
      ],
      "metadata": {
        "id": "iXBpkEuFpui7"
      }
    },
    {
      "cell_type": "code",
      "source": [
        "# Verifying the data of the elements of \"crew\" and \"cast\". They are a list of dictionaries in string format.\n",
        "\n",
        "print(type(credits['crew'][0]))\n",
        "print(type(credits['cast'][0]))"
      ],
      "metadata": {
        "colab": {
          "base_uri": "https://localhost:8080/"
        },
        "id": "bcfblHCIWqyG",
        "outputId": "57e94996-1541-42a5-b5cc-3995180375d7"
      },
      "execution_count": null,
      "outputs": [
        {
          "output_type": "stream",
          "name": "stdout",
          "text": [
            "<class 'str'>\n",
            "<class 'str'>\n"
          ]
        }
      ]
    },
    {
      "cell_type": "code",
      "source": [
        "# Verifying the value of the second row\n",
        "type(credits['crew'][1])\n",
        "\n",
        "# Applying the ast.literal_eval function to convert the values in the 'crew' column\n",
        "# from their string representation to a list of dictionaries\n",
        "\n",
        "credits['crew'] = credits['crew'].apply(ast.literal_eval)"
      ],
      "metadata": {
        "id": "bdtwTlrDCKNV"
      },
      "execution_count": null,
      "outputs": []
    },
    {
      "cell_type": "code",
      "source": [
        "# Creating a function to iterate through each dictionary in the \"crew\" list and return a list of directors for each movie:\n",
        "def get_directors(crew):\n",
        "    directors = []\n",
        "    for member in crew:\n",
        "        if member[\"job\"] == \"Director\":\n",
        "            directors.append(member[\"name\"])\n",
        "    return directors\n",
        "\n",
        "# Creating a new column in the \"credits\" dataframe by applying the \"get_directors\" function to each record in the \"crew\" column:\n",
        "credits['director'] = credits['crew'].apply(get_directors)\n",
        "\n"
      ],
      "metadata": {
        "id": "8m3qvS8RCdYq"
      },
      "execution_count": null,
      "outputs": []
    },
    {
      "cell_type": "code",
      "source": [
        "credits.head(3)"
      ],
      "metadata": {
        "colab": {
          "base_uri": "https://localhost:8080/",
          "height": 143
        },
        "id": "AqfxNRUtpqGC",
        "outputId": "8b22fd17-4da2-496b-bff1-5408edcb1006"
      },
      "execution_count": null,
      "outputs": [
        {
          "output_type": "execute_result",
          "data": {
            "text/plain": [
              "                                                cast  \\\n",
              "0  [{'cast_id': 14, 'character': 'Woody (voice)',...   \n",
              "1  [{'cast_id': 1, 'character': 'Alan Parrish', '...   \n",
              "2  [{'cast_id': 2, 'character': 'Max Goldman', 'c...   \n",
              "\n",
              "                                                crew     id         director  \n",
              "0  [{'credit_id': '52fe4284c3a36847f8024f49', 'de...    862  [John Lasseter]  \n",
              "1  [{'credit_id': '52fe44bfc3a36847f80a7cd1', 'de...   8844   [Joe Johnston]  \n",
              "2  [{'credit_id': '52fe466a9251416c75077a89', 'de...  15602  [Howard Deutch]  "
            ],
            "text/html": [
              "\n",
              "  <div id=\"df-3d3887ce-d7fc-4943-8c4b-c538383b0391\">\n",
              "    <div class=\"colab-df-container\">\n",
              "      <div>\n",
              "<style scoped>\n",
              "    .dataframe tbody tr th:only-of-type {\n",
              "        vertical-align: middle;\n",
              "    }\n",
              "\n",
              "    .dataframe tbody tr th {\n",
              "        vertical-align: top;\n",
              "    }\n",
              "\n",
              "    .dataframe thead th {\n",
              "        text-align: right;\n",
              "    }\n",
              "</style>\n",
              "<table border=\"1\" class=\"dataframe\">\n",
              "  <thead>\n",
              "    <tr style=\"text-align: right;\">\n",
              "      <th></th>\n",
              "      <th>cast</th>\n",
              "      <th>crew</th>\n",
              "      <th>id</th>\n",
              "      <th>director</th>\n",
              "    </tr>\n",
              "  </thead>\n",
              "  <tbody>\n",
              "    <tr>\n",
              "      <th>0</th>\n",
              "      <td>[{'cast_id': 14, 'character': 'Woody (voice)',...</td>\n",
              "      <td>[{'credit_id': '52fe4284c3a36847f8024f49', 'de...</td>\n",
              "      <td>862</td>\n",
              "      <td>[John Lasseter]</td>\n",
              "    </tr>\n",
              "    <tr>\n",
              "      <th>1</th>\n",
              "      <td>[{'cast_id': 1, 'character': 'Alan Parrish', '...</td>\n",
              "      <td>[{'credit_id': '52fe44bfc3a36847f80a7cd1', 'de...</td>\n",
              "      <td>8844</td>\n",
              "      <td>[Joe Johnston]</td>\n",
              "    </tr>\n",
              "    <tr>\n",
              "      <th>2</th>\n",
              "      <td>[{'cast_id': 2, 'character': 'Max Goldman', 'c...</td>\n",
              "      <td>[{'credit_id': '52fe466a9251416c75077a89', 'de...</td>\n",
              "      <td>15602</td>\n",
              "      <td>[Howard Deutch]</td>\n",
              "    </tr>\n",
              "  </tbody>\n",
              "</table>\n",
              "</div>\n",
              "      <button class=\"colab-df-convert\" onclick=\"convertToInteractive('df-3d3887ce-d7fc-4943-8c4b-c538383b0391')\"\n",
              "              title=\"Convert this dataframe to an interactive table.\"\n",
              "              style=\"display:none;\">\n",
              "        \n",
              "  <svg xmlns=\"http://www.w3.org/2000/svg\" height=\"24px\"viewBox=\"0 0 24 24\"\n",
              "       width=\"24px\">\n",
              "    <path d=\"M0 0h24v24H0V0z\" fill=\"none\"/>\n",
              "    <path d=\"M18.56 5.44l.94 2.06.94-2.06 2.06-.94-2.06-.94-.94-2.06-.94 2.06-2.06.94zm-11 1L8.5 8.5l.94-2.06 2.06-.94-2.06-.94L8.5 2.5l-.94 2.06-2.06.94zm10 10l.94 2.06.94-2.06 2.06-.94-2.06-.94-.94-2.06-.94 2.06-2.06.94z\"/><path d=\"M17.41 7.96l-1.37-1.37c-.4-.4-.92-.59-1.43-.59-.52 0-1.04.2-1.43.59L10.3 9.45l-7.72 7.72c-.78.78-.78 2.05 0 2.83L4 21.41c.39.39.9.59 1.41.59.51 0 1.02-.2 1.41-.59l7.78-7.78 2.81-2.81c.8-.78.8-2.07 0-2.86zM5.41 20L4 18.59l7.72-7.72 1.47 1.35L5.41 20z\"/>\n",
              "  </svg>\n",
              "      </button>\n",
              "      \n",
              "  <style>\n",
              "    .colab-df-container {\n",
              "      display:flex;\n",
              "      flex-wrap:wrap;\n",
              "      gap: 12px;\n",
              "    }\n",
              "\n",
              "    .colab-df-convert {\n",
              "      background-color: #E8F0FE;\n",
              "      border: none;\n",
              "      border-radius: 50%;\n",
              "      cursor: pointer;\n",
              "      display: none;\n",
              "      fill: #1967D2;\n",
              "      height: 32px;\n",
              "      padding: 0 0 0 0;\n",
              "      width: 32px;\n",
              "    }\n",
              "\n",
              "    .colab-df-convert:hover {\n",
              "      background-color: #E2EBFA;\n",
              "      box-shadow: 0px 1px 2px rgba(60, 64, 67, 0.3), 0px 1px 3px 1px rgba(60, 64, 67, 0.15);\n",
              "      fill: #174EA6;\n",
              "    }\n",
              "\n",
              "    [theme=dark] .colab-df-convert {\n",
              "      background-color: #3B4455;\n",
              "      fill: #D2E3FC;\n",
              "    }\n",
              "\n",
              "    [theme=dark] .colab-df-convert:hover {\n",
              "      background-color: #434B5C;\n",
              "      box-shadow: 0px 1px 3px 1px rgba(0, 0, 0, 0.15);\n",
              "      filter: drop-shadow(0px 1px 2px rgba(0, 0, 0, 0.3));\n",
              "      fill: #FFFFFF;\n",
              "    }\n",
              "  </style>\n",
              "\n",
              "      <script>\n",
              "        const buttonEl =\n",
              "          document.querySelector('#df-3d3887ce-d7fc-4943-8c4b-c538383b0391 button.colab-df-convert');\n",
              "        buttonEl.style.display =\n",
              "          google.colab.kernel.accessAllowed ? 'block' : 'none';\n",
              "\n",
              "        async function convertToInteractive(key) {\n",
              "          const element = document.querySelector('#df-3d3887ce-d7fc-4943-8c4b-c538383b0391');\n",
              "          const dataTable =\n",
              "            await google.colab.kernel.invokeFunction('convertToInteractive',\n",
              "                                                     [key], {});\n",
              "          if (!dataTable) return;\n",
              "\n",
              "          const docLinkHtml = 'Like what you see? Visit the ' +\n",
              "            '<a target=\"_blank\" href=https://colab.research.google.com/notebooks/data_table.ipynb>data table notebook</a>'\n",
              "            + ' to learn more about interactive tables.';\n",
              "          element.innerHTML = '';\n",
              "          dataTable['output_type'] = 'display_data';\n",
              "          await google.colab.output.renderOutput(dataTable, element);\n",
              "          const docLink = document.createElement('div');\n",
              "          docLink.innerHTML = docLinkHtml;\n",
              "          element.appendChild(docLink);\n",
              "        }\n",
              "      </script>\n",
              "    </div>\n",
              "  </div>\n",
              "  "
            ]
          },
          "metadata": {},
          "execution_count": 14
        }
      ]
    },
    {
      "cell_type": "markdown",
      "source": [
        "## Column Cast: Extracting Actors\n",
        "\n",
        "To extract the actors from the cast list, we can define a function called get_actors that iterates over each dictionary in the cast list and returns a list of actor names."
      ],
      "metadata": {
        "id": "PSbf2A6Wp8AI"
      }
    },
    {
      "cell_type": "code",
      "source": [
        "# Verifying the value of the second row for cast\n",
        "type(credits['cast'][1])\n",
        "\n",
        "# Applying ast.literal_eval to convert 'cast' column to a list\n",
        "credits['cast'] = credits['cast'].apply(ast.literal_eval)"
      ],
      "metadata": {
        "id": "QIcMXwBjqFau"
      },
      "execution_count": null,
      "outputs": []
    },
    {
      "cell_type": "code",
      "source": [
        "# Function to extract actors from 'cast' list\n",
        "def get_actors(cast):\n",
        "    actor_names = []\n",
        "    for actor in cast:\n",
        "        if 'name' in actor:\n",
        "            actor_names.append(actor['name'])\n",
        "    return actor_names\n",
        "\n",
        "# Applying the 'get_actors' function to create a new column 'actors' in the 'credits' DataFrame\n",
        "credits['actors'] = credits['cast'].apply(get_actors)\n"
      ],
      "metadata": {
        "id": "wTJK4kZmUKbk"
      },
      "execution_count": null,
      "outputs": []
    },
    {
      "cell_type": "code",
      "source": [
        "print(credits.head(3))"
      ],
      "metadata": {
        "colab": {
          "base_uri": "https://localhost:8080/"
        },
        "id": "vIHFm2O5rScw",
        "outputId": "dc089b5b-db13-4a7b-b383-c60b5fed2618"
      },
      "execution_count": null,
      "outputs": [
        {
          "output_type": "stream",
          "name": "stdout",
          "text": [
            "                                                cast  \\\n",
            "0  [{'cast_id': 14, 'character': 'Woody (voice)',...   \n",
            "1  [{'cast_id': 1, 'character': 'Alan Parrish', '...   \n",
            "2  [{'cast_id': 2, 'character': 'Max Goldman', 'c...   \n",
            "\n",
            "                                                crew     id         director  \\\n",
            "0  [{'credit_id': '52fe4284c3a36847f8024f49', 'de...    862  [John Lasseter]   \n",
            "1  [{'credit_id': '52fe44bfc3a36847f80a7cd1', 'de...   8844   [Joe Johnston]   \n",
            "2  [{'credit_id': '52fe466a9251416c75077a89', 'de...  15602  [Howard Deutch]   \n",
            "\n",
            "                                              actors  \n",
            "0  [Tom Hanks, Tim Allen, Don Rickles, Jim Varney...  \n",
            "1  [Robin Williams, Jonathan Hyde, Kirsten Dunst,...  \n",
            "2  [Walter Matthau, Jack Lemmon, Ann-Margret, Sop...  \n"
          ]
        }
      ]
    },
    {
      "cell_type": "markdown",
      "source": [
        "## Cleaning Credits Data Frame"
      ],
      "metadata": {
        "id": "kKv6cK-XWcqx"
      }
    },
    {
      "cell_type": "code",
      "source": [
        "# Remove the 'cast' and 'crew' columns from the DataFrame called credits.\n",
        "credits = credits.drop(['cast', 'crew'], axis=1)\n",
        "\n",
        "print(credits.head(3))\n",
        "print(credits.info())\n",
        "\n",
        "\n",
        "# Checks for null values\n",
        "print(credits.isnull().sum())"
      ],
      "metadata": {
        "id": "aEXiX3a5sfo7",
        "colab": {
          "base_uri": "https://localhost:8080/"
        },
        "outputId": "9163a023-2c91-4d55-8326-5559ea10558e"
      },
      "execution_count": null,
      "outputs": [
        {
          "output_type": "stream",
          "name": "stdout",
          "text": [
            "      id         director                                             actors\n",
            "0    862  [John Lasseter]  [Tom Hanks, Tim Allen, Don Rickles, Jim Varney...\n",
            "1   8844   [Joe Johnston]  [Robin Williams, Jonathan Hyde, Kirsten Dunst,...\n",
            "2  15602  [Howard Deutch]  [Walter Matthau, Jack Lemmon, Ann-Margret, Sop...\n",
            "<class 'pandas.core.frame.DataFrame'>\n",
            "RangeIndex: 45476 entries, 0 to 45475\n",
            "Data columns (total 3 columns):\n",
            " #   Column    Non-Null Count  Dtype \n",
            "---  ------    --------------  ----- \n",
            " 0   id        45476 non-null  int64 \n",
            " 1   director  45476 non-null  object\n",
            " 2   actors    45476 non-null  object\n",
            "dtypes: int64(1), object(2)\n",
            "memory usage: 1.0+ MB\n",
            "None\n",
            "id          0\n",
            "director    0\n",
            "actors      0\n",
            "dtype: int64\n"
          ]
        }
      ]
    },
    {
      "cell_type": "markdown",
      "source": [
        "# Data Frame ***movies.csv***"
      ],
      "metadata": {
        "id": "HG0k7GjRru9t"
      }
    },
    {
      "cell_type": "code",
      "source": [
        "# Function to convert a string to a list, handling null values.\n",
        "\n",
        "def convert_to_dict(value):\n",
        "    if pd.notnull(value):\n",
        "        try:\n",
        "            return ast.literal_eval(value)\n",
        "        except (ValueError, SyntaxError):\n",
        "            return None\n",
        "    else:\n",
        "        return None"
      ],
      "metadata": {
        "id": "fbbhVBQZP6nj"
      },
      "execution_count": null,
      "outputs": []
    },
    {
      "cell_type": "markdown",
      "source": [
        "## **belongs_to_collection** column"
      ],
      "metadata": {
        "id": "A9wVnwRKBYXL"
      }
    },
    {
      "cell_type": "code",
      "source": [
        "movies.info()"
      ],
      "metadata": {
        "id": "JQSXHrK928LR",
        "colab": {
          "base_uri": "https://localhost:8080/"
        },
        "outputId": "081be001-631c-4d10-e3b6-9f106a23b547"
      },
      "execution_count": null,
      "outputs": [
        {
          "output_type": "stream",
          "name": "stdout",
          "text": [
            "<class 'pandas.core.frame.DataFrame'>\n",
            "RangeIndex: 45466 entries, 0 to 45465\n",
            "Data columns (total 24 columns):\n",
            " #   Column                 Non-Null Count  Dtype  \n",
            "---  ------                 --------------  -----  \n",
            " 0   adult                  45466 non-null  object \n",
            " 1   belongs_to_collection  4494 non-null   object \n",
            " 2   budget                 45466 non-null  object \n",
            " 3   genres                 45466 non-null  object \n",
            " 4   homepage               7782 non-null   object \n",
            " 5   id                     45466 non-null  object \n",
            " 6   imdb_id                45449 non-null  object \n",
            " 7   original_language      45455 non-null  object \n",
            " 8   original_title         45466 non-null  object \n",
            " 9   overview               44512 non-null  object \n",
            " 10  popularity             45461 non-null  object \n",
            " 11  poster_path            45080 non-null  object \n",
            " 12  production_companies   45463 non-null  object \n",
            " 13  production_countries   45463 non-null  object \n",
            " 14  release_date           45379 non-null  object \n",
            " 15  revenue                45460 non-null  float64\n",
            " 16  runtime                45203 non-null  float64\n",
            " 17  spoken_languages       45460 non-null  object \n",
            " 18  status                 45379 non-null  object \n",
            " 19  tagline                20412 non-null  object \n",
            " 20  title                  45460 non-null  object \n",
            " 21  video                  45460 non-null  object \n",
            " 22  vote_average           45460 non-null  float64\n",
            " 23  vote_count             45460 non-null  float64\n",
            "dtypes: float64(4), object(20)\n",
            "memory usage: 8.3+ MB\n"
          ]
        }
      ]
    },
    {
      "cell_type": "code",
      "source": [
        "# Verifying the data of the elements of \"belongs_to_collection\". They are a list of dictionaries in string format.\n",
        "print(movies['belongs_to_collection'][0])\n",
        "type(movies['belongs_to_collection'][0])"
      ],
      "metadata": {
        "id": "ZPR_-6g27Nm_",
        "colab": {
          "base_uri": "https://localhost:8080/"
        },
        "outputId": "5f72949b-cbac-4491-d726-fc4057d23204"
      },
      "execution_count": null,
      "outputs": [
        {
          "output_type": "stream",
          "name": "stdout",
          "text": [
            "{'id': 10194, 'name': 'Toy Story Collection', 'poster_path': '/7G9915LfUQ2lVfwMEEhDsn3kT4B.jpg', 'backdrop_path': '/9FBwqcd9IRruEDUrTdcaafOMKUq.jpg'}\n"
          ]
        },
        {
          "output_type": "execute_result",
          "data": {
            "text/plain": [
              "str"
            ]
          },
          "metadata": {},
          "execution_count": 21
        }
      ]
    },
    {
      "cell_type": "code",
      "source": [
        "movies['belongs_to_collection'].head(5)"
      ],
      "metadata": {
        "id": "LylJwBumTzO2",
        "colab": {
          "base_uri": "https://localhost:8080/"
        },
        "outputId": "df0c15ef-dbe2-4115-9a13-d01f01d4821b"
      },
      "execution_count": null,
      "outputs": [
        {
          "output_type": "execute_result",
          "data": {
            "text/plain": [
              "0    {'id': 10194, 'name': 'Toy Story Collection', ...\n",
              "1                                                  NaN\n",
              "2    {'id': 119050, 'name': 'Grumpy Old Men Collect...\n",
              "3                                                  NaN\n",
              "4    {'id': 96871, 'name': 'Father of the Bride Col...\n",
              "Name: belongs_to_collection, dtype: object"
            ]
          },
          "metadata": {},
          "execution_count": 22
        }
      ]
    },
    {
      "cell_type": "code",
      "source": [
        "# Applying the function to convert from string to list\n",
        "movies['belongs_to_collection'] = movies['belongs_to_collection'].apply(convert_to_dict)"
      ],
      "metadata": {
        "id": "uhLbcgbMfdHt"
      },
      "execution_count": null,
      "outputs": []
    },
    {
      "cell_type": "code",
      "source": [
        "# I want to extract the names of the collections but it fails for 3 Float data\n",
        "# collection_names = movies['belongs_to_collection'].apply(lambda x: x['name'] if x is not None else None)\n",
        "# collection_names\n",
        "\n",
        "\n",
        "# I check where those float values are, by their index\n",
        "for index, row in movies.iterrows():\n",
        "    if isinstance(row[\"belongs_to_collection\"], float):\n",
        "        print(index, row[\"belongs_to_collection\"])\n",
        "\n"
      ],
      "metadata": {
        "id": "jC9LpJTyQ1Aq",
        "colab": {
          "base_uri": "https://localhost:8080/"
        },
        "outputId": "5377cb49-c0e4-4b03-aa1f-18c30600142f"
      },
      "execution_count": null,
      "outputs": [
        {
          "output_type": "stream",
          "name": "stdout",
          "text": [
            "19730 0.065736\n",
            "29503 1.931659\n",
            "35587 2.185485\n"
          ]
        }
      ]
    },
    {
      "cell_type": "code",
      "source": [
        "# Counting the number of values in the column\n",
        "print(len(movies['belongs_to_collection']))\n",
        "\n",
        "# Counting the number of values in the dataframe\n",
        "print(len(movies))\n",
        "# 45466"
      ],
      "metadata": {
        "colab": {
          "base_uri": "https://localhost:8080/"
        },
        "id": "EXqVMOHuU7zO",
        "outputId": "25168369-21dd-460a-bda8-bd57a597ab66"
      },
      "execution_count": null,
      "outputs": [
        {
          "output_type": "stream",
          "name": "stdout",
          "text": [
            "45466\n",
            "45466\n"
          ]
        }
      ]
    },
    {
      "cell_type": "code",
      "source": [
        "# I remove those 3 rows from the whole dataframe since they had changed values and may generate future errors.\n",
        "movies = movies.drop(movies[movies['belongs_to_collection'].apply(lambda x: isinstance(x, float))].index)"
      ],
      "metadata": {
        "id": "J-eFXCTrXLeK"
      },
      "execution_count": null,
      "outputs": []
    },
    {
      "cell_type": "code",
      "source": [
        "# Counting the number of values in the dataframe to verify the droped ones.\n",
        "print(len(movies))\n",
        "# 45463\n"
      ],
      "metadata": {
        "colab": {
          "base_uri": "https://localhost:8080/"
        },
        "id": "Knu2TbuXXhdQ",
        "outputId": "3310464e-9104-435b-aa48-dd30206ccc72"
      },
      "execution_count": null,
      "outputs": [
        {
          "output_type": "stream",
          "name": "stdout",
          "text": [
            "45463\n"
          ]
        }
      ]
    },
    {
      "cell_type": "code",
      "source": [
        "# Define the function to extract franchise names\n",
        "# This function assumes that float values have already been removed, so it is not necessary to check if the value is float or nan.\n",
        "def extract_name(collection):\n",
        "    if isinstance(collection, dict):\n",
        "        return collection.get('name')\n",
        "    return None\n",
        "\n",
        "# def extract_name(collection):\n",
        "#     if isinstance(collection, dict):\n",
        "#         return collection['name']  # If the collection is a dictionary, return the value associated with the key 'name'\n",
        "#     elif isinstance(collection, float) and math.isnan(collection):\n",
        "#         return None  # If the collection is a NaN (Not a Number) float value, return None\n",
        "#     else:\n",
        "#         return None  # For any other case, return None\n",
        "\n",
        "\n",
        "# Apply the function to the column to extract the names and replace it\n",
        "movies['belongs_to_collection'] = movies['belongs_to_collection'].apply(extract_name)\n",
        "\n",
        "print(movies['belongs_to_collection'])\n"
      ],
      "metadata": {
        "colab": {
          "base_uri": "https://localhost:8080/"
        },
        "id": "APMGQGAbVs8N",
        "outputId": "1251bb1c-c9ce-4166-ff43-eb5fa88f12da"
      },
      "execution_count": null,
      "outputs": [
        {
          "output_type": "stream",
          "name": "stdout",
          "text": [
            "0                  Toy Story Collection\n",
            "1                                  None\n",
            "2             Grumpy Old Men Collection\n",
            "3                                  None\n",
            "4        Father of the Bride Collection\n",
            "                      ...              \n",
            "45461                              None\n",
            "45462                              None\n",
            "45463                              None\n",
            "45464                              None\n",
            "45465                              None\n",
            "Name: belongs_to_collection, Length: 45463, dtype: object\n"
          ]
        }
      ]
    },
    {
      "cell_type": "code",
      "source": [
        "# Veryfing count of non-null records\n",
        "non_null_count = len(movies['belongs_to_collection']) - movies['belongs_to_collection'].isnull().sum()\n",
        "print(non_null_count)\n"
      ],
      "metadata": {
        "colab": {
          "base_uri": "https://localhost:8080/"
        },
        "id": "SOIko0R4X2ZD",
        "outputId": "d897083b-fd9d-4cb6-b02f-f606c39f7167"
      },
      "execution_count": null,
      "outputs": [
        {
          "output_type": "stream",
          "name": "stdout",
          "text": [
            "4491\n"
          ]
        }
      ]
    },
    {
      "cell_type": "markdown",
      "source": [
        "## **genres** column"
      ],
      "metadata": {
        "id": "kOp3Pm8xC87c"
      }
    },
    {
      "cell_type": "code",
      "source": [
        "# Checks for null values\n",
        "movies['genres'].isnull().sum()"
      ],
      "metadata": {
        "colab": {
          "base_uri": "https://localhost:8080/"
        },
        "id": "CrCztGmKCgjU",
        "outputId": "993532cb-b20e-49cc-c565-29c04cf3e0fd"
      },
      "execution_count": null,
      "outputs": [
        {
          "output_type": "execute_result",
          "data": {
            "text/plain": [
              "0"
            ]
          },
          "metadata": {},
          "execution_count": 30
        }
      ]
    },
    {
      "cell_type": "code",
      "source": [
        "# Verifying the data of the elements of \"genres\". They are a list of dictionaries in string format.\n",
        "print(movies['genres'][0])\n",
        "type(movies['genres'][0])"
      ],
      "metadata": {
        "colab": {
          "base_uri": "https://localhost:8080/"
        },
        "id": "ui07oCpiD2B5",
        "outputId": "852a3c5f-e041-4651-e958-d8b53272b631"
      },
      "execution_count": null,
      "outputs": [
        {
          "output_type": "stream",
          "name": "stdout",
          "text": [
            "[{'id': 16, 'name': 'Animation'}, {'id': 35, 'name': 'Comedy'}, {'id': 10751, 'name': 'Family'}]\n"
          ]
        },
        {
          "output_type": "execute_result",
          "data": {
            "text/plain": [
              "str"
            ]
          },
          "metadata": {},
          "execution_count": 31
        }
      ]
    },
    {
      "cell_type": "code",
      "source": [
        "# Using the created function to convert the 'genres' column into a list of dictionaries\n",
        "movies['genres'] = movies['genres'].apply(convert_to_dict)"
      ],
      "metadata": {
        "id": "Ia5LXGT6EZtW"
      },
      "execution_count": null,
      "outputs": []
    },
    {
      "cell_type": "code",
      "source": [
        "# Creating a function that iterates over each dictionary in the \"genres\" list and returns a list of genres for each movie, intended for the ML model.\n",
        "def get_genres(movie_genres):\n",
        "    genres_list = []\n",
        "    for genre in movie_genres:\n",
        "        genres_list.append(genre['name'])\n",
        "    return genres_list\n",
        "\n",
        "# Creating a new column in the \"movies\" DataFrame by applying the \"get_genres\" function to each record in the \"genres\" column:\n",
        "movies['genres']= movies['genres'].apply(get_genres)"
      ],
      "metadata": {
        "id": "cLrZ7vZrDL0h"
      },
      "execution_count": null,
      "outputs": []
    },
    {
      "cell_type": "code",
      "source": [
        "movies.head(3)"
      ],
      "metadata": {
        "id": "wL4fTOYCEN6o",
        "colab": {
          "base_uri": "https://localhost:8080/",
          "height": 494
        },
        "outputId": "70086202-3ce3-4fd0-fd09-6aae79ebdb0c"
      },
      "execution_count": null,
      "outputs": [
        {
          "output_type": "execute_result",
          "data": {
            "text/plain": [
              "   adult      belongs_to_collection    budget                        genres  \\\n",
              "0  False       Toy Story Collection  30000000   [Animation, Comedy, Family]   \n",
              "1  False                       None  65000000  [Adventure, Fantasy, Family]   \n",
              "2  False  Grumpy Old Men Collection         0             [Romance, Comedy]   \n",
              "\n",
              "                               homepage     id    imdb_id original_language  \\\n",
              "0  http://toystory.disney.com/toy-story    862  tt0114709                en   \n",
              "1                                   NaN   8844  tt0113497                en   \n",
              "2                                   NaN  15602  tt0113228                en   \n",
              "\n",
              "     original_title                                           overview  ...  \\\n",
              "0         Toy Story  Led by Woody, Andy's toys live happily in his ...  ...   \n",
              "1           Jumanji  When siblings Judy and Peter discover an encha...  ...   \n",
              "2  Grumpier Old Men  A family wedding reignites the ancient feud be...  ...   \n",
              "\n",
              "  release_date      revenue runtime  \\\n",
              "0   1995-10-30  373554033.0    81.0   \n",
              "1   1995-12-15  262797249.0   104.0   \n",
              "2   1995-12-22          0.0   101.0   \n",
              "\n",
              "                                    spoken_languages    status  \\\n",
              "0           [{'iso_639_1': 'en', 'name': 'English'}]  Released   \n",
              "1  [{'iso_639_1': 'en', 'name': 'English'}, {'iso...  Released   \n",
              "2           [{'iso_639_1': 'en', 'name': 'English'}]  Released   \n",
              "\n",
              "                                             tagline             title  video  \\\n",
              "0                                                NaN         Toy Story  False   \n",
              "1          Roll the dice and unleash the excitement!           Jumanji  False   \n",
              "2  Still Yelling. Still Fighting. Still Ready for...  Grumpier Old Men  False   \n",
              "\n",
              "  vote_average vote_count  \n",
              "0          7.7     5415.0  \n",
              "1          6.9     2413.0  \n",
              "2          6.5       92.0  \n",
              "\n",
              "[3 rows x 24 columns]"
            ],
            "text/html": [
              "\n",
              "  <div id=\"df-36b34288-5169-4f0c-a037-65e9c6588d0c\">\n",
              "    <div class=\"colab-df-container\">\n",
              "      <div>\n",
              "<style scoped>\n",
              "    .dataframe tbody tr th:only-of-type {\n",
              "        vertical-align: middle;\n",
              "    }\n",
              "\n",
              "    .dataframe tbody tr th {\n",
              "        vertical-align: top;\n",
              "    }\n",
              "\n",
              "    .dataframe thead th {\n",
              "        text-align: right;\n",
              "    }\n",
              "</style>\n",
              "<table border=\"1\" class=\"dataframe\">\n",
              "  <thead>\n",
              "    <tr style=\"text-align: right;\">\n",
              "      <th></th>\n",
              "      <th>adult</th>\n",
              "      <th>belongs_to_collection</th>\n",
              "      <th>budget</th>\n",
              "      <th>genres</th>\n",
              "      <th>homepage</th>\n",
              "      <th>id</th>\n",
              "      <th>imdb_id</th>\n",
              "      <th>original_language</th>\n",
              "      <th>original_title</th>\n",
              "      <th>overview</th>\n",
              "      <th>...</th>\n",
              "      <th>release_date</th>\n",
              "      <th>revenue</th>\n",
              "      <th>runtime</th>\n",
              "      <th>spoken_languages</th>\n",
              "      <th>status</th>\n",
              "      <th>tagline</th>\n",
              "      <th>title</th>\n",
              "      <th>video</th>\n",
              "      <th>vote_average</th>\n",
              "      <th>vote_count</th>\n",
              "    </tr>\n",
              "  </thead>\n",
              "  <tbody>\n",
              "    <tr>\n",
              "      <th>0</th>\n",
              "      <td>False</td>\n",
              "      <td>Toy Story Collection</td>\n",
              "      <td>30000000</td>\n",
              "      <td>[Animation, Comedy, Family]</td>\n",
              "      <td>http://toystory.disney.com/toy-story</td>\n",
              "      <td>862</td>\n",
              "      <td>tt0114709</td>\n",
              "      <td>en</td>\n",
              "      <td>Toy Story</td>\n",
              "      <td>Led by Woody, Andy's toys live happily in his ...</td>\n",
              "      <td>...</td>\n",
              "      <td>1995-10-30</td>\n",
              "      <td>373554033.0</td>\n",
              "      <td>81.0</td>\n",
              "      <td>[{'iso_639_1': 'en', 'name': 'English'}]</td>\n",
              "      <td>Released</td>\n",
              "      <td>NaN</td>\n",
              "      <td>Toy Story</td>\n",
              "      <td>False</td>\n",
              "      <td>7.7</td>\n",
              "      <td>5415.0</td>\n",
              "    </tr>\n",
              "    <tr>\n",
              "      <th>1</th>\n",
              "      <td>False</td>\n",
              "      <td>None</td>\n",
              "      <td>65000000</td>\n",
              "      <td>[Adventure, Fantasy, Family]</td>\n",
              "      <td>NaN</td>\n",
              "      <td>8844</td>\n",
              "      <td>tt0113497</td>\n",
              "      <td>en</td>\n",
              "      <td>Jumanji</td>\n",
              "      <td>When siblings Judy and Peter discover an encha...</td>\n",
              "      <td>...</td>\n",
              "      <td>1995-12-15</td>\n",
              "      <td>262797249.0</td>\n",
              "      <td>104.0</td>\n",
              "      <td>[{'iso_639_1': 'en', 'name': 'English'}, {'iso...</td>\n",
              "      <td>Released</td>\n",
              "      <td>Roll the dice and unleash the excitement!</td>\n",
              "      <td>Jumanji</td>\n",
              "      <td>False</td>\n",
              "      <td>6.9</td>\n",
              "      <td>2413.0</td>\n",
              "    </tr>\n",
              "    <tr>\n",
              "      <th>2</th>\n",
              "      <td>False</td>\n",
              "      <td>Grumpy Old Men Collection</td>\n",
              "      <td>0</td>\n",
              "      <td>[Romance, Comedy]</td>\n",
              "      <td>NaN</td>\n",
              "      <td>15602</td>\n",
              "      <td>tt0113228</td>\n",
              "      <td>en</td>\n",
              "      <td>Grumpier Old Men</td>\n",
              "      <td>A family wedding reignites the ancient feud be...</td>\n",
              "      <td>...</td>\n",
              "      <td>1995-12-22</td>\n",
              "      <td>0.0</td>\n",
              "      <td>101.0</td>\n",
              "      <td>[{'iso_639_1': 'en', 'name': 'English'}]</td>\n",
              "      <td>Released</td>\n",
              "      <td>Still Yelling. Still Fighting. Still Ready for...</td>\n",
              "      <td>Grumpier Old Men</td>\n",
              "      <td>False</td>\n",
              "      <td>6.5</td>\n",
              "      <td>92.0</td>\n",
              "    </tr>\n",
              "  </tbody>\n",
              "</table>\n",
              "<p>3 rows × 24 columns</p>\n",
              "</div>\n",
              "      <button class=\"colab-df-convert\" onclick=\"convertToInteractive('df-36b34288-5169-4f0c-a037-65e9c6588d0c')\"\n",
              "              title=\"Convert this dataframe to an interactive table.\"\n",
              "              style=\"display:none;\">\n",
              "        \n",
              "  <svg xmlns=\"http://www.w3.org/2000/svg\" height=\"24px\"viewBox=\"0 0 24 24\"\n",
              "       width=\"24px\">\n",
              "    <path d=\"M0 0h24v24H0V0z\" fill=\"none\"/>\n",
              "    <path d=\"M18.56 5.44l.94 2.06.94-2.06 2.06-.94-2.06-.94-.94-2.06-.94 2.06-2.06.94zm-11 1L8.5 8.5l.94-2.06 2.06-.94-2.06-.94L8.5 2.5l-.94 2.06-2.06.94zm10 10l.94 2.06.94-2.06 2.06-.94-2.06-.94-.94-2.06-.94 2.06-2.06.94z\"/><path d=\"M17.41 7.96l-1.37-1.37c-.4-.4-.92-.59-1.43-.59-.52 0-1.04.2-1.43.59L10.3 9.45l-7.72 7.72c-.78.78-.78 2.05 0 2.83L4 21.41c.39.39.9.59 1.41.59.51 0 1.02-.2 1.41-.59l7.78-7.78 2.81-2.81c.8-.78.8-2.07 0-2.86zM5.41 20L4 18.59l7.72-7.72 1.47 1.35L5.41 20z\"/>\n",
              "  </svg>\n",
              "      </button>\n",
              "      \n",
              "  <style>\n",
              "    .colab-df-container {\n",
              "      display:flex;\n",
              "      flex-wrap:wrap;\n",
              "      gap: 12px;\n",
              "    }\n",
              "\n",
              "    .colab-df-convert {\n",
              "      background-color: #E8F0FE;\n",
              "      border: none;\n",
              "      border-radius: 50%;\n",
              "      cursor: pointer;\n",
              "      display: none;\n",
              "      fill: #1967D2;\n",
              "      height: 32px;\n",
              "      padding: 0 0 0 0;\n",
              "      width: 32px;\n",
              "    }\n",
              "\n",
              "    .colab-df-convert:hover {\n",
              "      background-color: #E2EBFA;\n",
              "      box-shadow: 0px 1px 2px rgba(60, 64, 67, 0.3), 0px 1px 3px 1px rgba(60, 64, 67, 0.15);\n",
              "      fill: #174EA6;\n",
              "    }\n",
              "\n",
              "    [theme=dark] .colab-df-convert {\n",
              "      background-color: #3B4455;\n",
              "      fill: #D2E3FC;\n",
              "    }\n",
              "\n",
              "    [theme=dark] .colab-df-convert:hover {\n",
              "      background-color: #434B5C;\n",
              "      box-shadow: 0px 1px 3px 1px rgba(0, 0, 0, 0.15);\n",
              "      filter: drop-shadow(0px 1px 2px rgba(0, 0, 0, 0.3));\n",
              "      fill: #FFFFFF;\n",
              "    }\n",
              "  </style>\n",
              "\n",
              "      <script>\n",
              "        const buttonEl =\n",
              "          document.querySelector('#df-36b34288-5169-4f0c-a037-65e9c6588d0c button.colab-df-convert');\n",
              "        buttonEl.style.display =\n",
              "          google.colab.kernel.accessAllowed ? 'block' : 'none';\n",
              "\n",
              "        async function convertToInteractive(key) {\n",
              "          const element = document.querySelector('#df-36b34288-5169-4f0c-a037-65e9c6588d0c');\n",
              "          const dataTable =\n",
              "            await google.colab.kernel.invokeFunction('convertToInteractive',\n",
              "                                                     [key], {});\n",
              "          if (!dataTable) return;\n",
              "\n",
              "          const docLinkHtml = 'Like what you see? Visit the ' +\n",
              "            '<a target=\"_blank\" href=https://colab.research.google.com/notebooks/data_table.ipynb>data table notebook</a>'\n",
              "            + ' to learn more about interactive tables.';\n",
              "          element.innerHTML = '';\n",
              "          dataTable['output_type'] = 'display_data';\n",
              "          await google.colab.output.renderOutput(dataTable, element);\n",
              "          const docLink = document.createElement('div');\n",
              "          docLink.innerHTML = docLinkHtml;\n",
              "          element.appendChild(docLink);\n",
              "        }\n",
              "      </script>\n",
              "    </div>\n",
              "  </div>\n",
              "  "
            ]
          },
          "metadata": {},
          "execution_count": 34
        }
      ]
    },
    {
      "cell_type": "markdown",
      "source": [
        "## **production_companies** column"
      ],
      "metadata": {
        "id": "z21nm669IQGl"
      }
    },
    {
      "cell_type": "code",
      "source": [
        "# Checks for null values\n",
        "movies['production_companies'].isnull().sum()"
      ],
      "metadata": {
        "colab": {
          "base_uri": "https://localhost:8080/"
        },
        "id": "9Y1jAw9IIS-h",
        "outputId": "06da23d9-a366-4106-93d6-3e62222f72fc"
      },
      "execution_count": null,
      "outputs": [
        {
          "output_type": "execute_result",
          "data": {
            "text/plain": [
              "3"
            ]
          },
          "metadata": {},
          "execution_count": 35
        }
      ]
    },
    {
      "cell_type": "code",
      "source": [
        "# Verifying the data of the elements of \"production_companies\". They are a list of dictionaries in string format.\n",
        "print(movies['production_companies'][0])\n",
        "type(movies['production_companies'][0])"
      ],
      "metadata": {
        "colab": {
          "base_uri": "https://localhost:8080/"
        },
        "id": "Tv-SgxnUIZmd",
        "outputId": "ea5e09b6-3c7d-428e-dd00-1601db5de2e5"
      },
      "execution_count": null,
      "outputs": [
        {
          "output_type": "stream",
          "name": "stdout",
          "text": [
            "[{'name': 'Pixar Animation Studios', 'id': 3}]\n"
          ]
        },
        {
          "output_type": "execute_result",
          "data": {
            "text/plain": [
              "str"
            ]
          },
          "metadata": {},
          "execution_count": 36
        }
      ]
    },
    {
      "cell_type": "code",
      "source": [
        "# Applying the convert_to_dict function to the 'production_companies' column\n",
        "movies['production_companies'] = movies['production_companies'].apply(convert_to_dict)"
      ],
      "metadata": {
        "id": "0QQQb2dbZbUR"
      },
      "execution_count": null,
      "outputs": []
    },
    {
      "cell_type": "code",
      "source": [
        "# Creating a function that iterates over each dictionary in the \"production_companies\" list and returns a list of company names.\n",
        "def get_companies(compania):\n",
        "  companies=[]\n",
        "  if compania != None and type(compania) != bool:\n",
        "    try:\n",
        "      for dicc in compania:\n",
        "        companies.append(dicc[\"name\"])\n",
        "      return companies\n",
        "    except (ValueError, SyntaxError):\n",
        "      return None\n",
        "  else:\n",
        "    return None\n",
        "\n",
        "# Applying the \"get_companies\" function to each record in the \"production_companies\" column and creating a new column \"production_companies\":\n",
        "movies['production_companies'] = movies['production_companies'].apply(get_companies)"
      ],
      "metadata": {
        "id": "8OTMujWDQ1qr"
      },
      "execution_count": null,
      "outputs": []
    },
    {
      "cell_type": "code",
      "source": [
        "print(movies['production_companies'])\n",
        "print(len(movies['production_companies']))"
      ],
      "metadata": {
        "colab": {
          "base_uri": "https://localhost:8080/"
        },
        "id": "8so5U6m4au7P",
        "outputId": "541b437a-07b4-4dd6-c85b-eafcee9a78c8"
      },
      "execution_count": null,
      "outputs": [
        {
          "output_type": "stream",
          "name": "stdout",
          "text": [
            "0                                [Pixar Animation Studios]\n",
            "1        [TriStar Pictures, Teitler Film, Interscope Co...\n",
            "2                           [Warner Bros., Lancaster Gate]\n",
            "3                 [Twentieth Century Fox Film Corporation]\n",
            "4             [Sandollar Productions, Touchstone Pictures]\n",
            "                               ...                        \n",
            "45461                                                   []\n",
            "45462                                        [Sine Olivia]\n",
            "45463                            [American World Pictures]\n",
            "45464                                          [Yermoliev]\n",
            "45465                                                   []\n",
            "Name: production_companies, Length: 45463, dtype: object\n",
            "45463\n"
          ]
        }
      ]
    },
    {
      "cell_type": "code",
      "source": [
        "# Checks for null values again\n",
        "movies['production_companies'].isnull().sum()\n",
        "# Tengo 3 nulos"
      ],
      "metadata": {
        "colab": {
          "base_uri": "https://localhost:8080/"
        },
        "id": "MPPh65nOQKaJ",
        "outputId": "cd2932e8-1681-4555-a275-ae81c89dae0f"
      },
      "execution_count": null,
      "outputs": [
        {
          "output_type": "execute_result",
          "data": {
            "text/plain": [
              "3"
            ]
          },
          "metadata": {},
          "execution_count": 40
        }
      ]
    },
    {
      "cell_type": "code",
      "source": [
        "# Counting the empty lists in the Series, considering None values\n",
        "empty_lists_count = movies['production_companies'].apply(lambda x: len(x) == 0 if x is not None else False).sum()\n",
        "print(empty_lists_count)\n"
      ],
      "metadata": {
        "colab": {
          "base_uri": "https://localhost:8080/"
        },
        "id": "bsAMcYpRapDR",
        "outputId": "1aff5309-6964-4450-8043-69c61837a174"
      },
      "execution_count": null,
      "outputs": [
        {
          "output_type": "stream",
          "name": "stdout",
          "text": [
            "11875\n"
          ]
        }
      ]
    },
    {
      "cell_type": "code",
      "source": [
        "# Finding the indices of null values in the 'production_companies' column (i think they do not affect)\n",
        "null_indices = movies[movies['production_companies'].isnull()].index\n",
        "print(null_indices)"
      ],
      "metadata": {
        "colab": {
          "base_uri": "https://localhost:8080/"
        },
        "id": "zvgBDhigJLqJ",
        "outputId": "7cab5fa1-41fa-4cdb-9dc7-a85b84083a54"
      },
      "execution_count": null,
      "outputs": [
        {
          "output_type": "stream",
          "name": "stdout",
          "text": [
            "Int64Index([19729, 29502, 35586], dtype='int64')\n"
          ]
        }
      ]
    },
    {
      "cell_type": "markdown",
      "source": [
        "## **production_countries** column"
      ],
      "metadata": {
        "id": "uMpZiRTKbzG3"
      }
    },
    {
      "cell_type": "code",
      "source": [
        "# Checks for null values\n",
        "movies['production_countries'].isnull().sum()"
      ],
      "metadata": {
        "colab": {
          "base_uri": "https://localhost:8080/"
        },
        "id": "0uaaxWZIbyfJ",
        "outputId": "dec64781-c631-45af-b6e7-4738000d38bb"
      },
      "execution_count": null,
      "outputs": [
        {
          "output_type": "execute_result",
          "data": {
            "text/plain": [
              "3"
            ]
          },
          "metadata": {},
          "execution_count": 43
        }
      ]
    },
    {
      "cell_type": "code",
      "source": [
        "# Verifying the data of the elements of \"production_countries\". They are a list of dictionaries in string format.\n",
        "print(movies['production_countries'][0])\n",
        "type(movies['production_countries'][0])\n"
      ],
      "metadata": {
        "colab": {
          "base_uri": "https://localhost:8080/"
        },
        "id": "-adKpsf7b_Ha",
        "outputId": "39f4d553-8626-4ee8-af61-e2e1a479d6bb"
      },
      "execution_count": null,
      "outputs": [
        {
          "output_type": "stream",
          "name": "stdout",
          "text": [
            "[{'iso_3166_1': 'US', 'name': 'United States of America'}]\n"
          ]
        },
        {
          "output_type": "execute_result",
          "data": {
            "text/plain": [
              "str"
            ]
          },
          "metadata": {},
          "execution_count": 44
        }
      ]
    },
    {
      "cell_type": "code",
      "source": [
        "# Applying the convert_to_dict function to the 'production_countries' column\n",
        "movies['production_countries'] = movies['production_countries'].apply(convert_to_dict)"
      ],
      "metadata": {
        "id": "vzErF0clcCu3"
      },
      "execution_count": null,
      "outputs": []
    },
    {
      "cell_type": "code",
      "source": [
        "movies['production_countries'].head()"
      ],
      "metadata": {
        "colab": {
          "base_uri": "https://localhost:8080/"
        },
        "id": "bExqNvWve9ME",
        "outputId": "31df23e9-ec18-40a2-8258-9615aa0643c2"
      },
      "execution_count": null,
      "outputs": [
        {
          "output_type": "execute_result",
          "data": {
            "text/plain": [
              "0    [{'iso_3166_1': 'US', 'name': 'United States o...\n",
              "1    [{'iso_3166_1': 'US', 'name': 'United States o...\n",
              "2    [{'iso_3166_1': 'US', 'name': 'United States o...\n",
              "3    [{'iso_3166_1': 'US', 'name': 'United States o...\n",
              "4    [{'iso_3166_1': 'US', 'name': 'United States o...\n",
              "Name: production_countries, dtype: object"
            ]
          },
          "metadata": {},
          "execution_count": 46
        }
      ]
    },
    {
      "cell_type": "code",
      "source": [
        "# Creating a function that iterates over each dictionary in the \"production_countries\" list and returns a list of countries names.\n",
        "def get_countries(countrie):\n",
        "  countries=[]\n",
        "  if countrie!= None and type(countrie)!=float:\n",
        "    try:\n",
        "      for dicc in countrie:\n",
        "        countries.append(dicc[\"name\"])\n",
        "      return countries\n",
        "    except (ValueError, SyntaxError):\n",
        "      return None\n",
        "  else:\n",
        "      return None\n",
        "\n",
        "# Modifying the 'production_countries' column to contain only a list of countries:\n",
        "movies[\"production_countries\"]=movies[\"production_countries\"].apply(get_countries)"
      ],
      "metadata": {
        "id": "N18CKtn4wLTw"
      },
      "execution_count": null,
      "outputs": []
    },
    {
      "cell_type": "code",
      "source": [
        "print(movies['production_countries'].head(3))\n",
        "print(len(movies['production_countries']))"
      ],
      "metadata": {
        "colab": {
          "base_uri": "https://localhost:8080/"
        },
        "id": "XE509lxcdA0o",
        "outputId": "d81ea6eb-2fb1-48cd-f3fb-6fa9c2c8f6c9"
      },
      "execution_count": null,
      "outputs": [
        {
          "output_type": "stream",
          "name": "stdout",
          "text": [
            "0    [United States of America]\n",
            "1    [United States of America]\n",
            "2    [United States of America]\n",
            "Name: production_countries, dtype: object\n",
            "45463\n"
          ]
        }
      ]
    },
    {
      "cell_type": "markdown",
      "source": [
        "# Merge of DataFrames: credits and movies\n",
        "* The merge will combine the information from the \"credits\" DataFrame and the \"movies\" DataFrame into a single DataFrame.\n",
        "* We will use the 'id' column as the key to merge the DataFrames.\n",
        "* The inner join is performed on the 'id' column. This means that only the rows where the 'id' values are present in both the \"movies\" and \"credits\" DataFrames will be included in the resulting merged DataFrame, \"df_movies\".\n"
      ],
      "metadata": {
        "id": "Jlo2u72ow4aV"
      }
    },
    {
      "cell_type": "code",
      "source": [
        "# Counting the duplicated values in the 'id' column of the 'credits' DataFrame before merging\n",
        "print(credits['id'].duplicated().sum())\n",
        "#44\n",
        "\n",
        "# Counting the duplicated values in the 'id' column of the 'movies' DataFrame before merging\n",
        "print(movies['id'].duplicated().sum())\n",
        "#30\n",
        "\n",
        "# Removing duplicates from the 'movies' and 'credits' DataFrames before merging\n",
        "movies.drop_duplicates(subset='id', inplace=True)\n",
        "credits.drop_duplicates(subset='id', inplace=True)\n",
        "\n",
        "# Converting the 'id' column in the 'credits' DataFrame to string\n",
        "credits['id'] = credits['id'].astype(str)\n",
        "\n",
        "# Converting the 'id' column in the 'movies' DataFrame to string\n",
        "movies['id'] = movies['id'].astype(str)\n",
        "\n",
        "# Merging the \"movies\" and \"credits\" DataFrames based on the 'id' column\n",
        "df_movies = pd.merge(movies, credits, on='id')"
      ],
      "metadata": {
        "id": "NSpxvNIR5Q4w",
        "colab": {
          "base_uri": "https://localhost:8080/"
        },
        "outputId": "a2976d7b-74db-4be8-dc32-97e54807c2ac"
      },
      "execution_count": null,
      "outputs": [
        {
          "output_type": "stream",
          "name": "stdout",
          "text": [
            "44\n",
            "30\n"
          ]
        }
      ]
    },
    {
      "cell_type": "code",
      "source": [
        "print(df_movies.head(4))"
      ],
      "metadata": {
        "id": "yusUo3x_479f",
        "colab": {
          "base_uri": "https://localhost:8080/"
        },
        "outputId": "34ec88ab-d5d9-4290-acc5-ac4e5360850b"
      },
      "execution_count": null,
      "outputs": [
        {
          "output_type": "stream",
          "name": "stdout",
          "text": [
            "   adult      belongs_to_collection    budget                        genres  \\\n",
            "0  False       Toy Story Collection  30000000   [Animation, Comedy, Family]   \n",
            "1  False                       None  65000000  [Adventure, Fantasy, Family]   \n",
            "2  False  Grumpy Old Men Collection         0             [Romance, Comedy]   \n",
            "3  False                       None  16000000      [Comedy, Drama, Romance]   \n",
            "\n",
            "                               homepage     id    imdb_id original_language  \\\n",
            "0  http://toystory.disney.com/toy-story    862  tt0114709                en   \n",
            "1                                   NaN   8844  tt0113497                en   \n",
            "2                                   NaN  15602  tt0113228                en   \n",
            "3                                   NaN  31357  tt0114885                en   \n",
            "\n",
            "      original_title                                           overview  ...  \\\n",
            "0          Toy Story  Led by Woody, Andy's toys live happily in his ...  ...   \n",
            "1            Jumanji  When siblings Judy and Peter discover an encha...  ...   \n",
            "2   Grumpier Old Men  A family wedding reignites the ancient feud be...  ...   \n",
            "3  Waiting to Exhale  Cheated on, mistreated and stepped on, the wom...  ...   \n",
            "\n",
            "  runtime                                   spoken_languages    status  \\\n",
            "0    81.0           [{'iso_639_1': 'en', 'name': 'English'}]  Released   \n",
            "1   104.0  [{'iso_639_1': 'en', 'name': 'English'}, {'iso...  Released   \n",
            "2   101.0           [{'iso_639_1': 'en', 'name': 'English'}]  Released   \n",
            "3   127.0           [{'iso_639_1': 'en', 'name': 'English'}]  Released   \n",
            "\n",
            "                                             tagline              title  \\\n",
            "0                                                NaN          Toy Story   \n",
            "1          Roll the dice and unleash the excitement!            Jumanji   \n",
            "2  Still Yelling. Still Fighting. Still Ready for...   Grumpier Old Men   \n",
            "3  Friends are the people who let you be yourself...  Waiting to Exhale   \n",
            "\n",
            "   video  vote_average vote_count           director  \\\n",
            "0  False           7.7     5415.0    [John Lasseter]   \n",
            "1  False           6.9     2413.0     [Joe Johnston]   \n",
            "2  False           6.5       92.0    [Howard Deutch]   \n",
            "3  False           6.1       34.0  [Forest Whitaker]   \n",
            "\n",
            "                                              actors  \n",
            "0  [Tom Hanks, Tim Allen, Don Rickles, Jim Varney...  \n",
            "1  [Robin Williams, Jonathan Hyde, Kirsten Dunst,...  \n",
            "2  [Walter Matthau, Jack Lemmon, Ann-Margret, Sop...  \n",
            "3  [Whitney Houston, Angela Bassett, Loretta Devi...  \n",
            "\n",
            "[4 rows x 26 columns]\n"
          ]
        }
      ]
    },
    {
      "cell_type": "code",
      "source": [
        "# Elimino columnas que no usaré\n",
        "columns_to_drop = ['video','imdb_id','adult','original_title', 'poster_path', 'homepage']\n",
        "df_movies = df_movies.drop(columns_to_drop, axis = 1)"
      ],
      "metadata": {
        "id": "MTFjhwdj8rUc"
      },
      "execution_count": null,
      "outputs": []
    },
    {
      "cell_type": "code",
      "source": [
        "df_movies.info()"
      ],
      "metadata": {
        "id": "JPSSNdEm6Pq0",
        "colab": {
          "base_uri": "https://localhost:8080/"
        },
        "outputId": "3046e7d1-adc7-4ba4-dde6-d03e45852695"
      },
      "execution_count": null,
      "outputs": [
        {
          "output_type": "stream",
          "name": "stdout",
          "text": [
            "<class 'pandas.core.frame.DataFrame'>\n",
            "Int64Index: 45432 entries, 0 to 45431\n",
            "Data columns (total 20 columns):\n",
            " #   Column                 Non-Null Count  Dtype  \n",
            "---  ------                 --------------  -----  \n",
            " 0   belongs_to_collection  4488 non-null   object \n",
            " 1   budget                 45432 non-null  object \n",
            " 2   genres                 45432 non-null  object \n",
            " 3   id                     45432 non-null  object \n",
            " 4   original_language      45421 non-null  object \n",
            " 5   overview               44478 non-null  object \n",
            " 6   popularity             45429 non-null  object \n",
            " 7   production_companies   45429 non-null  object \n",
            " 8   production_countries   45429 non-null  object \n",
            " 9   release_date           45345 non-null  object \n",
            " 10  revenue                45429 non-null  float64\n",
            " 11  runtime                45172 non-null  float64\n",
            " 12  spoken_languages       45429 non-null  object \n",
            " 13  status                 45348 non-null  object \n",
            " 14  tagline                20401 non-null  object \n",
            " 15  title                  45429 non-null  object \n",
            " 16  vote_average           45429 non-null  float64\n",
            " 17  vote_count             45429 non-null  float64\n",
            " 18  director               45432 non-null  object \n",
            " 19  actors                 45432 non-null  object \n",
            "dtypes: float64(4), object(16)\n",
            "memory usage: 7.3+ MB\n"
          ]
        }
      ]
    },
    {
      "cell_type": "code",
      "source": [
        "# Verifying the duplicated values in the 'id' column of the merged DataFrame, df_movies\n",
        "print(df_movies['id'].duplicated().sum())\n"
      ],
      "metadata": {
        "colab": {
          "base_uri": "https://localhost:8080/"
        },
        "id": "ZN1a8Ny67-dh",
        "outputId": "0f41a401-c064-4769-c46d-7004e3dbe54f"
      },
      "execution_count": null,
      "outputs": [
        {
          "output_type": "stream",
          "name": "stdout",
          "text": [
            "0\n"
          ]
        }
      ]
    },
    {
      "cell_type": "markdown",
      "source": [
        "# **ETL**:\n",
        "## Transformations: For this MVP you don't need perfection, you need speed! ⏩ You will do these, and only these, transformations to the data\n",
        "\n",
        "\n",
        "\n",
        "\n",
        "* Some fields, such as `belongs_to_collection`,  `production_companies`, and others (see data dictionary), are nested. This means that they either have a dictionary or a list as values in each row. You will need to unnest them in order to join them back to the dataset or find a way to access that data without unnesting.\n",
        "\n",
        "* Null values in the `revenue` and `budget` fields should be filled with the number 0.\n",
        "\n",
        "* Null values in the`release_date` field should be removed.\n",
        "\n",
        "* If there are dates, they should be in the format YYYY-mm-dd. Additionally, you should create the `release_year` column to extract the year from the release date.\n",
        "\n",
        "* Create a column for return on investment called  `return` with the `revenue` and `budget` fields, dividing the revenue by the budget. If there are no available data to calculate it, the value should be 0.\n",
        "\n",
        "* Remove the columns that will not be used: `video,imdb_id,adult,original_title,poster_path and homepage.`\n",
        "\n"
      ],
      "metadata": {
        "id": "mYeUquuYi3Mb"
      }
    },
    {
      "cell_type": "markdown",
      "source": [
        "## ***Revenue***"
      ],
      "metadata": {
        "id": "a3ogOIHbqd_k"
      }
    },
    {
      "cell_type": "code",
      "source": [
        "# Searching for null or empty values in the 'revenue' column\n",
        "null_values = df_movies['revenue'].isnull()\n",
        "empty_values = df_movies['revenue'] == ''\n",
        "\n",
        "# Printing the results\n",
        "print(\"Null values in revenue:\")\n",
        "print(null_values.sum())\n",
        "\n",
        "print(\"Empty values in revenue:\")\n",
        "print(empty_values.sum())\n",
        "\n",
        "\n"
      ],
      "metadata": {
        "id": "ccggHCsnk7AG",
        "colab": {
          "base_uri": "https://localhost:8080/"
        },
        "outputId": "b521f18e-15fb-461c-bb22-2e1d69cfae77"
      },
      "execution_count": null,
      "outputs": [
        {
          "output_type": "stream",
          "name": "stdout",
          "text": [
            "Null values in revenue:\n",
            "3\n",
            "Empty values in revenue:\n",
            "0\n"
          ]
        }
      ]
    },
    {
      "cell_type": "code",
      "source": [
        "# Replacing null values with 0 in the 'revenue' column\n",
        "df_movies['revenue'] = df_movies['revenue'].fillna(0)"
      ],
      "metadata": {
        "id": "I6YiwAv4pUZl"
      },
      "execution_count": null,
      "outputs": []
    },
    {
      "cell_type": "markdown",
      "source": [
        "## ***Budget***"
      ],
      "metadata": {
        "id": "Spx_43Qe_HYY"
      }
    },
    {
      "cell_type": "code",
      "source": [
        "# Converting the 'budget' column to float\n",
        "df_movies['budget'] = df_movies['budget'].astype(float)"
      ],
      "metadata": {
        "id": "hL4Gd6Wg_Jwm"
      },
      "execution_count": null,
      "outputs": []
    },
    {
      "cell_type": "code",
      "source": [
        "# Searching for null or empty values in the 'budget' column\n",
        "null_values = df_movies['budget'].isnull()\n",
        "empty_values = df_movies['budget'] == ''\n",
        "\n",
        "print(\"Null values in budget:\")\n",
        "print(null_values.sum())\n",
        "\n",
        "print(\"Empty values in budget:\")\n",
        "print(empty_values.sum())"
      ],
      "metadata": {
        "colab": {
          "base_uri": "https://localhost:8080/"
        },
        "id": "jXbyJ-C7jq5V",
        "outputId": "b5cc503e-b0c6-4b79-854e-f5d63ce9fad4"
      },
      "execution_count": null,
      "outputs": [
        {
          "output_type": "stream",
          "name": "stdout",
          "text": [
            "Null values in budget:\n",
            "0\n",
            "Empty values in budget:\n",
            "0\n"
          ]
        }
      ]
    },
    {
      "cell_type": "code",
      "source": [
        "# Reemplazar los valores nulos por 0\n",
        "df_movies['budget'] = df_movies['budget'].fillna(0)"
      ],
      "metadata": {
        "id": "PVtqwT3GD79G"
      },
      "execution_count": null,
      "outputs": []
    },
    {
      "cell_type": "markdown",
      "source": [
        "## ***Release_date***"
      ],
      "metadata": {
        "id": "7j9n0t4Eqg7k"
      }
    },
    {
      "cell_type": "code",
      "source": [
        "# Counting the null values in the 'release_date' column\n",
        "null_values_count = df_movies['release_date'].isnull().sum()\n",
        "\n",
        "# Printing the result\n",
        "print(\"Null values in release_date:\", null_values_count)\n",
        "# 87\n"
      ],
      "metadata": {
        "colab": {
          "base_uri": "https://localhost:8080/"
        },
        "id": "brrMHhemh96A",
        "outputId": "e8cfa51d-f487-42d4-813f-7d9f0a016466"
      },
      "execution_count": null,
      "outputs": [
        {
          "output_type": "stream",
          "name": "stdout",
          "text": [
            "Null values in release_date: 87\n"
          ]
        }
      ]
    },
    {
      "cell_type": "code",
      "source": [
        "# Dropping the null values from the 'release_date' column\n",
        "df_movies.dropna(subset=['release_date'], inplace=True)"
      ],
      "metadata": {
        "id": "SDUdFmz3ql8G"
      },
      "execution_count": null,
      "outputs": []
    },
    {
      "cell_type": "code",
      "source": [
        "# Converting the DataSeries to date format\n",
        "df_movies['release_date'] = pd.to_datetime(df_movies['release_date'], format='%Y-%m-%d', errors='coerce')\n",
        "# errors='coerce': This parameter indicates how to handle errors during the conversion."
      ],
      "metadata": {
        "id": "GE10A844_qdf"
      },
      "execution_count": null,
      "outputs": []
    },
    {
      "cell_type": "code",
      "source": [
        "# Creating a new column for the year extracted from the 'release_date'\n",
        "df_movies[\"release_year\"]= df_movies[\"release_date\"].dt.year"
      ],
      "metadata": {
        "id": "Re53sORRAXg7"
      },
      "execution_count": null,
      "outputs": []
    },
    {
      "cell_type": "markdown",
      "source": [
        "## ***Return***\n",
        "\n",
        "Create the column with the return on investment, called return with the revenue and budget fields, dividing these last two revenue / budget, when there is no data available to calculate it, it must take the value 0."
      ],
      "metadata": {
        "id": "L7hjquQ7DUEp"
      }
    },
    {
      "cell_type": "code",
      "source": [
        "df_movies.info()"
      ],
      "metadata": {
        "id": "Mdm1SWl3Edzb",
        "colab": {
          "base_uri": "https://localhost:8080/"
        },
        "outputId": "77bebac1-dc65-4079-862d-f7f682e5a188"
      },
      "execution_count": null,
      "outputs": [
        {
          "output_type": "stream",
          "name": "stdout",
          "text": [
            "<class 'pandas.core.frame.DataFrame'>\n",
            "Int64Index: 45345 entries, 0 to 45431\n",
            "Data columns (total 21 columns):\n",
            " #   Column                 Non-Null Count  Dtype         \n",
            "---  ------                 --------------  -----         \n",
            " 0   belongs_to_collection  4485 non-null   object        \n",
            " 1   budget                 45345 non-null  float64       \n",
            " 2   genres                 45345 non-null  object        \n",
            " 3   id                     45345 non-null  object        \n",
            " 4   original_language      45334 non-null  object        \n",
            " 5   overview               44404 non-null  object        \n",
            " 6   popularity             45345 non-null  object        \n",
            " 7   production_companies   45345 non-null  object        \n",
            " 8   production_countries   45345 non-null  object        \n",
            " 9   release_date           45345 non-null  datetime64[ns]\n",
            " 10  revenue                45345 non-null  float64       \n",
            " 11  runtime                45099 non-null  float64       \n",
            " 12  spoken_languages       45345 non-null  object        \n",
            " 13  status                 45265 non-null  object        \n",
            " 14  tagline                20387 non-null  object        \n",
            " 15  title                  45345 non-null  object        \n",
            " 16  vote_average           45345 non-null  float64       \n",
            " 17  vote_count             45345 non-null  float64       \n",
            " 18  director               45345 non-null  object        \n",
            " 19  actors                 45345 non-null  object        \n",
            " 20  release_year           45345 non-null  int64         \n",
            "dtypes: datetime64[ns](1), float64(5), int64(1), object(14)\n",
            "memory usage: 7.6+ MB\n"
          ]
        }
      ]
    },
    {
      "cell_type": "code",
      "source": [
        "# Calculating the return on investment and assigning 0 when the budget is 0\n",
        "df_movies['return'] = df_movies.apply(lambda row: row['revenue'] / row['budget'] if row['revenue'] and row['budget'] else 0, axis=1)\n",
        "df_movies.head()\n"
      ],
      "metadata": {
        "colab": {
          "base_uri": "https://localhost:8080/",
          "height": 837
        },
        "id": "HqVXxTJAifQ_",
        "outputId": "2db70ef9-cfdc-49db-d1a6-3189a635b36d"
      },
      "execution_count": null,
      "outputs": [
        {
          "output_type": "execute_result",
          "data": {
            "text/plain": [
              "            belongs_to_collection      budget                        genres  \\\n",
              "0            Toy Story Collection  30000000.0   [Animation, Comedy, Family]   \n",
              "1                            None  65000000.0  [Adventure, Fantasy, Family]   \n",
              "2       Grumpy Old Men Collection         0.0             [Romance, Comedy]   \n",
              "3                            None  16000000.0      [Comedy, Drama, Romance]   \n",
              "4  Father of the Bride Collection         0.0                      [Comedy]   \n",
              "\n",
              "      id original_language                                           overview  \\\n",
              "0    862                en  Led by Woody, Andy's toys live happily in his ...   \n",
              "1   8844                en  When siblings Judy and Peter discover an encha...   \n",
              "2  15602                en  A family wedding reignites the ancient feud be...   \n",
              "3  31357                en  Cheated on, mistreated and stepped on, the wom...   \n",
              "4  11862                en  Just when George Banks has recovered from his ...   \n",
              "\n",
              "  popularity                               production_companies  \\\n",
              "0  21.946943                          [Pixar Animation Studios]   \n",
              "1  17.015539  [TriStar Pictures, Teitler Film, Interscope Co...   \n",
              "2    11.7129                     [Warner Bros., Lancaster Gate]   \n",
              "3   3.859495           [Twentieth Century Fox Film Corporation]   \n",
              "4   8.387519       [Sandollar Productions, Touchstone Pictures]   \n",
              "\n",
              "         production_countries release_date  ...  \\\n",
              "0  [United States of America]   1995-10-30  ...   \n",
              "1  [United States of America]   1995-12-15  ...   \n",
              "2  [United States of America]   1995-12-22  ...   \n",
              "3  [United States of America]   1995-12-22  ...   \n",
              "4  [United States of America]   1995-02-10  ...   \n",
              "\n",
              "                                    spoken_languages    status  \\\n",
              "0           [{'iso_639_1': 'en', 'name': 'English'}]  Released   \n",
              "1  [{'iso_639_1': 'en', 'name': 'English'}, {'iso...  Released   \n",
              "2           [{'iso_639_1': 'en', 'name': 'English'}]  Released   \n",
              "3           [{'iso_639_1': 'en', 'name': 'English'}]  Released   \n",
              "4           [{'iso_639_1': 'en', 'name': 'English'}]  Released   \n",
              "\n",
              "                                             tagline  \\\n",
              "0                                                NaN   \n",
              "1          Roll the dice and unleash the excitement!   \n",
              "2  Still Yelling. Still Fighting. Still Ready for...   \n",
              "3  Friends are the people who let you be yourself...   \n",
              "4  Just When His World Is Back To Normal... He's ...   \n",
              "\n",
              "                         title vote_average vote_count           director  \\\n",
              "0                    Toy Story          7.7     5415.0    [John Lasseter]   \n",
              "1                      Jumanji          6.9     2413.0     [Joe Johnston]   \n",
              "2             Grumpier Old Men          6.5       92.0    [Howard Deutch]   \n",
              "3            Waiting to Exhale          6.1       34.0  [Forest Whitaker]   \n",
              "4  Father of the Bride Part II          5.7      173.0    [Charles Shyer]   \n",
              "\n",
              "                                              actors release_year     return  \n",
              "0  [Tom Hanks, Tim Allen, Don Rickles, Jim Varney...         1995  12.451801  \n",
              "1  [Robin Williams, Jonathan Hyde, Kirsten Dunst,...         1995   4.043035  \n",
              "2  [Walter Matthau, Jack Lemmon, Ann-Margret, Sop...         1995   0.000000  \n",
              "3  [Whitney Houston, Angela Bassett, Loretta Devi...         1995   5.090760  \n",
              "4  [Steve Martin, Diane Keaton, Martin Short, Kim...         1995   0.000000  \n",
              "\n",
              "[5 rows x 22 columns]"
            ],
            "text/html": [
              "\n",
              "  <div id=\"df-90a011b3-b7d0-4e41-ad7d-eb7ea16a4096\">\n",
              "    <div class=\"colab-df-container\">\n",
              "      <div>\n",
              "<style scoped>\n",
              "    .dataframe tbody tr th:only-of-type {\n",
              "        vertical-align: middle;\n",
              "    }\n",
              "\n",
              "    .dataframe tbody tr th {\n",
              "        vertical-align: top;\n",
              "    }\n",
              "\n",
              "    .dataframe thead th {\n",
              "        text-align: right;\n",
              "    }\n",
              "</style>\n",
              "<table border=\"1\" class=\"dataframe\">\n",
              "  <thead>\n",
              "    <tr style=\"text-align: right;\">\n",
              "      <th></th>\n",
              "      <th>belongs_to_collection</th>\n",
              "      <th>budget</th>\n",
              "      <th>genres</th>\n",
              "      <th>id</th>\n",
              "      <th>original_language</th>\n",
              "      <th>overview</th>\n",
              "      <th>popularity</th>\n",
              "      <th>production_companies</th>\n",
              "      <th>production_countries</th>\n",
              "      <th>release_date</th>\n",
              "      <th>...</th>\n",
              "      <th>spoken_languages</th>\n",
              "      <th>status</th>\n",
              "      <th>tagline</th>\n",
              "      <th>title</th>\n",
              "      <th>vote_average</th>\n",
              "      <th>vote_count</th>\n",
              "      <th>director</th>\n",
              "      <th>actors</th>\n",
              "      <th>release_year</th>\n",
              "      <th>return</th>\n",
              "    </tr>\n",
              "  </thead>\n",
              "  <tbody>\n",
              "    <tr>\n",
              "      <th>0</th>\n",
              "      <td>Toy Story Collection</td>\n",
              "      <td>30000000.0</td>\n",
              "      <td>[Animation, Comedy, Family]</td>\n",
              "      <td>862</td>\n",
              "      <td>en</td>\n",
              "      <td>Led by Woody, Andy's toys live happily in his ...</td>\n",
              "      <td>21.946943</td>\n",
              "      <td>[Pixar Animation Studios]</td>\n",
              "      <td>[United States of America]</td>\n",
              "      <td>1995-10-30</td>\n",
              "      <td>...</td>\n",
              "      <td>[{'iso_639_1': 'en', 'name': 'English'}]</td>\n",
              "      <td>Released</td>\n",
              "      <td>NaN</td>\n",
              "      <td>Toy Story</td>\n",
              "      <td>7.7</td>\n",
              "      <td>5415.0</td>\n",
              "      <td>[John Lasseter]</td>\n",
              "      <td>[Tom Hanks, Tim Allen, Don Rickles, Jim Varney...</td>\n",
              "      <td>1995</td>\n",
              "      <td>12.451801</td>\n",
              "    </tr>\n",
              "    <tr>\n",
              "      <th>1</th>\n",
              "      <td>None</td>\n",
              "      <td>65000000.0</td>\n",
              "      <td>[Adventure, Fantasy, Family]</td>\n",
              "      <td>8844</td>\n",
              "      <td>en</td>\n",
              "      <td>When siblings Judy and Peter discover an encha...</td>\n",
              "      <td>17.015539</td>\n",
              "      <td>[TriStar Pictures, Teitler Film, Interscope Co...</td>\n",
              "      <td>[United States of America]</td>\n",
              "      <td>1995-12-15</td>\n",
              "      <td>...</td>\n",
              "      <td>[{'iso_639_1': 'en', 'name': 'English'}, {'iso...</td>\n",
              "      <td>Released</td>\n",
              "      <td>Roll the dice and unleash the excitement!</td>\n",
              "      <td>Jumanji</td>\n",
              "      <td>6.9</td>\n",
              "      <td>2413.0</td>\n",
              "      <td>[Joe Johnston]</td>\n",
              "      <td>[Robin Williams, Jonathan Hyde, Kirsten Dunst,...</td>\n",
              "      <td>1995</td>\n",
              "      <td>4.043035</td>\n",
              "    </tr>\n",
              "    <tr>\n",
              "      <th>2</th>\n",
              "      <td>Grumpy Old Men Collection</td>\n",
              "      <td>0.0</td>\n",
              "      <td>[Romance, Comedy]</td>\n",
              "      <td>15602</td>\n",
              "      <td>en</td>\n",
              "      <td>A family wedding reignites the ancient feud be...</td>\n",
              "      <td>11.7129</td>\n",
              "      <td>[Warner Bros., Lancaster Gate]</td>\n",
              "      <td>[United States of America]</td>\n",
              "      <td>1995-12-22</td>\n",
              "      <td>...</td>\n",
              "      <td>[{'iso_639_1': 'en', 'name': 'English'}]</td>\n",
              "      <td>Released</td>\n",
              "      <td>Still Yelling. Still Fighting. Still Ready for...</td>\n",
              "      <td>Grumpier Old Men</td>\n",
              "      <td>6.5</td>\n",
              "      <td>92.0</td>\n",
              "      <td>[Howard Deutch]</td>\n",
              "      <td>[Walter Matthau, Jack Lemmon, Ann-Margret, Sop...</td>\n",
              "      <td>1995</td>\n",
              "      <td>0.000000</td>\n",
              "    </tr>\n",
              "    <tr>\n",
              "      <th>3</th>\n",
              "      <td>None</td>\n",
              "      <td>16000000.0</td>\n",
              "      <td>[Comedy, Drama, Romance]</td>\n",
              "      <td>31357</td>\n",
              "      <td>en</td>\n",
              "      <td>Cheated on, mistreated and stepped on, the wom...</td>\n",
              "      <td>3.859495</td>\n",
              "      <td>[Twentieth Century Fox Film Corporation]</td>\n",
              "      <td>[United States of America]</td>\n",
              "      <td>1995-12-22</td>\n",
              "      <td>...</td>\n",
              "      <td>[{'iso_639_1': 'en', 'name': 'English'}]</td>\n",
              "      <td>Released</td>\n",
              "      <td>Friends are the people who let you be yourself...</td>\n",
              "      <td>Waiting to Exhale</td>\n",
              "      <td>6.1</td>\n",
              "      <td>34.0</td>\n",
              "      <td>[Forest Whitaker]</td>\n",
              "      <td>[Whitney Houston, Angela Bassett, Loretta Devi...</td>\n",
              "      <td>1995</td>\n",
              "      <td>5.090760</td>\n",
              "    </tr>\n",
              "    <tr>\n",
              "      <th>4</th>\n",
              "      <td>Father of the Bride Collection</td>\n",
              "      <td>0.0</td>\n",
              "      <td>[Comedy]</td>\n",
              "      <td>11862</td>\n",
              "      <td>en</td>\n",
              "      <td>Just when George Banks has recovered from his ...</td>\n",
              "      <td>8.387519</td>\n",
              "      <td>[Sandollar Productions, Touchstone Pictures]</td>\n",
              "      <td>[United States of America]</td>\n",
              "      <td>1995-02-10</td>\n",
              "      <td>...</td>\n",
              "      <td>[{'iso_639_1': 'en', 'name': 'English'}]</td>\n",
              "      <td>Released</td>\n",
              "      <td>Just When His World Is Back To Normal... He's ...</td>\n",
              "      <td>Father of the Bride Part II</td>\n",
              "      <td>5.7</td>\n",
              "      <td>173.0</td>\n",
              "      <td>[Charles Shyer]</td>\n",
              "      <td>[Steve Martin, Diane Keaton, Martin Short, Kim...</td>\n",
              "      <td>1995</td>\n",
              "      <td>0.000000</td>\n",
              "    </tr>\n",
              "  </tbody>\n",
              "</table>\n",
              "<p>5 rows × 22 columns</p>\n",
              "</div>\n",
              "      <button class=\"colab-df-convert\" onclick=\"convertToInteractive('df-90a011b3-b7d0-4e41-ad7d-eb7ea16a4096')\"\n",
              "              title=\"Convert this dataframe to an interactive table.\"\n",
              "              style=\"display:none;\">\n",
              "        \n",
              "  <svg xmlns=\"http://www.w3.org/2000/svg\" height=\"24px\"viewBox=\"0 0 24 24\"\n",
              "       width=\"24px\">\n",
              "    <path d=\"M0 0h24v24H0V0z\" fill=\"none\"/>\n",
              "    <path d=\"M18.56 5.44l.94 2.06.94-2.06 2.06-.94-2.06-.94-.94-2.06-.94 2.06-2.06.94zm-11 1L8.5 8.5l.94-2.06 2.06-.94-2.06-.94L8.5 2.5l-.94 2.06-2.06.94zm10 10l.94 2.06.94-2.06 2.06-.94-2.06-.94-.94-2.06-.94 2.06-2.06.94z\"/><path d=\"M17.41 7.96l-1.37-1.37c-.4-.4-.92-.59-1.43-.59-.52 0-1.04.2-1.43.59L10.3 9.45l-7.72 7.72c-.78.78-.78 2.05 0 2.83L4 21.41c.39.39.9.59 1.41.59.51 0 1.02-.2 1.41-.59l7.78-7.78 2.81-2.81c.8-.78.8-2.07 0-2.86zM5.41 20L4 18.59l7.72-7.72 1.47 1.35L5.41 20z\"/>\n",
              "  </svg>\n",
              "      </button>\n",
              "      \n",
              "  <style>\n",
              "    .colab-df-container {\n",
              "      display:flex;\n",
              "      flex-wrap:wrap;\n",
              "      gap: 12px;\n",
              "    }\n",
              "\n",
              "    .colab-df-convert {\n",
              "      background-color: #E8F0FE;\n",
              "      border: none;\n",
              "      border-radius: 50%;\n",
              "      cursor: pointer;\n",
              "      display: none;\n",
              "      fill: #1967D2;\n",
              "      height: 32px;\n",
              "      padding: 0 0 0 0;\n",
              "      width: 32px;\n",
              "    }\n",
              "\n",
              "    .colab-df-convert:hover {\n",
              "      background-color: #E2EBFA;\n",
              "      box-shadow: 0px 1px 2px rgba(60, 64, 67, 0.3), 0px 1px 3px 1px rgba(60, 64, 67, 0.15);\n",
              "      fill: #174EA6;\n",
              "    }\n",
              "\n",
              "    [theme=dark] .colab-df-convert {\n",
              "      background-color: #3B4455;\n",
              "      fill: #D2E3FC;\n",
              "    }\n",
              "\n",
              "    [theme=dark] .colab-df-convert:hover {\n",
              "      background-color: #434B5C;\n",
              "      box-shadow: 0px 1px 3px 1px rgba(0, 0, 0, 0.15);\n",
              "      filter: drop-shadow(0px 1px 2px rgba(0, 0, 0, 0.3));\n",
              "      fill: #FFFFFF;\n",
              "    }\n",
              "  </style>\n",
              "\n",
              "      <script>\n",
              "        const buttonEl =\n",
              "          document.querySelector('#df-90a011b3-b7d0-4e41-ad7d-eb7ea16a4096 button.colab-df-convert');\n",
              "        buttonEl.style.display =\n",
              "          google.colab.kernel.accessAllowed ? 'block' : 'none';\n",
              "\n",
              "        async function convertToInteractive(key) {\n",
              "          const element = document.querySelector('#df-90a011b3-b7d0-4e41-ad7d-eb7ea16a4096');\n",
              "          const dataTable =\n",
              "            await google.colab.kernel.invokeFunction('convertToInteractive',\n",
              "                                                     [key], {});\n",
              "          if (!dataTable) return;\n",
              "\n",
              "          const docLinkHtml = 'Like what you see? Visit the ' +\n",
              "            '<a target=\"_blank\" href=https://colab.research.google.com/notebooks/data_table.ipynb>data table notebook</a>'\n",
              "            + ' to learn more about interactive tables.';\n",
              "          element.innerHTML = '';\n",
              "          dataTable['output_type'] = 'display_data';\n",
              "          await google.colab.output.renderOutput(dataTable, element);\n",
              "          const docLink = document.createElement('div');\n",
              "          docLink.innerHTML = docLinkHtml;\n",
              "          element.appendChild(docLink);\n",
              "        }\n",
              "      </script>\n",
              "    </div>\n",
              "  </div>\n",
              "  "
            ]
          },
          "metadata": {},
          "execution_count": 64
        }
      ]
    },
    {
      "cell_type": "code",
      "source": [
        "# Counting the null values in the 'return' column\n",
        "null_values_count = df_movies['return'].isnull().sum()\n",
        "\n",
        "# Printing the result\n",
        "print(\"Null values in return:\", null_values_count)\n"
      ],
      "metadata": {
        "id": "eJOsf6rVDuOk",
        "colab": {
          "base_uri": "https://localhost:8080/"
        },
        "outputId": "7b082cd0-ef49-4d28-a20a-538ade9e9b8a"
      },
      "execution_count": null,
      "outputs": [
        {
          "output_type": "stream",
          "name": "stdout",
          "text": [
            "Null values in return: 0\n"
          ]
        }
      ]
    },
    {
      "cell_type": "code",
      "source": [
        "df_movies['return'][0]"
      ],
      "metadata": {
        "id": "5nmvGGKLEOVS",
        "colab": {
          "base_uri": "https://localhost:8080/"
        },
        "outputId": "b3787f34-a4bf-4ee2-a444-c2c919aa89de"
      },
      "execution_count": null,
      "outputs": [
        {
          "output_type": "execute_result",
          "data": {
            "text/plain": [
              "12.4518011"
            ]
          },
          "metadata": {},
          "execution_count": 66
        }
      ]
    },
    {
      "cell_type": "code",
      "source": [
        "df_movies['return'].head(10)"
      ],
      "metadata": {
        "id": "hEBR2BkoFpaA",
        "colab": {
          "base_uri": "https://localhost:8080/"
        },
        "outputId": "07c58a7d-0184-4fcf-e683-f5cc02f55e61"
      },
      "execution_count": null,
      "outputs": [
        {
          "output_type": "execute_result",
          "data": {
            "text/plain": [
              "0    12.451801\n",
              "1     4.043035\n",
              "2     0.000000\n",
              "3     5.090760\n",
              "4     0.000000\n",
              "5     3.123947\n",
              "6     0.000000\n",
              "7     0.000000\n",
              "8     1.838576\n",
              "9     6.072311\n",
              "Name: return, dtype: float64"
            ]
          },
          "metadata": {},
          "execution_count": 67
        }
      ]
    },
    {
      "cell_type": "markdown",
      "source": [
        "# Rearrange columns order"
      ],
      "metadata": {
        "id": "9cJ0pPYNgW9L"
      }
    },
    {
      "cell_type": "code",
      "source": [
        "# Define the desired column order\n",
        "desired_column_order = ['id', 'title', 'belongs_to_collection', 'genres',  'budget', 'original_language', 'overview', 'popularity', 'production_companies', 'production_countries', 'release_date', 'revenue', 'runtime', 'spoken_languages', 'status', 'tagline', 'vote_average', 'vote_count', 'director', 'actors', 'release_year', 'return']\n",
        "\n",
        "# Reorder the columns in the DataFrame\n",
        "df_movies = df_movies[desired_column_order]"
      ],
      "metadata": {
        "id": "tcBnOjvugWZa"
      },
      "execution_count": null,
      "outputs": []
    },
    {
      "cell_type": "markdown",
      "source": [
        "# Exporting CSV"
      ],
      "metadata": {
        "id": "bbL5p5mHGH-Y"
      }
    },
    {
      "cell_type": "code",
      "source": [
        "# # Define the file path to save the DataFrame as a CSV file\n",
        "savefile_path = '/dataset/df_movies.csv'\n",
        "\n",
        "# # Save the DataFrame as a CSV file without including the index\n",
        "df_movies.to_csv(savefile_path, index=False)\n",
        "\n",
        "\n",
        "# Drive\n",
        "# savefile_path = '/content/drive/MyDrive/Proyectos Henry/ML_Ops_Project/df_movies.csv'\n",
        "# df_movies.to_csv(savefile_path, index=False)"
      ],
      "metadata": {
        "id": "HKhajHsCGJHg"
      },
      "execution_count": null,
      "outputs": []
    },
    {
      "cell_type": "code",
      "source": [
        "df_movies.info()"
      ],
      "metadata": {
        "colab": {
          "base_uri": "https://localhost:8080/"
        },
        "id": "vzAgr0YvwkGt",
        "outputId": "0e79bdca-6ce4-4c29-df88-88bbf0fd8728"
      },
      "execution_count": null,
      "outputs": [
        {
          "output_type": "stream",
          "name": "stdout",
          "text": [
            "<class 'pandas.core.frame.DataFrame'>\n",
            "Int64Index: 45345 entries, 0 to 45431\n",
            "Data columns (total 22 columns):\n",
            " #   Column                 Non-Null Count  Dtype         \n",
            "---  ------                 --------------  -----         \n",
            " 0   id                     45345 non-null  object        \n",
            " 1   title                  45345 non-null  object        \n",
            " 2   belongs_to_collection  4485 non-null   object        \n",
            " 3   genres                 45345 non-null  object        \n",
            " 4   budget                 45345 non-null  float64       \n",
            " 5   original_language      45334 non-null  object        \n",
            " 6   overview               44404 non-null  object        \n",
            " 7   popularity             45345 non-null  object        \n",
            " 8   production_companies   45345 non-null  object        \n",
            " 9   production_countries   45345 non-null  object        \n",
            " 10  release_date           45345 non-null  datetime64[ns]\n",
            " 11  revenue                45345 non-null  float64       \n",
            " 12  runtime                45099 non-null  float64       \n",
            " 13  spoken_languages       45345 non-null  object        \n",
            " 14  status                 45265 non-null  object        \n",
            " 15  tagline                20387 non-null  object        \n",
            " 16  vote_average           45345 non-null  float64       \n",
            " 17  vote_count             45345 non-null  float64       \n",
            " 18  director               45345 non-null  object        \n",
            " 19  actors                 45345 non-null  object        \n",
            " 20  release_year           45345 non-null  int64         \n",
            " 21  return                 45345 non-null  float64       \n",
            "dtypes: datetime64[ns](1), float64(6), int64(1), object(14)\n",
            "memory usage: 9.0+ MB\n"
          ]
        }
      ]
    }
  ]
}