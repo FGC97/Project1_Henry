{
  "nbformat": 4,
  "nbformat_minor": 0,
  "metadata": {
    "colab": {
      "provenance": [],
      "authorship_tag": "ABX9TyMcXQYcVNnuCopDE+YEVP5W",
      "include_colab_link": true
    },
    "kernelspec": {
      "name": "python3",
      "display_name": "Python 3"
    },
    "language_info": {
      "name": "python"
    }
  },
  "cells": [
    {
      "cell_type": "markdown",
      "metadata": {
        "id": "view-in-github",
        "colab_type": "text"
      },
      "source": [
        "<a href=\"https://colab.research.google.com/github/FGC97/project1_Henry/blob/main/Project1_ETL.ipynb\" target=\"_parent\"><img src=\"https://colab.research.google.com/assets/colab-badge.svg\" alt=\"Open In Colab\"/></a>"
      ]
    },
    {
      "cell_type": "code",
      "execution_count": 1,
      "metadata": {
        "colab": {
          "base_uri": "https://localhost:8080/"
        },
        "id": "qyUvxGNT6Rt4",
        "outputId": "05a3d5e1-1d1b-4ea1-8059-676485ecf49d"
      },
      "outputs": [
        {
          "output_type": "stream",
          "name": "stdout",
          "text": [
            "Mounted at /content/drive\n"
          ]
        }
      ],
      "source": [
        "from google.colab import drive\n",
        "drive.mount('/content/drive')\n"
      ]
    },
    {
      "cell_type": "code",
      "source": [
        "import pandas as pd\n",
        "import ast\n",
        "import math\n",
        "import numpy as np"
      ],
      "metadata": {
        "id": "b3rR4_kC6S5b"
      },
      "execution_count": 4,
      "outputs": []
    },
    {
      "cell_type": "markdown",
      "source": [
        "# Importo los datasets"
      ],
      "metadata": {
        "id": "XJQs-PcZNSs2"
      }
    },
    {
      "cell_type": "code",
      "source": [
        "credits = pd.read_csv('/content/drive/MyDrive/Proyectos Henry/ML_Ops_Project/credits.csv', sep = ',')\n",
        "movies = pd.read_csv('/content/drive/MyDrive/Proyectos Henry/ML_Ops_Project/movies_dataset.csv', sep = ',')"
      ],
      "metadata": {
        "colab": {
          "base_uri": "https://localhost:8080/"
        },
        "id": "Htpo3qNF6S2j",
        "outputId": "d57bc88f-d0c3-4791-d6d1-04936e6f251a"
      },
      "execution_count": 3,
      "outputs": [
        {
          "output_type": "stream",
          "name": "stderr",
          "text": [
            "<ipython-input-3-5edfffbad0a3>:2: DtypeWarning: Columns (10) have mixed types. Specify dtype option on import or set low_memory=False.\n",
            "  movies = pd.read_csv('/content/drive/MyDrive/Proyectos Henry/ML_Ops_Project/movies_dataset.csv', sep = ',')\n"
          ]
        }
      ]
    },
    {
      "cell_type": "code",
      "source": [
        "print(credits.info())\n",
        "print(movies.info())"
      ],
      "metadata": {
        "colab": {
          "base_uri": "https://localhost:8080/"
        },
        "id": "520LwycM6SyI",
        "outputId": "dcffe645-9e66-484d-cc50-75e010889812"
      },
      "execution_count": null,
      "outputs": [
        {
          "output_type": "stream",
          "name": "stdout",
          "text": [
            "<class 'pandas.core.frame.DataFrame'>\n",
            "RangeIndex: 45476 entries, 0 to 45475\n",
            "Data columns (total 3 columns):\n",
            " #   Column  Non-Null Count  Dtype \n",
            "---  ------  --------------  ----- \n",
            " 0   cast    45476 non-null  object\n",
            " 1   crew    45476 non-null  object\n",
            " 2   id      45476 non-null  int64 \n",
            "dtypes: int64(1), object(2)\n",
            "memory usage: 1.0+ MB\n",
            "None\n",
            "<class 'pandas.core.frame.DataFrame'>\n",
            "RangeIndex: 45466 entries, 0 to 45465\n",
            "Data columns (total 24 columns):\n",
            " #   Column                 Non-Null Count  Dtype  \n",
            "---  ------                 --------------  -----  \n",
            " 0   adult                  45466 non-null  object \n",
            " 1   belongs_to_collection  4494 non-null   object \n",
            " 2   budget                 45466 non-null  object \n",
            " 3   genres                 45466 non-null  object \n",
            " 4   homepage               7782 non-null   object \n",
            " 5   id                     45466 non-null  object \n",
            " 6   imdb_id                45449 non-null  object \n",
            " 7   original_language      45455 non-null  object \n",
            " 8   original_title         45466 non-null  object \n",
            " 9   overview               44512 non-null  object \n",
            " 10  popularity             45461 non-null  object \n",
            " 11  poster_path            45080 non-null  object \n",
            " 12  production_companies   45463 non-null  object \n",
            " 13  production_countries   45463 non-null  object \n",
            " 14  release_date           45379 non-null  object \n",
            " 15  revenue                45460 non-null  float64\n",
            " 16  runtime                45203 non-null  float64\n",
            " 17  spoken_languages       45460 non-null  object \n",
            " 18  status                 45379 non-null  object \n",
            " 19  tagline                20412 non-null  object \n",
            " 20  title                  45460 non-null  object \n",
            " 21  video                  45460 non-null  object \n",
            " 22  vote_average           45460 non-null  float64\n",
            " 23  vote_count             45460 non-null  float64\n",
            "dtypes: float64(4), object(20)\n",
            "memory usage: 8.3+ MB\n",
            "None\n"
          ]
        }
      ]
    },
    {
      "cell_type": "markdown",
      "source": [
        "# **Ingesting Nested JSONs**"
      ],
      "metadata": {
        "id": "AlAi7PesjvBo"
      }
    },
    {
      "cell_type": "markdown",
      "source": [
        "# DF credits"
      ],
      "metadata": {
        "id": "NaOjzlyskJm_"
      }
    },
    {
      "cell_type": "code",
      "source": [
        "# Los valores de cada elemento de \"crew\" y \"cast\" son una lista de diccionarios en formato de cadena de texto\n",
        "\n",
        "print(type(credits['crew'][0]))\n",
        "print(type(credits['cast'][0]))\n",
        "\n"
      ],
      "metadata": {
        "colab": {
          "base_uri": "https://localhost:8080/"
        },
        "id": "bcfblHCIWqyG",
        "outputId": "27277ddb-2cf3-4e1a-e47c-6b2b63cc5a02"
      },
      "execution_count": null,
      "outputs": [
        {
          "output_type": "stream",
          "name": "stdout",
          "text": [
            "<class 'str'>\n",
            "<class 'str'>\n"
          ]
        }
      ]
    },
    {
      "cell_type": "markdown",
      "source": [
        "## Crew: extraemos directores"
      ],
      "metadata": {
        "id": "iXBpkEuFpui7"
      }
    },
    {
      "cell_type": "code",
      "source": [
        "credits['crew'][1]"
      ],
      "metadata": {
        "colab": {
          "base_uri": "https://localhost:8080/",
          "height": 92
        },
        "id": "MNL9bOXhmJZU",
        "outputId": "8b5b24d0-8cd7-4de2-c731-eee1761e4bb0"
      },
      "execution_count": null,
      "outputs": [
        {
          "output_type": "execute_result",
          "data": {
            "text/plain": [
              "\"[{'credit_id': '52fe44bfc3a36847f80a7cd1', 'department': 'Production', 'gender': 2, 'id': 511, 'job': 'Executive Producer', 'name': 'Larry J. Franco', 'profile_path': None}, {'credit_id': '52fe44bfc3a36847f80a7c89', 'department': 'Writing', 'gender': 2, 'id': 876, 'job': 'Screenplay', 'name': 'Jonathan Hensleigh', 'profile_path': '/l1c4UFD3g0HVWj5f0CxXAvMAGiT.jpg'}, {'credit_id': '52fe44bfc3a36847f80a7cdd', 'department': 'Sound', 'gender': 2, 'id': 1729, 'job': 'Original Music Composer', 'name': 'James Horner', 'profile_path': '/oLOtXxXsYk8X4qq0ud4xVypXudi.jpg'}, {'credit_id': '52fe44bfc3a36847f80a7c7d', 'department': 'Directing', 'gender': 2, 'id': 4945, 'job': 'Director', 'name': 'Joe Johnston', 'profile_path': '/fok4jaO62v5IP6hkpaaAcXuw2H.jpg'}, {'credit_id': '52fe44bfc3a36847f80a7cd7', 'department': 'Editing', 'gender': 2, 'id': 4951, 'job': 'Editor', 'name': 'Robert Dalva', 'profile_path': None}, {'credit_id': '573523bec3a368025100062c', 'department': 'Production', 'gender': 0, 'id': 4952, 'job': 'Casting', 'name': 'Nancy Foy', 'profile_path': '/blCkmS4dqNsbPGuQfozHE6wgWBw.jpg'}, {'credit_id': '5722a924c3a3682d1e000b41', 'department': 'Visual Effects', 'gender': 0, 'id': 8023, 'job': 'Animation Supervisor', 'name': 'Kyle Balda', 'profile_path': '/jR8iAP6uC0V42KbUG87qBIUO3Hj.jpg'}, {'credit_id': '52fe44c0c3a36847f80a7ce3', 'department': 'Art', 'gender': 2, 'id': 9967, 'job': 'Production Design', 'name': 'James D. Bissell', 'profile_path': None}, {'credit_id': '52fe44bfc3a36847f80a7cb9', 'department': 'Production', 'gender': 2, 'id': 9184, 'job': 'Producer', 'name': 'Scott Kroopf', 'profile_path': None}, {'credit_id': '52fe44bfc3a36847f80a7ccb', 'department': 'Production', 'gender': 2, 'id': 9196, 'job': 'Executive Producer', 'name': 'Ted Field', 'profile_path': '/qmB7sZcgRUq7mRFBSTlSsVXh7sH.jpg'}, {'credit_id': '52fe44bfc3a36847f80a7cc5', 'department': 'Production', 'gender': 2, 'id': 18389, 'job': 'Executive Producer', 'name': 'Robert W. Cort', 'profile_path': None}, {'credit_id': '52fe44bfc3a36847f80a7cbf', 'department': 'Camera', 'gender': 2, 'id': 11371, 'job': 'Director of Photography', 'name': 'Thomas E. Ackerman', 'profile_path': '/xFDbxk53icM1ofL4iCIwB4GkUxN.jpg'}, {'credit_id': '52fe44bfc3a36847f80a7c83', 'department': 'Writing', 'gender': 2, 'id': 42356, 'job': 'Novel', 'name': 'Chris van Allsburg', 'profile_path': None}, {'credit_id': '52fe44bfc3a36847f80a7cb3', 'department': 'Production', 'gender': 2, 'id': 42357, 'job': 'Producer', 'name': 'William Teitler', 'profile_path': None}, {'credit_id': '52fe44bfc3a36847f80a7c8f', 'department': 'Writing', 'gender': 2, 'id': 56520, 'job': 'Screenplay', 'name': 'Greg Taylor', 'profile_path': None}, {'credit_id': '52fe44bfc3a36847f80a7c95', 'department': 'Writing', 'gender': 2, 'id': 56521, 'job': 'Screenplay', 'name': 'Jim Strain', 'profile_path': None}]\""
            ],
            "application/vnd.google.colaboratory.intrinsic+json": {
              "type": "string"
            }
          },
          "metadata": {},
          "execution_count": 7
        }
      ]
    },
    {
      "cell_type": "code",
      "source": [
        "# Uso la libreria ast para convertir crew en una lista:\n",
        "credits['crew'] = credits['crew'].apply(ast.literal_eval)"
      ],
      "metadata": {
        "id": "bdtwTlrDCKNV"
      },
      "execution_count": null,
      "outputs": []
    },
    {
      "cell_type": "code",
      "source": [
        "# Creo una función que recorra cada diccionario de la lista \"crew\" y me devuelva una lista con los directores de cada película:\n",
        "\n",
        "def get_directors(crew):\n",
        "    directors=[]\n",
        "    for member in crew:\n",
        "        if member[\"job\"]==\"Director\":\n",
        "            directors.append(member[\"name\"])\n",
        "    return directors\n",
        "\n",
        "# Creo una nueva columna en el df \"credits\" aplicando la función \"get_directors\" a cada registro de la columna \"crew\":\n",
        "credits['director']= credits['crew'].apply(get_directors)\n"
      ],
      "metadata": {
        "id": "8m3qvS8RCdYq"
      },
      "execution_count": null,
      "outputs": []
    },
    {
      "cell_type": "code",
      "source": [
        "credits.head(3)"
      ],
      "metadata": {
        "colab": {
          "base_uri": "https://localhost:8080/",
          "height": 144
        },
        "id": "AqfxNRUtpqGC",
        "outputId": "87a11e59-1ce5-4112-c1bb-bcdf58a0f713"
      },
      "execution_count": null,
      "outputs": [
        {
          "output_type": "execute_result",
          "data": {
            "text/plain": [
              "                                                cast  \\\n",
              "0  [{'cast_id': 14, 'character': 'Woody (voice)',...   \n",
              "1  [{'cast_id': 1, 'character': 'Alan Parrish', '...   \n",
              "2  [{'cast_id': 2, 'character': 'Max Goldman', 'c...   \n",
              "\n",
              "                                                crew     id         director  \n",
              "0  [{'credit_id': '52fe4284c3a36847f8024f49', 'de...    862  [John Lasseter]  \n",
              "1  [{'credit_id': '52fe44bfc3a36847f80a7cd1', 'de...   8844   [Joe Johnston]  \n",
              "2  [{'credit_id': '52fe466a9251416c75077a89', 'de...  15602  [Howard Deutch]  "
            ],
            "text/html": [
              "\n",
              "  <div id=\"df-1a1ce003-06ab-4597-9594-41468d4b8d13\">\n",
              "    <div class=\"colab-df-container\">\n",
              "      <div>\n",
              "<style scoped>\n",
              "    .dataframe tbody tr th:only-of-type {\n",
              "        vertical-align: middle;\n",
              "    }\n",
              "\n",
              "    .dataframe tbody tr th {\n",
              "        vertical-align: top;\n",
              "    }\n",
              "\n",
              "    .dataframe thead th {\n",
              "        text-align: right;\n",
              "    }\n",
              "</style>\n",
              "<table border=\"1\" class=\"dataframe\">\n",
              "  <thead>\n",
              "    <tr style=\"text-align: right;\">\n",
              "      <th></th>\n",
              "      <th>cast</th>\n",
              "      <th>crew</th>\n",
              "      <th>id</th>\n",
              "      <th>director</th>\n",
              "    </tr>\n",
              "  </thead>\n",
              "  <tbody>\n",
              "    <tr>\n",
              "      <th>0</th>\n",
              "      <td>[{'cast_id': 14, 'character': 'Woody (voice)',...</td>\n",
              "      <td>[{'credit_id': '52fe4284c3a36847f8024f49', 'de...</td>\n",
              "      <td>862</td>\n",
              "      <td>[John Lasseter]</td>\n",
              "    </tr>\n",
              "    <tr>\n",
              "      <th>1</th>\n",
              "      <td>[{'cast_id': 1, 'character': 'Alan Parrish', '...</td>\n",
              "      <td>[{'credit_id': '52fe44bfc3a36847f80a7cd1', 'de...</td>\n",
              "      <td>8844</td>\n",
              "      <td>[Joe Johnston]</td>\n",
              "    </tr>\n",
              "    <tr>\n",
              "      <th>2</th>\n",
              "      <td>[{'cast_id': 2, 'character': 'Max Goldman', 'c...</td>\n",
              "      <td>[{'credit_id': '52fe466a9251416c75077a89', 'de...</td>\n",
              "      <td>15602</td>\n",
              "      <td>[Howard Deutch]</td>\n",
              "    </tr>\n",
              "  </tbody>\n",
              "</table>\n",
              "</div>\n",
              "      <button class=\"colab-df-convert\" onclick=\"convertToInteractive('df-1a1ce003-06ab-4597-9594-41468d4b8d13')\"\n",
              "              title=\"Convert this dataframe to an interactive table.\"\n",
              "              style=\"display:none;\">\n",
              "        \n",
              "  <svg xmlns=\"http://www.w3.org/2000/svg\" height=\"24px\"viewBox=\"0 0 24 24\"\n",
              "       width=\"24px\">\n",
              "    <path d=\"M0 0h24v24H0V0z\" fill=\"none\"/>\n",
              "    <path d=\"M18.56 5.44l.94 2.06.94-2.06 2.06-.94-2.06-.94-.94-2.06-.94 2.06-2.06.94zm-11 1L8.5 8.5l.94-2.06 2.06-.94-2.06-.94L8.5 2.5l-.94 2.06-2.06.94zm10 10l.94 2.06.94-2.06 2.06-.94-2.06-.94-.94-2.06-.94 2.06-2.06.94z\"/><path d=\"M17.41 7.96l-1.37-1.37c-.4-.4-.92-.59-1.43-.59-.52 0-1.04.2-1.43.59L10.3 9.45l-7.72 7.72c-.78.78-.78 2.05 0 2.83L4 21.41c.39.39.9.59 1.41.59.51 0 1.02-.2 1.41-.59l7.78-7.78 2.81-2.81c.8-.78.8-2.07 0-2.86zM5.41 20L4 18.59l7.72-7.72 1.47 1.35L5.41 20z\"/>\n",
              "  </svg>\n",
              "      </button>\n",
              "      \n",
              "  <style>\n",
              "    .colab-df-container {\n",
              "      display:flex;\n",
              "      flex-wrap:wrap;\n",
              "      gap: 12px;\n",
              "    }\n",
              "\n",
              "    .colab-df-convert {\n",
              "      background-color: #E8F0FE;\n",
              "      border: none;\n",
              "      border-radius: 50%;\n",
              "      cursor: pointer;\n",
              "      display: none;\n",
              "      fill: #1967D2;\n",
              "      height: 32px;\n",
              "      padding: 0 0 0 0;\n",
              "      width: 32px;\n",
              "    }\n",
              "\n",
              "    .colab-df-convert:hover {\n",
              "      background-color: #E2EBFA;\n",
              "      box-shadow: 0px 1px 2px rgba(60, 64, 67, 0.3), 0px 1px 3px 1px rgba(60, 64, 67, 0.15);\n",
              "      fill: #174EA6;\n",
              "    }\n",
              "\n",
              "    [theme=dark] .colab-df-convert {\n",
              "      background-color: #3B4455;\n",
              "      fill: #D2E3FC;\n",
              "    }\n",
              "\n",
              "    [theme=dark] .colab-df-convert:hover {\n",
              "      background-color: #434B5C;\n",
              "      box-shadow: 0px 1px 3px 1px rgba(0, 0, 0, 0.15);\n",
              "      filter: drop-shadow(0px 1px 2px rgba(0, 0, 0, 0.3));\n",
              "      fill: #FFFFFF;\n",
              "    }\n",
              "  </style>\n",
              "\n",
              "      <script>\n",
              "        const buttonEl =\n",
              "          document.querySelector('#df-1a1ce003-06ab-4597-9594-41468d4b8d13 button.colab-df-convert');\n",
              "        buttonEl.style.display =\n",
              "          google.colab.kernel.accessAllowed ? 'block' : 'none';\n",
              "\n",
              "        async function convertToInteractive(key) {\n",
              "          const element = document.querySelector('#df-1a1ce003-06ab-4597-9594-41468d4b8d13');\n",
              "          const dataTable =\n",
              "            await google.colab.kernel.invokeFunction('convertToInteractive',\n",
              "                                                     [key], {});\n",
              "          if (!dataTable) return;\n",
              "\n",
              "          const docLinkHtml = 'Like what you see? Visit the ' +\n",
              "            '<a target=\"_blank\" href=https://colab.research.google.com/notebooks/data_table.ipynb>data table notebook</a>'\n",
              "            + ' to learn more about interactive tables.';\n",
              "          element.innerHTML = '';\n",
              "          dataTable['output_type'] = 'display_data';\n",
              "          await google.colab.output.renderOutput(dataTable, element);\n",
              "          const docLink = document.createElement('div');\n",
              "          docLink.innerHTML = docLinkHtml;\n",
              "          element.appendChild(docLink);\n",
              "        }\n",
              "      </script>\n",
              "    </div>\n",
              "  </div>\n",
              "  "
            ]
          },
          "metadata": {},
          "execution_count": 10
        }
      ]
    },
    {
      "cell_type": "markdown",
      "source": [
        "## Cast: Extraemos Actores"
      ],
      "metadata": {
        "id": "PSbf2A6Wp8AI"
      }
    },
    {
      "cell_type": "code",
      "source": [
        "credits['cast'][1]"
      ],
      "metadata": {
        "colab": {
          "base_uri": "https://localhost:8080/",
          "height": 92
        },
        "id": "QIcMXwBjqFau",
        "outputId": "3f3cfdf4-09d5-4df8-b0cd-d40c2959960a"
      },
      "execution_count": null,
      "outputs": [
        {
          "output_type": "execute_result",
          "data": {
            "text/plain": [
              "\"[{'cast_id': 1, 'character': 'Alan Parrish', 'credit_id': '52fe44bfc3a36847f80a7c73', 'gender': 2, 'id': 2157, 'name': 'Robin Williams', 'order': 0, 'profile_path': '/sojtJyIV3lkUeThD7A2oHNm8183.jpg'}, {'cast_id': 8, 'character': 'Samuel Alan Parrish / Van Pelt', 'credit_id': '52fe44bfc3a36847f80a7c99', 'gender': 2, 'id': 8537, 'name': 'Jonathan Hyde', 'order': 1, 'profile_path': '/7il5D76vx6QVRVlpVvBPEC40MBi.jpg'}, {'cast_id': 2, 'character': 'Judy Sheperd', 'credit_id': '52fe44bfc3a36847f80a7c77', 'gender': 1, 'id': 205, 'name': 'Kirsten Dunst', 'order': 2, 'profile_path': '/wBXvh6PJd0IUVNpvatPC1kzuHtm.jpg'}, {'cast_id': 24, 'character': 'Peter Shepherd', 'credit_id': '52fe44c0c3a36847f80a7ce7', 'gender': 0, 'id': 145151, 'name': 'Bradley Pierce', 'order': 3, 'profile_path': '/j6iW0vVA23GQniAPSYI6mi4hiEW.jpg'}, {'cast_id': 10, 'character': 'Sarah Whittle', 'credit_id': '52fe44bfc3a36847f80a7c9d', 'gender': 1, 'id': 5149, 'name': 'Bonnie Hunt', 'order': 4, 'profile_path': '/7spiVQwmr8siw5QCcvvdRG3c7Lf.jpg'}, {'cast_id': 25, 'character': 'Nora Shepherd', 'credit_id': '52fe44c0c3a36847f80a7ceb', 'gender': 1, 'id': 10739, 'name': 'Bebe Neuwirth', 'order': 5, 'profile_path': '/xm58rpMRVDHS0IGttw1pTlqGwkN.jpg'}, {'cast_id': 26, 'character': 'Carl Bentley', 'credit_id': '52fe44c0c3a36847f80a7cef', 'gender': 2, 'id': 58563, 'name': 'David Alan Grier', 'order': 6, 'profile_path': '/5tkt3qRZTco4sz604aTIarQ0m8W.jpg'}, {'cast_id': 11, 'character': 'Carol Anne Parrish', 'credit_id': '52fe44bfc3a36847f80a7ca1', 'gender': 1, 'id': 1276, 'name': 'Patricia Clarkson', 'order': 7, 'profile_path': '/10ZSyaUqzUlKTd60HmeiGhlytZG.jpg'}, {'cast_id': 14, 'character': 'Alan Parrish (young)', 'credit_id': '52fe44bfc3a36847f80a7cad', 'gender': 0, 'id': 46530, 'name': 'Adam Hann-Byrd', 'order': 8, 'profile_path': '/hEoqDqtMO91hYWD5iDrDesnLDlt.jpg'}, {'cast_id': 13, 'character': 'Sarah Whittle (young)', 'credit_id': '52fe44bfc3a36847f80a7ca9', 'gender': 1, 'id': 56523, 'name': 'Laura Bell Bundy', 'order': 9, 'profile_path': '/8tAVDBRoZPjKfCbBDyh4iK9JNEp.jpg'}, {'cast_id': 31, 'character': 'Exterminator', 'credit_id': '52fe44c0c3a36847f80a7cff', 'gender': 2, 'id': 51551, 'name': 'James Handy', 'order': 10, 'profile_path': '/vm0WQmuP8jEGgFTd3VCcJe7zpUi.jpg'}, {'cast_id': 12, 'character': 'Mrs. Thomas the Realtor', 'credit_id': '52fe44bfc3a36847f80a7ca5', 'gender': 1, 'id': 56522, 'name': 'Gillian Barber', 'order': 11, 'profile_path': '/qoqPX15J5jh6Sy0A9JvvRJIuw64.jpg'}, {'cast_id': 28, 'character': 'Benjamin', 'credit_id': '52fe44c0c3a36847f80a7cf3', 'gender': 2, 'id': 1000304, 'name': 'Brandon Obray', 'order': 12, 'profile_path': None}, {'cast_id': 29, 'character': 'Caleb', 'credit_id': '52fe44c0c3a36847f80a7cf7', 'gender': 0, 'id': 188949, 'name': 'Cyrus Thiedeke', 'order': 13, 'profile_path': None}, {'cast_id': 30, 'character': 'Billy Jessup', 'credit_id': '52fe44c0c3a36847f80a7cfb', 'gender': 0, 'id': 1076551, 'name': 'Gary Joseph Thorup', 'order': 14, 'profile_path': None}, {'cast_id': 32, 'character': 'Cop', 'credit_id': '5588053fc3a36838530063f5', 'gender': 0, 'id': 1480246, 'name': 'Leonard Zola', 'order': 15, 'profile_path': None}, {'cast_id': 33, 'character': 'Bum', 'credit_id': '55935687925141645a002097', 'gender': 2, 'id': 25024, 'name': 'Lloyd Berry', 'order': 16, 'profile_path': '/s7SVCOtvcuQ9wRQPZfUdahb5x88.jpg'}, {'cast_id': 34, 'character': 'Jim Shepherd', 'credit_id': '559356d09251415df8002cb7', 'gender': 2, 'id': 27110, 'name': 'Malcolm Stewart', 'order': 17, 'profile_path': '/l2vgzkLR7GRr8ugjZCILA0OiliI.jpg'}, {'cast_id': 35, 'character': 'Martha Shepherd', 'credit_id': '55935730925141645a0020ad', 'gender': 0, 'id': 53715, 'name': 'Annabel Kershaw', 'order': 18, 'profile_path': '/1VqbvAohBwFhETZtDe76JXQcxKm.jpg'}, {'cast_id': 36, 'character': 'Gun Salesman', 'credit_id': '5593576992514167fd000610', 'gender': 2, 'id': 1379424, 'name': 'Darryl Henriques', 'order': 19, 'profile_path': '/7QMHooY9ewNQlE24WKAOdwW0evU.jpg'}, {'cast_id': 37, 'character': 'Paramedic', 'credit_id': '559357ae92514152de002f42', 'gender': 0, 'id': 1235504, 'name': 'Robyn Driscoll', 'order': 20, 'profile_path': None}, {'cast_id': 50, 'character': 'Paramedic', 'credit_id': '5657803b925141018f00a5dc', 'gender': 2, 'id': 25389, 'name': 'Peter Bryant', 'order': 21, 'profile_path': '/fkcx9Tnp25UC5HlI2eW3nGvumsZ.jpg'}, {'cast_id': 39, 'character': 'Girl', 'credit_id': '559358e292514152de002f63', 'gender': 0, 'id': 1483449, 'name': 'Sarah Gilson', 'order': 22, 'profile_path': None}, {'cast_id': 40, 'character': 'Girl', 'credit_id': '5593590d92514152db002df3', 'gender': 0, 'id': 1483450, 'name': 'Florica Vlad', 'order': 23, 'profile_path': None}, {'cast_id': 41, 'character': 'Baker', 'credit_id': '55935946c3a36869d1001b4d', 'gender': 0, 'id': 1483451, 'name': 'June Lion', 'order': 24, 'profile_path': None}, {'cast_id': 42, 'character': 'Pianist', 'credit_id': '5593597692514167fd000644', 'gender': 0, 'id': 1483452, 'name': 'Brenda Lockmuller', 'order': 25, 'profile_path': None}]\""
            ],
            "application/vnd.google.colaboratory.intrinsic+json": {
              "type": "string"
            }
          },
          "metadata": {},
          "execution_count": 11
        }
      ]
    },
    {
      "cell_type": "code",
      "source": [
        "# Uso la libreria ast para convertir cast en una lista:\n",
        "credits['cast'] = credits['cast'].apply(ast.literal_eval)"
      ],
      "metadata": {
        "id": "WM2mO2LsqGrq"
      },
      "execution_count": null,
      "outputs": []
    },
    {
      "cell_type": "code",
      "source": [
        "# Creo una función que recorra cada diccionario de la lista \"cast\" y me devuelva una lista con los actores de cada película, pensado para el modelo de ML.\n",
        "\n",
        "def get_actors(cast):\n",
        "    actor_names = []\n",
        "    for actor in cast:\n",
        "        if 'name' in actor:\n",
        "            actor_names.append(actor['name'])\n",
        "    return actor_names\n",
        "\n",
        "\n",
        "# Creo una nueva columna en el df \"credits\" aplicando la función \"get_directors\" a cada registro de la columna \"crew\":\n",
        "credits['actors']= credits['cast'].apply(get_actors)"
      ],
      "metadata": {
        "id": "wTJK4kZmUKbk"
      },
      "execution_count": null,
      "outputs": []
    },
    {
      "cell_type": "code",
      "source": [
        "credits.head()"
      ],
      "metadata": {
        "colab": {
          "base_uri": "https://localhost:8080/",
          "height": 206
        },
        "id": "vIHFm2O5rScw",
        "outputId": "14f3406e-1df4-456f-e7fd-551b1da8cce4"
      },
      "execution_count": null,
      "outputs": [
        {
          "output_type": "execute_result",
          "data": {
            "text/plain": [
              "                                                cast  \\\n",
              "0  [{'cast_id': 14, 'character': 'Woody (voice)',...   \n",
              "1  [{'cast_id': 1, 'character': 'Alan Parrish', '...   \n",
              "2  [{'cast_id': 2, 'character': 'Max Goldman', 'c...   \n",
              "3  [{'cast_id': 1, 'character': 'Savannah 'Vannah...   \n",
              "4  [{'cast_id': 1, 'character': 'George Banks', '...   \n",
              "\n",
              "                                                crew     id  \\\n",
              "0  [{'credit_id': '52fe4284c3a36847f8024f49', 'de...    862   \n",
              "1  [{'credit_id': '52fe44bfc3a36847f80a7cd1', 'de...   8844   \n",
              "2  [{'credit_id': '52fe466a9251416c75077a89', 'de...  15602   \n",
              "3  [{'credit_id': '52fe44779251416c91011acb', 'de...  31357   \n",
              "4  [{'credit_id': '52fe44959251416c75039ed7', 'de...  11862   \n",
              "\n",
              "            director                                             actors  \n",
              "0    [John Lasseter]  [Tom Hanks, Tim Allen, Don Rickles, Jim Varney...  \n",
              "1     [Joe Johnston]  [Robin Williams, Jonathan Hyde, Kirsten Dunst,...  \n",
              "2    [Howard Deutch]  [Walter Matthau, Jack Lemmon, Ann-Margret, Sop...  \n",
              "3  [Forest Whitaker]  [Whitney Houston, Angela Bassett, Loretta Devi...  \n",
              "4    [Charles Shyer]  [Steve Martin, Diane Keaton, Martin Short, Kim...  "
            ],
            "text/html": [
              "\n",
              "  <div id=\"df-a00d7565-37cf-43ec-9f8a-dd75ae7ee0d9\">\n",
              "    <div class=\"colab-df-container\">\n",
              "      <div>\n",
              "<style scoped>\n",
              "    .dataframe tbody tr th:only-of-type {\n",
              "        vertical-align: middle;\n",
              "    }\n",
              "\n",
              "    .dataframe tbody tr th {\n",
              "        vertical-align: top;\n",
              "    }\n",
              "\n",
              "    .dataframe thead th {\n",
              "        text-align: right;\n",
              "    }\n",
              "</style>\n",
              "<table border=\"1\" class=\"dataframe\">\n",
              "  <thead>\n",
              "    <tr style=\"text-align: right;\">\n",
              "      <th></th>\n",
              "      <th>cast</th>\n",
              "      <th>crew</th>\n",
              "      <th>id</th>\n",
              "      <th>director</th>\n",
              "      <th>actors</th>\n",
              "    </tr>\n",
              "  </thead>\n",
              "  <tbody>\n",
              "    <tr>\n",
              "      <th>0</th>\n",
              "      <td>[{'cast_id': 14, 'character': 'Woody (voice)',...</td>\n",
              "      <td>[{'credit_id': '52fe4284c3a36847f8024f49', 'de...</td>\n",
              "      <td>862</td>\n",
              "      <td>[John Lasseter]</td>\n",
              "      <td>[Tom Hanks, Tim Allen, Don Rickles, Jim Varney...</td>\n",
              "    </tr>\n",
              "    <tr>\n",
              "      <th>1</th>\n",
              "      <td>[{'cast_id': 1, 'character': 'Alan Parrish', '...</td>\n",
              "      <td>[{'credit_id': '52fe44bfc3a36847f80a7cd1', 'de...</td>\n",
              "      <td>8844</td>\n",
              "      <td>[Joe Johnston]</td>\n",
              "      <td>[Robin Williams, Jonathan Hyde, Kirsten Dunst,...</td>\n",
              "    </tr>\n",
              "    <tr>\n",
              "      <th>2</th>\n",
              "      <td>[{'cast_id': 2, 'character': 'Max Goldman', 'c...</td>\n",
              "      <td>[{'credit_id': '52fe466a9251416c75077a89', 'de...</td>\n",
              "      <td>15602</td>\n",
              "      <td>[Howard Deutch]</td>\n",
              "      <td>[Walter Matthau, Jack Lemmon, Ann-Margret, Sop...</td>\n",
              "    </tr>\n",
              "    <tr>\n",
              "      <th>3</th>\n",
              "      <td>[{'cast_id': 1, 'character': 'Savannah 'Vannah...</td>\n",
              "      <td>[{'credit_id': '52fe44779251416c91011acb', 'de...</td>\n",
              "      <td>31357</td>\n",
              "      <td>[Forest Whitaker]</td>\n",
              "      <td>[Whitney Houston, Angela Bassett, Loretta Devi...</td>\n",
              "    </tr>\n",
              "    <tr>\n",
              "      <th>4</th>\n",
              "      <td>[{'cast_id': 1, 'character': 'George Banks', '...</td>\n",
              "      <td>[{'credit_id': '52fe44959251416c75039ed7', 'de...</td>\n",
              "      <td>11862</td>\n",
              "      <td>[Charles Shyer]</td>\n",
              "      <td>[Steve Martin, Diane Keaton, Martin Short, Kim...</td>\n",
              "    </tr>\n",
              "  </tbody>\n",
              "</table>\n",
              "</div>\n",
              "      <button class=\"colab-df-convert\" onclick=\"convertToInteractive('df-a00d7565-37cf-43ec-9f8a-dd75ae7ee0d9')\"\n",
              "              title=\"Convert this dataframe to an interactive table.\"\n",
              "              style=\"display:none;\">\n",
              "        \n",
              "  <svg xmlns=\"http://www.w3.org/2000/svg\" height=\"24px\"viewBox=\"0 0 24 24\"\n",
              "       width=\"24px\">\n",
              "    <path d=\"M0 0h24v24H0V0z\" fill=\"none\"/>\n",
              "    <path d=\"M18.56 5.44l.94 2.06.94-2.06 2.06-.94-2.06-.94-.94-2.06-.94 2.06-2.06.94zm-11 1L8.5 8.5l.94-2.06 2.06-.94-2.06-.94L8.5 2.5l-.94 2.06-2.06.94zm10 10l.94 2.06.94-2.06 2.06-.94-2.06-.94-.94-2.06-.94 2.06-2.06.94z\"/><path d=\"M17.41 7.96l-1.37-1.37c-.4-.4-.92-.59-1.43-.59-.52 0-1.04.2-1.43.59L10.3 9.45l-7.72 7.72c-.78.78-.78 2.05 0 2.83L4 21.41c.39.39.9.59 1.41.59.51 0 1.02-.2 1.41-.59l7.78-7.78 2.81-2.81c.8-.78.8-2.07 0-2.86zM5.41 20L4 18.59l7.72-7.72 1.47 1.35L5.41 20z\"/>\n",
              "  </svg>\n",
              "      </button>\n",
              "      \n",
              "  <style>\n",
              "    .colab-df-container {\n",
              "      display:flex;\n",
              "      flex-wrap:wrap;\n",
              "      gap: 12px;\n",
              "    }\n",
              "\n",
              "    .colab-df-convert {\n",
              "      background-color: #E8F0FE;\n",
              "      border: none;\n",
              "      border-radius: 50%;\n",
              "      cursor: pointer;\n",
              "      display: none;\n",
              "      fill: #1967D2;\n",
              "      height: 32px;\n",
              "      padding: 0 0 0 0;\n",
              "      width: 32px;\n",
              "    }\n",
              "\n",
              "    .colab-df-convert:hover {\n",
              "      background-color: #E2EBFA;\n",
              "      box-shadow: 0px 1px 2px rgba(60, 64, 67, 0.3), 0px 1px 3px 1px rgba(60, 64, 67, 0.15);\n",
              "      fill: #174EA6;\n",
              "    }\n",
              "\n",
              "    [theme=dark] .colab-df-convert {\n",
              "      background-color: #3B4455;\n",
              "      fill: #D2E3FC;\n",
              "    }\n",
              "\n",
              "    [theme=dark] .colab-df-convert:hover {\n",
              "      background-color: #434B5C;\n",
              "      box-shadow: 0px 1px 3px 1px rgba(0, 0, 0, 0.15);\n",
              "      filter: drop-shadow(0px 1px 2px rgba(0, 0, 0, 0.3));\n",
              "      fill: #FFFFFF;\n",
              "    }\n",
              "  </style>\n",
              "\n",
              "      <script>\n",
              "        const buttonEl =\n",
              "          document.querySelector('#df-a00d7565-37cf-43ec-9f8a-dd75ae7ee0d9 button.colab-df-convert');\n",
              "        buttonEl.style.display =\n",
              "          google.colab.kernel.accessAllowed ? 'block' : 'none';\n",
              "\n",
              "        async function convertToInteractive(key) {\n",
              "          const element = document.querySelector('#df-a00d7565-37cf-43ec-9f8a-dd75ae7ee0d9');\n",
              "          const dataTable =\n",
              "            await google.colab.kernel.invokeFunction('convertToInteractive',\n",
              "                                                     [key], {});\n",
              "          if (!dataTable) return;\n",
              "\n",
              "          const docLinkHtml = 'Like what you see? Visit the ' +\n",
              "            '<a target=\"_blank\" href=https://colab.research.google.com/notebooks/data_table.ipynb>data table notebook</a>'\n",
              "            + ' to learn more about interactive tables.';\n",
              "          element.innerHTML = '';\n",
              "          dataTable['output_type'] = 'display_data';\n",
              "          await google.colab.output.renderOutput(dataTable, element);\n",
              "          const docLink = document.createElement('div');\n",
              "          docLink.innerHTML = docLinkHtml;\n",
              "          element.appendChild(docLink);\n",
              "        }\n",
              "      </script>\n",
              "    </div>\n",
              "  </div>\n",
              "  "
            ]
          },
          "metadata": {},
          "execution_count": 14
        }
      ]
    },
    {
      "cell_type": "markdown",
      "source": [
        "## Dejo solo las columnas que me interesan"
      ],
      "metadata": {
        "id": "zhVFuPtQsZGL"
      }
    },
    {
      "cell_type": "code",
      "source": [
        "credits = credits.drop(['cast', 'crew'], axis=1)"
      ],
      "metadata": {
        "id": "aEXiX3a5sfo7"
      },
      "execution_count": null,
      "outputs": []
    },
    {
      "cell_type": "code",
      "source": [
        "credits"
      ],
      "metadata": {
        "colab": {
          "base_uri": "https://localhost:8080/",
          "height": 424
        },
        "id": "QKhrZh0F5DNv",
        "outputId": "af9de9e6-af74-40c6-9bba-7c6466ae7d13"
      },
      "execution_count": null,
      "outputs": [
        {
          "output_type": "execute_result",
          "data": {
            "text/plain": [
              "           id            director  \\\n",
              "0         862     [John Lasseter]   \n",
              "1        8844      [Joe Johnston]   \n",
              "2       15602     [Howard Deutch]   \n",
              "3       31357   [Forest Whitaker]   \n",
              "4       11862     [Charles Shyer]   \n",
              "...       ...                 ...   \n",
              "45471  439050  [Hamid Nematollah]   \n",
              "45472  111109          [Lav Diaz]   \n",
              "45473   67758    [Mark L. Lester]   \n",
              "45474  227506  [Yakov Protazanov]   \n",
              "45475  461257     [Daisy Asquith]   \n",
              "\n",
              "                                                  actors  \n",
              "0      [Tom Hanks, Tim Allen, Don Rickles, Jim Varney...  \n",
              "1      [Robin Williams, Jonathan Hyde, Kirsten Dunst,...  \n",
              "2      [Walter Matthau, Jack Lemmon, Ann-Margret, Sop...  \n",
              "3      [Whitney Houston, Angela Bassett, Loretta Devi...  \n",
              "4      [Steve Martin, Diane Keaton, Martin Short, Kim...  \n",
              "...                                                  ...  \n",
              "45471        [Leila Hatami, Kourosh Tahami, Elham Korda]  \n",
              "45472  [Angel Aquino, Perry Dizon, Hazel Orencio, Joe...  \n",
              "45473  [Erika Eleniak, Adam Baldwin, Julie du Page, J...  \n",
              "45474  [Iwan Mosschuchin, Nathalie Lissenko, Pavel Pa...  \n",
              "45475                                                 []  \n",
              "\n",
              "[45476 rows x 3 columns]"
            ],
            "text/html": [
              "\n",
              "  <div id=\"df-391241a7-30e6-4712-8255-38d2eac208e3\">\n",
              "    <div class=\"colab-df-container\">\n",
              "      <div>\n",
              "<style scoped>\n",
              "    .dataframe tbody tr th:only-of-type {\n",
              "        vertical-align: middle;\n",
              "    }\n",
              "\n",
              "    .dataframe tbody tr th {\n",
              "        vertical-align: top;\n",
              "    }\n",
              "\n",
              "    .dataframe thead th {\n",
              "        text-align: right;\n",
              "    }\n",
              "</style>\n",
              "<table border=\"1\" class=\"dataframe\">\n",
              "  <thead>\n",
              "    <tr style=\"text-align: right;\">\n",
              "      <th></th>\n",
              "      <th>id</th>\n",
              "      <th>director</th>\n",
              "      <th>actors</th>\n",
              "    </tr>\n",
              "  </thead>\n",
              "  <tbody>\n",
              "    <tr>\n",
              "      <th>0</th>\n",
              "      <td>862</td>\n",
              "      <td>[John Lasseter]</td>\n",
              "      <td>[Tom Hanks, Tim Allen, Don Rickles, Jim Varney...</td>\n",
              "    </tr>\n",
              "    <tr>\n",
              "      <th>1</th>\n",
              "      <td>8844</td>\n",
              "      <td>[Joe Johnston]</td>\n",
              "      <td>[Robin Williams, Jonathan Hyde, Kirsten Dunst,...</td>\n",
              "    </tr>\n",
              "    <tr>\n",
              "      <th>2</th>\n",
              "      <td>15602</td>\n",
              "      <td>[Howard Deutch]</td>\n",
              "      <td>[Walter Matthau, Jack Lemmon, Ann-Margret, Sop...</td>\n",
              "    </tr>\n",
              "    <tr>\n",
              "      <th>3</th>\n",
              "      <td>31357</td>\n",
              "      <td>[Forest Whitaker]</td>\n",
              "      <td>[Whitney Houston, Angela Bassett, Loretta Devi...</td>\n",
              "    </tr>\n",
              "    <tr>\n",
              "      <th>4</th>\n",
              "      <td>11862</td>\n",
              "      <td>[Charles Shyer]</td>\n",
              "      <td>[Steve Martin, Diane Keaton, Martin Short, Kim...</td>\n",
              "    </tr>\n",
              "    <tr>\n",
              "      <th>...</th>\n",
              "      <td>...</td>\n",
              "      <td>...</td>\n",
              "      <td>...</td>\n",
              "    </tr>\n",
              "    <tr>\n",
              "      <th>45471</th>\n",
              "      <td>439050</td>\n",
              "      <td>[Hamid Nematollah]</td>\n",
              "      <td>[Leila Hatami, Kourosh Tahami, Elham Korda]</td>\n",
              "    </tr>\n",
              "    <tr>\n",
              "      <th>45472</th>\n",
              "      <td>111109</td>\n",
              "      <td>[Lav Diaz]</td>\n",
              "      <td>[Angel Aquino, Perry Dizon, Hazel Orencio, Joe...</td>\n",
              "    </tr>\n",
              "    <tr>\n",
              "      <th>45473</th>\n",
              "      <td>67758</td>\n",
              "      <td>[Mark L. Lester]</td>\n",
              "      <td>[Erika Eleniak, Adam Baldwin, Julie du Page, J...</td>\n",
              "    </tr>\n",
              "    <tr>\n",
              "      <th>45474</th>\n",
              "      <td>227506</td>\n",
              "      <td>[Yakov Protazanov]</td>\n",
              "      <td>[Iwan Mosschuchin, Nathalie Lissenko, Pavel Pa...</td>\n",
              "    </tr>\n",
              "    <tr>\n",
              "      <th>45475</th>\n",
              "      <td>461257</td>\n",
              "      <td>[Daisy Asquith]</td>\n",
              "      <td>[]</td>\n",
              "    </tr>\n",
              "  </tbody>\n",
              "</table>\n",
              "<p>45476 rows × 3 columns</p>\n",
              "</div>\n",
              "      <button class=\"colab-df-convert\" onclick=\"convertToInteractive('df-391241a7-30e6-4712-8255-38d2eac208e3')\"\n",
              "              title=\"Convert this dataframe to an interactive table.\"\n",
              "              style=\"display:none;\">\n",
              "        \n",
              "  <svg xmlns=\"http://www.w3.org/2000/svg\" height=\"24px\"viewBox=\"0 0 24 24\"\n",
              "       width=\"24px\">\n",
              "    <path d=\"M0 0h24v24H0V0z\" fill=\"none\"/>\n",
              "    <path d=\"M18.56 5.44l.94 2.06.94-2.06 2.06-.94-2.06-.94-.94-2.06-.94 2.06-2.06.94zm-11 1L8.5 8.5l.94-2.06 2.06-.94-2.06-.94L8.5 2.5l-.94 2.06-2.06.94zm10 10l.94 2.06.94-2.06 2.06-.94-2.06-.94-.94-2.06-.94 2.06-2.06.94z\"/><path d=\"M17.41 7.96l-1.37-1.37c-.4-.4-.92-.59-1.43-.59-.52 0-1.04.2-1.43.59L10.3 9.45l-7.72 7.72c-.78.78-.78 2.05 0 2.83L4 21.41c.39.39.9.59 1.41.59.51 0 1.02-.2 1.41-.59l7.78-7.78 2.81-2.81c.8-.78.8-2.07 0-2.86zM5.41 20L4 18.59l7.72-7.72 1.47 1.35L5.41 20z\"/>\n",
              "  </svg>\n",
              "      </button>\n",
              "      \n",
              "  <style>\n",
              "    .colab-df-container {\n",
              "      display:flex;\n",
              "      flex-wrap:wrap;\n",
              "      gap: 12px;\n",
              "    }\n",
              "\n",
              "    .colab-df-convert {\n",
              "      background-color: #E8F0FE;\n",
              "      border: none;\n",
              "      border-radius: 50%;\n",
              "      cursor: pointer;\n",
              "      display: none;\n",
              "      fill: #1967D2;\n",
              "      height: 32px;\n",
              "      padding: 0 0 0 0;\n",
              "      width: 32px;\n",
              "    }\n",
              "\n",
              "    .colab-df-convert:hover {\n",
              "      background-color: #E2EBFA;\n",
              "      box-shadow: 0px 1px 2px rgba(60, 64, 67, 0.3), 0px 1px 3px 1px rgba(60, 64, 67, 0.15);\n",
              "      fill: #174EA6;\n",
              "    }\n",
              "\n",
              "    [theme=dark] .colab-df-convert {\n",
              "      background-color: #3B4455;\n",
              "      fill: #D2E3FC;\n",
              "    }\n",
              "\n",
              "    [theme=dark] .colab-df-convert:hover {\n",
              "      background-color: #434B5C;\n",
              "      box-shadow: 0px 1px 3px 1px rgba(0, 0, 0, 0.15);\n",
              "      filter: drop-shadow(0px 1px 2px rgba(0, 0, 0, 0.3));\n",
              "      fill: #FFFFFF;\n",
              "    }\n",
              "  </style>\n",
              "\n",
              "      <script>\n",
              "        const buttonEl =\n",
              "          document.querySelector('#df-391241a7-30e6-4712-8255-38d2eac208e3 button.colab-df-convert');\n",
              "        buttonEl.style.display =\n",
              "          google.colab.kernel.accessAllowed ? 'block' : 'none';\n",
              "\n",
              "        async function convertToInteractive(key) {\n",
              "          const element = document.querySelector('#df-391241a7-30e6-4712-8255-38d2eac208e3');\n",
              "          const dataTable =\n",
              "            await google.colab.kernel.invokeFunction('convertToInteractive',\n",
              "                                                     [key], {});\n",
              "          if (!dataTable) return;\n",
              "\n",
              "          const docLinkHtml = 'Like what you see? Visit the ' +\n",
              "            '<a target=\"_blank\" href=https://colab.research.google.com/notebooks/data_table.ipynb>data table notebook</a>'\n",
              "            + ' to learn more about interactive tables.';\n",
              "          element.innerHTML = '';\n",
              "          dataTable['output_type'] = 'display_data';\n",
              "          await google.colab.output.renderOutput(dataTable, element);\n",
              "          const docLink = document.createElement('div');\n",
              "          docLink.innerHTML = docLinkHtml;\n",
              "          element.appendChild(docLink);\n",
              "        }\n",
              "      </script>\n",
              "    </div>\n",
              "  </div>\n",
              "  "
            ]
          },
          "metadata": {},
          "execution_count": 16
        }
      ]
    },
    {
      "cell_type": "code",
      "source": [
        "credits.info()"
      ],
      "metadata": {
        "colab": {
          "base_uri": "https://localhost:8080/"
        },
        "id": "aV89yCp9s2WD",
        "outputId": "53848fd3-e9ee-4ff4-d509-a84021b90734"
      },
      "execution_count": null,
      "outputs": [
        {
          "output_type": "stream",
          "name": "stdout",
          "text": [
            "<class 'pandas.core.frame.DataFrame'>\n",
            "RangeIndex: 45476 entries, 0 to 45475\n",
            "Data columns (total 3 columns):\n",
            " #   Column    Non-Null Count  Dtype \n",
            "---  ------    --------------  ----- \n",
            " 0   id        45476 non-null  int64 \n",
            " 1   director  45476 non-null  object\n",
            " 2   actors    45476 non-null  object\n",
            "dtypes: int64(1), object(2)\n",
            "memory usage: 1.0+ MB\n"
          ]
        }
      ]
    },
    {
      "cell_type": "code",
      "source": [
        "# Verifico que no haya nulos\n",
        "credits.isnull().sum()"
      ],
      "metadata": {
        "colab": {
          "base_uri": "https://localhost:8080/"
        },
        "id": "2Gc04PTQs52W",
        "outputId": "56d02e47-cca5-4dda-be59-976feba1eee2"
      },
      "execution_count": null,
      "outputs": [
        {
          "output_type": "execute_result",
          "data": {
            "text/plain": [
              "id          0\n",
              "director    0\n",
              "actors      0\n",
              "dtype: int64"
            ]
          },
          "metadata": {},
          "execution_count": 18
        }
      ]
    },
    {
      "cell_type": "markdown",
      "source": [
        "# DF Movies"
      ],
      "metadata": {
        "id": "HG0k7GjRru9t"
      }
    },
    {
      "cell_type": "code",
      "source": [
        "# Función para pasar de string a lista, se controlan nulos.\n",
        "def convert_to_dict(value):\n",
        "    if pd.notnull(value):\n",
        "        try:\n",
        "            return ast.literal_eval(value)\n",
        "        except (ValueError, SyntaxError):\n",
        "            return None\n",
        "    else:\n",
        "        return None"
      ],
      "metadata": {
        "id": "fbbhVBQZP6nj"
      },
      "execution_count": null,
      "outputs": []
    },
    {
      "cell_type": "markdown",
      "source": [
        "## Columna **belongs_to_collection**"
      ],
      "metadata": {
        "id": "A9wVnwRKBYXL"
      }
    },
    {
      "cell_type": "code",
      "source": [
        "movies.info()"
      ],
      "metadata": {
        "id": "JQSXHrK928LR",
        "colab": {
          "base_uri": "https://localhost:8080/"
        },
        "outputId": "c1e5657d-12ca-4bea-a88d-38a902b585a9"
      },
      "execution_count": null,
      "outputs": [
        {
          "output_type": "stream",
          "name": "stdout",
          "text": [
            "<class 'pandas.core.frame.DataFrame'>\n",
            "RangeIndex: 45466 entries, 0 to 45465\n",
            "Data columns (total 24 columns):\n",
            " #   Column                 Non-Null Count  Dtype  \n",
            "---  ------                 --------------  -----  \n",
            " 0   adult                  45466 non-null  object \n",
            " 1   belongs_to_collection  4494 non-null   object \n",
            " 2   budget                 45466 non-null  object \n",
            " 3   genres                 45466 non-null  object \n",
            " 4   homepage               7782 non-null   object \n",
            " 5   id                     45466 non-null  object \n",
            " 6   imdb_id                45449 non-null  object \n",
            " 7   original_language      45455 non-null  object \n",
            " 8   original_title         45466 non-null  object \n",
            " 9   overview               44512 non-null  object \n",
            " 10  popularity             45461 non-null  object \n",
            " 11  poster_path            45080 non-null  object \n",
            " 12  production_companies   45463 non-null  object \n",
            " 13  production_countries   45463 non-null  object \n",
            " 14  release_date           45379 non-null  object \n",
            " 15  revenue                45460 non-null  float64\n",
            " 16  runtime                45203 non-null  float64\n",
            " 17  spoken_languages       45460 non-null  object \n",
            " 18  status                 45379 non-null  object \n",
            " 19  tagline                20412 non-null  object \n",
            " 20  title                  45460 non-null  object \n",
            " 21  video                  45460 non-null  object \n",
            " 22  vote_average           45460 non-null  float64\n",
            " 23  vote_count             45460 non-null  float64\n",
            "dtypes: float64(4), object(20)\n",
            "memory usage: 8.3+ MB\n"
          ]
        }
      ]
    },
    {
      "cell_type": "code",
      "source": [
        "print(movies['belongs_to_collection'][0])\n",
        "type(movies['belongs_to_collection'][0])"
      ],
      "metadata": {
        "id": "ZPR_-6g27Nm_",
        "colab": {
          "base_uri": "https://localhost:8080/"
        },
        "outputId": "1c89630b-ed7e-4890-f4e3-b1bc41769574"
      },
      "execution_count": null,
      "outputs": [
        {
          "output_type": "stream",
          "name": "stdout",
          "text": [
            "{'id': 10194, 'name': 'Toy Story Collection', 'poster_path': '/7G9915LfUQ2lVfwMEEhDsn3kT4B.jpg', 'backdrop_path': '/9FBwqcd9IRruEDUrTdcaafOMKUq.jpg'}\n"
          ]
        },
        {
          "output_type": "execute_result",
          "data": {
            "text/plain": [
              "str"
            ]
          },
          "metadata": {},
          "execution_count": 21
        }
      ]
    },
    {
      "cell_type": "code",
      "source": [
        "movies['belongs_to_collection'].head(5)"
      ],
      "metadata": {
        "id": "LylJwBumTzO2",
        "colab": {
          "base_uri": "https://localhost:8080/"
        },
        "outputId": "31c7da17-77e5-42ba-985a-5389846622df"
      },
      "execution_count": null,
      "outputs": [
        {
          "output_type": "execute_result",
          "data": {
            "text/plain": [
              "0    {'id': 10194, 'name': 'Toy Story Collection', ...\n",
              "1                                                  NaN\n",
              "2    {'id': 119050, 'name': 'Grumpy Old Men Collect...\n",
              "3                                                  NaN\n",
              "4    {'id': 96871, 'name': 'Father of the Bride Col...\n",
              "Name: belongs_to_collection, dtype: object"
            ]
          },
          "metadata": {},
          "execution_count": 22
        }
      ]
    },
    {
      "cell_type": "code",
      "source": [
        "# Aplicamos la función para pasarlo de str a lista\n",
        "movies['belongs_to_collection'] = movies['belongs_to_collection'].apply(convert_to_dict)"
      ],
      "metadata": {
        "id": "uhLbcgbMfdHt"
      },
      "execution_count": null,
      "outputs": []
    },
    {
      "cell_type": "code",
      "source": [
        "# Verificamos\n",
        "print(movies['belongs_to_collection'][0])\n",
        "type(movies['belongs_to_collection'][0])"
      ],
      "metadata": {
        "colab": {
          "base_uri": "https://localhost:8080/"
        },
        "id": "AeiLBg3AWET9",
        "outputId": "d748aff6-e575-416c-adef-7b5a598fab6a"
      },
      "execution_count": null,
      "outputs": [
        {
          "output_type": "stream",
          "name": "stdout",
          "text": [
            "{'id': 10194, 'name': 'Toy Story Collection', 'poster_path': '/7G9915LfUQ2lVfwMEEhDsn3kT4B.jpg', 'backdrop_path': '/9FBwqcd9IRruEDUrTdcaafOMKUq.jpg'}\n"
          ]
        },
        {
          "output_type": "execute_result",
          "data": {
            "text/plain": [
              "dict"
            ]
          },
          "metadata": {},
          "execution_count": 24
        }
      ]
    },
    {
      "cell_type": "code",
      "source": [
        "# Quiero extraer los nombres de las colecciones pero falla por 3 datos tipo Float\n",
        "\n",
        "# collection = movies['belongs_to_collection'].apply(lambda x: x['name'] if x is not None else None)\n",
        "# collection"
      ],
      "metadata": {
        "id": "jC9LpJTyQ1Aq"
      },
      "execution_count": null,
      "outputs": []
    },
    {
      "cell_type": "code",
      "source": [
        "# Compruebo donde estan esos valores float\n",
        "\n",
        "for index, row in movies.iterrows():\n",
        "    if isinstance(row[\"belongs_to_collection\"], float):\n",
        "        print(index, row[\"belongs_to_collection\"])\n",
        "\n"
      ],
      "metadata": {
        "colab": {
          "base_uri": "https://localhost:8080/"
        },
        "id": "k9sUpvcXX6Kk",
        "outputId": "98cbc670-c6b1-421c-ed8b-872abfe0cb2b"
      },
      "execution_count": null,
      "outputs": [
        {
          "output_type": "stream",
          "name": "stdout",
          "text": [
            "19730 0.065736\n",
            "29503 1.931659\n",
            "35587 2.185485\n"
          ]
        }
      ]
    },
    {
      "cell_type": "code",
      "source": [
        "# Veo cuantos valores tiene la columna\n",
        "print(len(movies['belongs_to_collection']))\n",
        "\n",
        "# Veo cuantos valores tiene el dataframe\n",
        "print(len(movies))\n",
        "# 45466"
      ],
      "metadata": {
        "colab": {
          "base_uri": "https://localhost:8080/"
        },
        "id": "EXqVMOHuU7zO",
        "outputId": "499d1bb8-d009-457b-c090-97d8856ebb59"
      },
      "execution_count": null,
      "outputs": [
        {
          "output_type": "stream",
          "name": "stdout",
          "text": [
            "45466\n",
            "45466\n"
          ]
        }
      ]
    },
    {
      "cell_type": "code",
      "source": [
        "# Elimino esas 3 filas de todo el dataframe ya que tenian valores cambiados\n",
        "movies = movies.drop(movies[movies['belongs_to_collection'].apply(lambda x: isinstance(x, float))].index)"
      ],
      "metadata": {
        "id": "J-eFXCTrXLeK"
      },
      "execution_count": null,
      "outputs": []
    },
    {
      "cell_type": "code",
      "source": [
        "# Veo cuantos valores tiene el dataframe despues de borrar\n",
        "len(movies)\n",
        "#45563"
      ],
      "metadata": {
        "colab": {
          "base_uri": "https://localhost:8080/"
        },
        "id": "Knu2TbuXXhdQ",
        "outputId": "bb57c90d-c635-4094-c5c2-20568944f442"
      },
      "execution_count": null,
      "outputs": [
        {
          "output_type": "execute_result",
          "data": {
            "text/plain": [
              "45463"
            ]
          },
          "metadata": {},
          "execution_count": 29
        }
      ]
    },
    {
      "cell_type": "code",
      "source": [
        "# Definir la función para extraer el nombre de las franquicias\n",
        "# Esta función asume que los valores float ya han sido eliminados previamente, por lo que no es necesario verificar si el valor es float o nan.\n",
        "def extract_name(collection):\n",
        "    if isinstance(collection, dict):\n",
        "        return collection.get('name')\n",
        "    return None\n",
        "\n",
        "# def extract_name(collection):\n",
        "#     if isinstance(collection, dict):\n",
        "#         return collection['name']\n",
        "#     elif isinstance(collection, float) and math.isnan(collection):\n",
        "#         return None\n",
        "#     else:\n",
        "#         return None\n",
        "\n",
        "# Aplicar la función a la columna para extraer los nombres y reemplazarla\n",
        "movies['belongs_to_collection'] = movies['belongs_to_collection'].apply(extract_name)\n",
        "\n",
        "print(movies['belongs_to_collection'])\n"
      ],
      "metadata": {
        "colab": {
          "base_uri": "https://localhost:8080/"
        },
        "id": "APMGQGAbVs8N",
        "outputId": "f269b892-4707-4991-c277-60468e2c0520"
      },
      "execution_count": null,
      "outputs": [
        {
          "output_type": "stream",
          "name": "stdout",
          "text": [
            "0                  Toy Story Collection\n",
            "1                                  None\n",
            "2             Grumpy Old Men Collection\n",
            "3                                  None\n",
            "4        Father of the Bride Collection\n",
            "                      ...              \n",
            "45461                              None\n",
            "45462                              None\n",
            "45463                              None\n",
            "45464                              None\n",
            "45465                              None\n",
            "Name: belongs_to_collection, Length: 45463, dtype: object\n"
          ]
        }
      ]
    },
    {
      "cell_type": "code",
      "source": [
        "# verificar los registros no nulos que tengo\n",
        "len(movies['belongs_to_collection']) - movies['belongs_to_collection'].isnull().sum()"
      ],
      "metadata": {
        "colab": {
          "base_uri": "https://localhost:8080/"
        },
        "id": "SOIko0R4X2ZD",
        "outputId": "36d9e851-0caa-4a26-8e1f-50a42d3a9d7e"
      },
      "execution_count": null,
      "outputs": [
        {
          "output_type": "execute_result",
          "data": {
            "text/plain": [
              "4491"
            ]
          },
          "metadata": {},
          "execution_count": 31
        }
      ]
    },
    {
      "cell_type": "markdown",
      "source": [],
      "metadata": {
        "id": "SpFWtf8Yp-lI"
      }
    },
    {
      "cell_type": "markdown",
      "source": [
        "## Columna **genres**"
      ],
      "metadata": {
        "id": "kOp3Pm8xC87c"
      }
    },
    {
      "cell_type": "code",
      "source": [
        "movies['genres'].isnull().sum()"
      ],
      "metadata": {
        "colab": {
          "base_uri": "https://localhost:8080/"
        },
        "id": "CrCztGmKCgjU",
        "outputId": "2b0c8dbf-a03c-4c44-e35c-3cd07fd47719"
      },
      "execution_count": null,
      "outputs": [
        {
          "output_type": "execute_result",
          "data": {
            "text/plain": [
              "0"
            ]
          },
          "metadata": {},
          "execution_count": 32
        }
      ]
    },
    {
      "cell_type": "code",
      "source": [
        "print(movies['genres'][0])\n",
        "type(movies['genres'][0])"
      ],
      "metadata": {
        "colab": {
          "base_uri": "https://localhost:8080/"
        },
        "id": "ui07oCpiD2B5",
        "outputId": "e9f4305c-5bee-4f57-c7b1-0074a7e287ed"
      },
      "execution_count": null,
      "outputs": [
        {
          "output_type": "stream",
          "name": "stdout",
          "text": [
            "[{'id': 16, 'name': 'Animation'}, {'id': 35, 'name': 'Comedy'}, {'id': 10751, 'name': 'Family'}]\n"
          ]
        },
        {
          "output_type": "execute_result",
          "data": {
            "text/plain": [
              "str"
            ]
          },
          "metadata": {},
          "execution_count": 33
        }
      ]
    },
    {
      "cell_type": "code",
      "source": [
        "# Uso la función creada para pasarlo a lista de diccionarios\n",
        "movies['genres'] = movies['genres'].apply(convert_to_dict)"
      ],
      "metadata": {
        "id": "Ia5LXGT6EZtW"
      },
      "execution_count": null,
      "outputs": []
    },
    {
      "cell_type": "code",
      "source": [
        "# Creo una función que recorra cada diccionario de la lista \"genres\" y me devuelva una lista con los generos de cada película, pensado para el modelo de ML.\n",
        "\n",
        "def get_genres(movie_genres):\n",
        "    genres_list = []\n",
        "    for genre in movie_genres:\n",
        "        genres_list.append(genre['name'])\n",
        "    return genres_list\n",
        "\n",
        "# Creo una nueva columna en el df \"credits\" aplicando la función \"get_directors\" a cada registro de la columna \"crew\":\n",
        "movies['genres']= movies['genres'].apply(get_genres)"
      ],
      "metadata": {
        "id": "cLrZ7vZrDL0h"
      },
      "execution_count": null,
      "outputs": []
    },
    {
      "cell_type": "code",
      "source": [
        "movies.head(3)"
      ],
      "metadata": {
        "id": "wL4fTOYCEN6o",
        "colab": {
          "base_uri": "https://localhost:8080/",
          "height": 321
        },
        "outputId": "afe289cc-c39d-4348-9785-22f9e9ce1116"
      },
      "execution_count": null,
      "outputs": [
        {
          "output_type": "execute_result",
          "data": {
            "text/plain": [
              "   adult      belongs_to_collection    budget                        genres  \\\n",
              "0  False       Toy Story Collection  30000000   [Animation, Comedy, Family]   \n",
              "1  False                       None  65000000  [Adventure, Fantasy, Family]   \n",
              "2  False  Grumpy Old Men Collection         0             [Romance, Comedy]   \n",
              "\n",
              "                               homepage     id    imdb_id original_language  \\\n",
              "0  http://toystory.disney.com/toy-story    862  tt0114709                en   \n",
              "1                                   NaN   8844  tt0113497                en   \n",
              "2                                   NaN  15602  tt0113228                en   \n",
              "\n",
              "     original_title                                           overview  ...  \\\n",
              "0         Toy Story  Led by Woody, Andy's toys live happily in his ...  ...   \n",
              "1           Jumanji  When siblings Judy and Peter discover an encha...  ...   \n",
              "2  Grumpier Old Men  A family wedding reignites the ancient feud be...  ...   \n",
              "\n",
              "  release_date      revenue runtime  \\\n",
              "0   1995-10-30  373554033.0    81.0   \n",
              "1   1995-12-15  262797249.0   104.0   \n",
              "2   1995-12-22          0.0   101.0   \n",
              "\n",
              "                                    spoken_languages    status  \\\n",
              "0           [{'iso_639_1': 'en', 'name': 'English'}]  Released   \n",
              "1  [{'iso_639_1': 'en', 'name': 'English'}, {'iso...  Released   \n",
              "2           [{'iso_639_1': 'en', 'name': 'English'}]  Released   \n",
              "\n",
              "                                             tagline             title  video  \\\n",
              "0                                                NaN         Toy Story  False   \n",
              "1          Roll the dice and unleash the excitement!           Jumanji  False   \n",
              "2  Still Yelling. Still Fighting. Still Ready for...  Grumpier Old Men  False   \n",
              "\n",
              "  vote_average vote_count  \n",
              "0          7.7     5415.0  \n",
              "1          6.9     2413.0  \n",
              "2          6.5       92.0  \n",
              "\n",
              "[3 rows x 24 columns]"
            ],
            "text/html": [
              "\n",
              "  <div id=\"df-4bbe9781-c4a5-47d7-897d-bca29aee64e9\">\n",
              "    <div class=\"colab-df-container\">\n",
              "      <div>\n",
              "<style scoped>\n",
              "    .dataframe tbody tr th:only-of-type {\n",
              "        vertical-align: middle;\n",
              "    }\n",
              "\n",
              "    .dataframe tbody tr th {\n",
              "        vertical-align: top;\n",
              "    }\n",
              "\n",
              "    .dataframe thead th {\n",
              "        text-align: right;\n",
              "    }\n",
              "</style>\n",
              "<table border=\"1\" class=\"dataframe\">\n",
              "  <thead>\n",
              "    <tr style=\"text-align: right;\">\n",
              "      <th></th>\n",
              "      <th>adult</th>\n",
              "      <th>belongs_to_collection</th>\n",
              "      <th>budget</th>\n",
              "      <th>genres</th>\n",
              "      <th>homepage</th>\n",
              "      <th>id</th>\n",
              "      <th>imdb_id</th>\n",
              "      <th>original_language</th>\n",
              "      <th>original_title</th>\n",
              "      <th>overview</th>\n",
              "      <th>...</th>\n",
              "      <th>release_date</th>\n",
              "      <th>revenue</th>\n",
              "      <th>runtime</th>\n",
              "      <th>spoken_languages</th>\n",
              "      <th>status</th>\n",
              "      <th>tagline</th>\n",
              "      <th>title</th>\n",
              "      <th>video</th>\n",
              "      <th>vote_average</th>\n",
              "      <th>vote_count</th>\n",
              "    </tr>\n",
              "  </thead>\n",
              "  <tbody>\n",
              "    <tr>\n",
              "      <th>0</th>\n",
              "      <td>False</td>\n",
              "      <td>Toy Story Collection</td>\n",
              "      <td>30000000</td>\n",
              "      <td>[Animation, Comedy, Family]</td>\n",
              "      <td>http://toystory.disney.com/toy-story</td>\n",
              "      <td>862</td>\n",
              "      <td>tt0114709</td>\n",
              "      <td>en</td>\n",
              "      <td>Toy Story</td>\n",
              "      <td>Led by Woody, Andy's toys live happily in his ...</td>\n",
              "      <td>...</td>\n",
              "      <td>1995-10-30</td>\n",
              "      <td>373554033.0</td>\n",
              "      <td>81.0</td>\n",
              "      <td>[{'iso_639_1': 'en', 'name': 'English'}]</td>\n",
              "      <td>Released</td>\n",
              "      <td>NaN</td>\n",
              "      <td>Toy Story</td>\n",
              "      <td>False</td>\n",
              "      <td>7.7</td>\n",
              "      <td>5415.0</td>\n",
              "    </tr>\n",
              "    <tr>\n",
              "      <th>1</th>\n",
              "      <td>False</td>\n",
              "      <td>None</td>\n",
              "      <td>65000000</td>\n",
              "      <td>[Adventure, Fantasy, Family]</td>\n",
              "      <td>NaN</td>\n",
              "      <td>8844</td>\n",
              "      <td>tt0113497</td>\n",
              "      <td>en</td>\n",
              "      <td>Jumanji</td>\n",
              "      <td>When siblings Judy and Peter discover an encha...</td>\n",
              "      <td>...</td>\n",
              "      <td>1995-12-15</td>\n",
              "      <td>262797249.0</td>\n",
              "      <td>104.0</td>\n",
              "      <td>[{'iso_639_1': 'en', 'name': 'English'}, {'iso...</td>\n",
              "      <td>Released</td>\n",
              "      <td>Roll the dice and unleash the excitement!</td>\n",
              "      <td>Jumanji</td>\n",
              "      <td>False</td>\n",
              "      <td>6.9</td>\n",
              "      <td>2413.0</td>\n",
              "    </tr>\n",
              "    <tr>\n",
              "      <th>2</th>\n",
              "      <td>False</td>\n",
              "      <td>Grumpy Old Men Collection</td>\n",
              "      <td>0</td>\n",
              "      <td>[Romance, Comedy]</td>\n",
              "      <td>NaN</td>\n",
              "      <td>15602</td>\n",
              "      <td>tt0113228</td>\n",
              "      <td>en</td>\n",
              "      <td>Grumpier Old Men</td>\n",
              "      <td>A family wedding reignites the ancient feud be...</td>\n",
              "      <td>...</td>\n",
              "      <td>1995-12-22</td>\n",
              "      <td>0.0</td>\n",
              "      <td>101.0</td>\n",
              "      <td>[{'iso_639_1': 'en', 'name': 'English'}]</td>\n",
              "      <td>Released</td>\n",
              "      <td>Still Yelling. Still Fighting. Still Ready for...</td>\n",
              "      <td>Grumpier Old Men</td>\n",
              "      <td>False</td>\n",
              "      <td>6.5</td>\n",
              "      <td>92.0</td>\n",
              "    </tr>\n",
              "  </tbody>\n",
              "</table>\n",
              "<p>3 rows × 24 columns</p>\n",
              "</div>\n",
              "      <button class=\"colab-df-convert\" onclick=\"convertToInteractive('df-4bbe9781-c4a5-47d7-897d-bca29aee64e9')\"\n",
              "              title=\"Convert this dataframe to an interactive table.\"\n",
              "              style=\"display:none;\">\n",
              "        \n",
              "  <svg xmlns=\"http://www.w3.org/2000/svg\" height=\"24px\"viewBox=\"0 0 24 24\"\n",
              "       width=\"24px\">\n",
              "    <path d=\"M0 0h24v24H0V0z\" fill=\"none\"/>\n",
              "    <path d=\"M18.56 5.44l.94 2.06.94-2.06 2.06-.94-2.06-.94-.94-2.06-.94 2.06-2.06.94zm-11 1L8.5 8.5l.94-2.06 2.06-.94-2.06-.94L8.5 2.5l-.94 2.06-2.06.94zm10 10l.94 2.06.94-2.06 2.06-.94-2.06-.94-.94-2.06-.94 2.06-2.06.94z\"/><path d=\"M17.41 7.96l-1.37-1.37c-.4-.4-.92-.59-1.43-.59-.52 0-1.04.2-1.43.59L10.3 9.45l-7.72 7.72c-.78.78-.78 2.05 0 2.83L4 21.41c.39.39.9.59 1.41.59.51 0 1.02-.2 1.41-.59l7.78-7.78 2.81-2.81c.8-.78.8-2.07 0-2.86zM5.41 20L4 18.59l7.72-7.72 1.47 1.35L5.41 20z\"/>\n",
              "  </svg>\n",
              "      </button>\n",
              "      \n",
              "  <style>\n",
              "    .colab-df-container {\n",
              "      display:flex;\n",
              "      flex-wrap:wrap;\n",
              "      gap: 12px;\n",
              "    }\n",
              "\n",
              "    .colab-df-convert {\n",
              "      background-color: #E8F0FE;\n",
              "      border: none;\n",
              "      border-radius: 50%;\n",
              "      cursor: pointer;\n",
              "      display: none;\n",
              "      fill: #1967D2;\n",
              "      height: 32px;\n",
              "      padding: 0 0 0 0;\n",
              "      width: 32px;\n",
              "    }\n",
              "\n",
              "    .colab-df-convert:hover {\n",
              "      background-color: #E2EBFA;\n",
              "      box-shadow: 0px 1px 2px rgba(60, 64, 67, 0.3), 0px 1px 3px 1px rgba(60, 64, 67, 0.15);\n",
              "      fill: #174EA6;\n",
              "    }\n",
              "\n",
              "    [theme=dark] .colab-df-convert {\n",
              "      background-color: #3B4455;\n",
              "      fill: #D2E3FC;\n",
              "    }\n",
              "\n",
              "    [theme=dark] .colab-df-convert:hover {\n",
              "      background-color: #434B5C;\n",
              "      box-shadow: 0px 1px 3px 1px rgba(0, 0, 0, 0.15);\n",
              "      filter: drop-shadow(0px 1px 2px rgba(0, 0, 0, 0.3));\n",
              "      fill: #FFFFFF;\n",
              "    }\n",
              "  </style>\n",
              "\n",
              "      <script>\n",
              "        const buttonEl =\n",
              "          document.querySelector('#df-4bbe9781-c4a5-47d7-897d-bca29aee64e9 button.colab-df-convert');\n",
              "        buttonEl.style.display =\n",
              "          google.colab.kernel.accessAllowed ? 'block' : 'none';\n",
              "\n",
              "        async function convertToInteractive(key) {\n",
              "          const element = document.querySelector('#df-4bbe9781-c4a5-47d7-897d-bca29aee64e9');\n",
              "          const dataTable =\n",
              "            await google.colab.kernel.invokeFunction('convertToInteractive',\n",
              "                                                     [key], {});\n",
              "          if (!dataTable) return;\n",
              "\n",
              "          const docLinkHtml = 'Like what you see? Visit the ' +\n",
              "            '<a target=\"_blank\" href=https://colab.research.google.com/notebooks/data_table.ipynb>data table notebook</a>'\n",
              "            + ' to learn more about interactive tables.';\n",
              "          element.innerHTML = '';\n",
              "          dataTable['output_type'] = 'display_data';\n",
              "          await google.colab.output.renderOutput(dataTable, element);\n",
              "          const docLink = document.createElement('div');\n",
              "          docLink.innerHTML = docLinkHtml;\n",
              "          element.appendChild(docLink);\n",
              "        }\n",
              "      </script>\n",
              "    </div>\n",
              "  </div>\n",
              "  "
            ]
          },
          "metadata": {},
          "execution_count": 36
        }
      ]
    },
    {
      "cell_type": "markdown",
      "source": [
        "## Columna **production_companies**"
      ],
      "metadata": {
        "id": "z21nm669IQGl"
      }
    },
    {
      "cell_type": "code",
      "source": [
        "movies['production_companies'].isnull().sum()"
      ],
      "metadata": {
        "colab": {
          "base_uri": "https://localhost:8080/"
        },
        "id": "9Y1jAw9IIS-h",
        "outputId": "604f68d2-d8c4-4b1a-ffa3-ca818f4ca16f"
      },
      "execution_count": null,
      "outputs": [
        {
          "output_type": "execute_result",
          "data": {
            "text/plain": [
              "3"
            ]
          },
          "metadata": {},
          "execution_count": 37
        }
      ]
    },
    {
      "cell_type": "code",
      "source": [
        "print(movies['production_companies'][0])\n",
        "type(movies['production_companies'][0])"
      ],
      "metadata": {
        "colab": {
          "base_uri": "https://localhost:8080/"
        },
        "id": "Tv-SgxnUIZmd",
        "outputId": "8bfbd039-8423-44a7-96b0-01d0726cf5cc"
      },
      "execution_count": null,
      "outputs": [
        {
          "output_type": "stream",
          "name": "stdout",
          "text": [
            "[{'name': 'Pixar Animation Studios', 'id': 3}]\n"
          ]
        },
        {
          "output_type": "execute_result",
          "data": {
            "text/plain": [
              "str"
            ]
          },
          "metadata": {},
          "execution_count": 38
        }
      ]
    },
    {
      "cell_type": "code",
      "source": [
        "# Applying the convert_to_dict function to the 'production_companies' column\n",
        "movies['production_companies'] = movies['production_companies'].apply(convert_to_dict)"
      ],
      "metadata": {
        "id": "0QQQb2dbZbUR"
      },
      "execution_count": null,
      "outputs": []
    },
    {
      "cell_type": "code",
      "source": [
        "movies['production_companies'][0]\n"
      ],
      "metadata": {
        "colab": {
          "base_uri": "https://localhost:8080/"
        },
        "id": "VIB-6bjqPf3_",
        "outputId": "31524ec4-98fa-4b56-85a8-d1b322dd9a6f"
      },
      "execution_count": null,
      "outputs": [
        {
          "output_type": "execute_result",
          "data": {
            "text/plain": [
              "[{'name': 'Pixar Animation Studios', 'id': 3}]"
            ]
          },
          "metadata": {},
          "execution_count": 40
        }
      ]
    },
    {
      "cell_type": "code",
      "source": [
        "def get_companies(compania):\n",
        "  companies=[]\n",
        "  if compania != None and type(compania) != bool:\n",
        "    try:\n",
        "      for dicc in compania:\n",
        "        companies.append(dicc[\"name\"])\n",
        "      return companies\n",
        "    except (ValueError, SyntaxError):\n",
        "      return None\n",
        "  else:\n",
        "    return None\n",
        "\n",
        "movies['production_companies'] = movies['production_companies'].apply(get_companies)"
      ],
      "metadata": {
        "id": "8OTMujWDQ1qr"
      },
      "execution_count": null,
      "outputs": []
    },
    {
      "cell_type": "code",
      "source": [
        "print(movies['production_companies'])\n",
        "print(len(movies['production_companies']))"
      ],
      "metadata": {
        "colab": {
          "base_uri": "https://localhost:8080/"
        },
        "id": "8so5U6m4au7P",
        "outputId": "a63359fa-7982-4291-9c4f-216b6333f024"
      },
      "execution_count": null,
      "outputs": [
        {
          "output_type": "stream",
          "name": "stdout",
          "text": [
            "0                                [Pixar Animation Studios]\n",
            "1        [TriStar Pictures, Teitler Film, Interscope Co...\n",
            "2                           [Warner Bros., Lancaster Gate]\n",
            "3                 [Twentieth Century Fox Film Corporation]\n",
            "4             [Sandollar Productions, Touchstone Pictures]\n",
            "                               ...                        \n",
            "45461                                                   []\n",
            "45462                                        [Sine Olivia]\n",
            "45463                            [American World Pictures]\n",
            "45464                                          [Yermoliev]\n",
            "45465                                                   []\n",
            "Name: production_companies, Length: 45463, dtype: object\n",
            "45463\n"
          ]
        }
      ]
    },
    {
      "cell_type": "code",
      "source": [
        "movies['production_companies'].isnull().sum()\n",
        "# Tengo 3 nulos"
      ],
      "metadata": {
        "colab": {
          "base_uri": "https://localhost:8080/"
        },
        "id": "MPPh65nOQKaJ",
        "outputId": "fcf9b13c-f447-4bfc-9f5c-911aa81e14cb"
      },
      "execution_count": null,
      "outputs": [
        {
          "output_type": "execute_result",
          "data": {
            "text/plain": [
              "3"
            ]
          },
          "metadata": {},
          "execution_count": 43
        }
      ]
    },
    {
      "cell_type": "code",
      "source": [
        "# Contar las listas vacías en el Series, considerando valores None\n",
        "empty_lists_count = movies['production_companies'].apply(lambda x: len(x) == 0 if x is not None else False).sum()\n",
        "\n",
        "# Imprimir el resultado\n",
        "print(empty_lists_count)\n",
        "\n",
        "#REVISAR OTRA VEZ\n"
      ],
      "metadata": {
        "colab": {
          "base_uri": "https://localhost:8080/"
        },
        "id": "bsAMcYpRapDR",
        "outputId": "76666a2b-8b65-4e0f-d09e-fa883ecfbe87"
      },
      "execution_count": null,
      "outputs": [
        {
          "output_type": "stream",
          "name": "stdout",
          "text": [
            "11875\n"
          ]
        }
      ]
    },
    {
      "cell_type": "code",
      "source": [
        "# # Funcion que verifica listas vacias\n",
        "# empty_count = df_movies[\"production_companies\"].apply(lambda x: len(x) == 0).sum()\n",
        "# empty_count\n",
        "\n",
        "# #REVISAR OTRA VEZ"
      ],
      "metadata": {
        "id": "Dh9DYuRiwJY9"
      },
      "execution_count": null,
      "outputs": []
    },
    {
      "cell_type": "code",
      "source": [
        "null_indices = movies[movies['production_companies'].isnull()].index\n",
        "print(null_indices)"
      ],
      "metadata": {
        "colab": {
          "base_uri": "https://localhost:8080/"
        },
        "id": "zvgBDhigJLqJ",
        "outputId": "f5893b9c-6cca-4d62-98b3-4cc479a496b2"
      },
      "execution_count": null,
      "outputs": [
        {
          "output_type": "stream",
          "name": "stdout",
          "text": [
            "Int64Index([19729, 29502, 35586], dtype='int64')\n"
          ]
        }
      ]
    },
    {
      "cell_type": "markdown",
      "source": [
        "## Columna **production_countries**"
      ],
      "metadata": {
        "id": "uMpZiRTKbzG3"
      }
    },
    {
      "cell_type": "code",
      "source": [
        "movies['production_countries'].isnull().sum()"
      ],
      "metadata": {
        "colab": {
          "base_uri": "https://localhost:8080/"
        },
        "id": "0uaaxWZIbyfJ",
        "outputId": "2e210520-6306-40b4-bc9a-23a4fb7b940c"
      },
      "execution_count": null,
      "outputs": [
        {
          "output_type": "execute_result",
          "data": {
            "text/plain": [
              "3"
            ]
          },
          "metadata": {},
          "execution_count": 47
        }
      ]
    },
    {
      "cell_type": "code",
      "source": [
        "print(movies['production_countries'][0])\n",
        "type(movies['production_countries'][0])"
      ],
      "metadata": {
        "colab": {
          "base_uri": "https://localhost:8080/"
        },
        "id": "-adKpsf7b_Ha",
        "outputId": "08322b4c-8bb3-4464-faf3-e44b7c832173"
      },
      "execution_count": null,
      "outputs": [
        {
          "output_type": "stream",
          "name": "stdout",
          "text": [
            "[{'iso_3166_1': 'US', 'name': 'United States of America'}]\n"
          ]
        },
        {
          "output_type": "execute_result",
          "data": {
            "text/plain": [
              "str"
            ]
          },
          "metadata": {},
          "execution_count": 48
        }
      ]
    },
    {
      "cell_type": "code",
      "source": [
        "movies['production_countries'] = movies['production_countries'].apply(convert_to_dict)"
      ],
      "metadata": {
        "id": "vzErF0clcCu3"
      },
      "execution_count": null,
      "outputs": []
    },
    {
      "cell_type": "code",
      "source": [
        "movies['production_countries'].head()"
      ],
      "metadata": {
        "colab": {
          "base_uri": "https://localhost:8080/"
        },
        "id": "bExqNvWve9ME",
        "outputId": "e4ca1a3c-535e-466d-bd24-29d18228931a"
      },
      "execution_count": null,
      "outputs": [
        {
          "output_type": "execute_result",
          "data": {
            "text/plain": [
              "0    [{'iso_3166_1': 'US', 'name': 'United States o...\n",
              "1    [{'iso_3166_1': 'US', 'name': 'United States o...\n",
              "2    [{'iso_3166_1': 'US', 'name': 'United States o...\n",
              "3    [{'iso_3166_1': 'US', 'name': 'United States o...\n",
              "4    [{'iso_3166_1': 'US', 'name': 'United States o...\n",
              "Name: production_countries, dtype: object"
            ]
          },
          "metadata": {},
          "execution_count": 50
        }
      ]
    },
    {
      "cell_type": "code",
      "source": [
        "# Ya está en lista. Aplico una función para obtener el nombre de los países:\n",
        "def get_countries(countrie):\n",
        "  countries=[]\n",
        "  if countrie!= None and type(countrie)!=float:\n",
        "    try:\n",
        "      for dicc in countrie:\n",
        "        countries.append(dicc[\"name\"])\n",
        "      return countries\n",
        "    except (ValueError, SyntaxError):\n",
        "      return None\n",
        "  else:\n",
        "      return None\n",
        "\n",
        "\n",
        "# Modifico la columna genres para que solo tenga una lista con los países:\n",
        "movies[\"production_countries\"]=movies[\"production_countries\"].apply(get_countries)"
      ],
      "metadata": {
        "id": "N18CKtn4wLTw"
      },
      "execution_count": null,
      "outputs": []
    },
    {
      "cell_type": "code",
      "source": [
        "# Función para extraer el valor de 'name' en cada fila\n",
        "# Me devuelve None en las listas vacias por eso la diferencia de 6207 con olga\n",
        "\n",
        "# def get_countries(row):\n",
        "#     if isinstance(row, list) and len(row) > 0:\n",
        "#         return row[0].get('name')\n",
        "#     else:\n",
        "#         return None\n",
        "\n",
        "# # Aplicar la función al Series\n",
        "# movies['production_countries'] = movies['production_countries'].apply(get_countries)\n",
        "\n"
      ],
      "metadata": {
        "id": "cPbbkb1wfXY0"
      },
      "execution_count": null,
      "outputs": []
    },
    {
      "cell_type": "code",
      "source": [
        "# print(movies['production_countries'].isnull().sum())\n",
        "\n",
        "# len(movies['production_countries'])"
      ],
      "metadata": {
        "id": "RVBRASnIfjqi"
      },
      "execution_count": null,
      "outputs": []
    },
    {
      "cell_type": "code",
      "source": [
        "movies.info()"
      ],
      "metadata": {
        "id": "PjoKE3-xgUVI",
        "colab": {
          "base_uri": "https://localhost:8080/"
        },
        "outputId": "b7592ace-772c-4efe-bf3c-72a8c1dfc767"
      },
      "execution_count": null,
      "outputs": [
        {
          "output_type": "stream",
          "name": "stdout",
          "text": [
            "<class 'pandas.core.frame.DataFrame'>\n",
            "Int64Index: 45463 entries, 0 to 45465\n",
            "Data columns (total 24 columns):\n",
            " #   Column                 Non-Null Count  Dtype  \n",
            "---  ------                 --------------  -----  \n",
            " 0   adult                  45463 non-null  object \n",
            " 1   belongs_to_collection  4491 non-null   object \n",
            " 2   budget                 45463 non-null  object \n",
            " 3   genres                 45463 non-null  object \n",
            " 4   homepage               7779 non-null   object \n",
            " 5   id                     45463 non-null  object \n",
            " 6   imdb_id                45446 non-null  object \n",
            " 7   original_language      45452 non-null  object \n",
            " 8   original_title         45463 non-null  object \n",
            " 9   overview               44509 non-null  object \n",
            " 10  popularity             45460 non-null  object \n",
            " 11  poster_path            45077 non-null  object \n",
            " 12  production_companies   45460 non-null  object \n",
            " 13  production_countries   45460 non-null  object \n",
            " 14  release_date           45376 non-null  object \n",
            " 15  revenue                45460 non-null  float64\n",
            " 16  runtime                45203 non-null  float64\n",
            " 17  spoken_languages       45460 non-null  object \n",
            " 18  status                 45379 non-null  object \n",
            " 19  tagline                20412 non-null  object \n",
            " 20  title                  45460 non-null  object \n",
            " 21  video                  45460 non-null  object \n",
            " 22  vote_average           45460 non-null  float64\n",
            " 23  vote_count             45460 non-null  float64\n",
            "dtypes: float64(4), object(20)\n",
            "memory usage: 9.7+ MB\n"
          ]
        }
      ]
    },
    {
      "cell_type": "code",
      "source": [
        "credits.info()"
      ],
      "metadata": {
        "id": "Npr1D4UKgWga",
        "colab": {
          "base_uri": "https://localhost:8080/"
        },
        "outputId": "1a473189-1c01-4b6e-d171-5e8cf74a5605"
      },
      "execution_count": null,
      "outputs": [
        {
          "output_type": "stream",
          "name": "stdout",
          "text": [
            "<class 'pandas.core.frame.DataFrame'>\n",
            "RangeIndex: 45476 entries, 0 to 45475\n",
            "Data columns (total 3 columns):\n",
            " #   Column    Non-Null Count  Dtype \n",
            "---  ------    --------------  ----- \n",
            " 0   id        45476 non-null  int64 \n",
            " 1   director  45476 non-null  object\n",
            " 2   actors    45476 non-null  object\n",
            "dtypes: int64(1), object(2)\n",
            "memory usage: 1.0+ MB\n"
          ]
        }
      ]
    },
    {
      "cell_type": "code",
      "source": [
        "movies['id'].duplicated().sum()"
      ],
      "metadata": {
        "colab": {
          "base_uri": "https://localhost:8080/"
        },
        "id": "s9x7VykZ4eaZ",
        "outputId": "dc501c25-7efd-4e0b-dae6-e0b229cc96a4"
      },
      "execution_count": null,
      "outputs": [
        {
          "output_type": "execute_result",
          "data": {
            "text/plain": [
              "30"
            ]
          },
          "metadata": {},
          "execution_count": 56
        }
      ]
    },
    {
      "cell_type": "code",
      "source": [
        "credits['id'].duplicated().sum()"
      ],
      "metadata": {
        "colab": {
          "base_uri": "https://localhost:8080/"
        },
        "id": "0k9Ze_tB4nnM",
        "outputId": "fb052af3-1cb6-4859-e882-b3f63aed2711"
      },
      "execution_count": null,
      "outputs": [
        {
          "output_type": "execute_result",
          "data": {
            "text/plain": [
              "44"
            ]
          },
          "metadata": {},
          "execution_count": 57
        }
      ]
    },
    {
      "cell_type": "markdown",
      "source": [
        "# Merge de DataFrames, credits & movies"
      ],
      "metadata": {
        "id": "Jlo2u72ow4aV"
      }
    },
    {
      "cell_type": "code",
      "source": [
        "# Eliminar duplicados de movies y credits antes del merge\n",
        "movies.drop_duplicates(subset='id', inplace=True)\n",
        "credits.drop_duplicates(subset='id', inplace=True)\n",
        "\n",
        "# 44 y 30\n"
      ],
      "metadata": {
        "id": "NSpxvNIR5Q4w"
      },
      "execution_count": null,
      "outputs": []
    },
    {
      "cell_type": "code",
      "source": [
        "# Paso a str\n",
        "credits['id'] = credits['id'].astype(str)\n",
        "movies['id'] =  movies['id'].astype(str)"
      ],
      "metadata": {
        "id": "C5oluCSa4VBi"
      },
      "execution_count": null,
      "outputs": []
    },
    {
      "cell_type": "code",
      "source": [
        "df_movies = pd.merge(movies, credits, on='id')"
      ],
      "metadata": {
        "id": "RM7gimQV33Kb"
      },
      "execution_count": null,
      "outputs": []
    },
    {
      "cell_type": "code",
      "source": [
        "df_movies.head(4)"
      ],
      "metadata": {
        "id": "yusUo3x_479f",
        "colab": {
          "base_uri": "https://localhost:8080/",
          "height": 405
        },
        "outputId": "2a7105b2-5de6-4550-e1fa-aea89c82d21d"
      },
      "execution_count": null,
      "outputs": [
        {
          "output_type": "execute_result",
          "data": {
            "text/plain": [
              "   adult      belongs_to_collection    budget                        genres  \\\n",
              "0  False       Toy Story Collection  30000000   [Animation, Comedy, Family]   \n",
              "1  False                       None  65000000  [Adventure, Fantasy, Family]   \n",
              "2  False  Grumpy Old Men Collection         0             [Romance, Comedy]   \n",
              "3  False                       None  16000000      [Comedy, Drama, Romance]   \n",
              "\n",
              "                               homepage     id    imdb_id original_language  \\\n",
              "0  http://toystory.disney.com/toy-story    862  tt0114709                en   \n",
              "1                                   NaN   8844  tt0113497                en   \n",
              "2                                   NaN  15602  tt0113228                en   \n",
              "3                                   NaN  31357  tt0114885                en   \n",
              "\n",
              "      original_title                                           overview  ...  \\\n",
              "0          Toy Story  Led by Woody, Andy's toys live happily in his ...  ...   \n",
              "1            Jumanji  When siblings Judy and Peter discover an encha...  ...   \n",
              "2   Grumpier Old Men  A family wedding reignites the ancient feud be...  ...   \n",
              "3  Waiting to Exhale  Cheated on, mistreated and stepped on, the wom...  ...   \n",
              "\n",
              "  runtime                                   spoken_languages    status  \\\n",
              "0    81.0           [{'iso_639_1': 'en', 'name': 'English'}]  Released   \n",
              "1   104.0  [{'iso_639_1': 'en', 'name': 'English'}, {'iso...  Released   \n",
              "2   101.0           [{'iso_639_1': 'en', 'name': 'English'}]  Released   \n",
              "3   127.0           [{'iso_639_1': 'en', 'name': 'English'}]  Released   \n",
              "\n",
              "                                             tagline              title  \\\n",
              "0                                                NaN          Toy Story   \n",
              "1          Roll the dice and unleash the excitement!            Jumanji   \n",
              "2  Still Yelling. Still Fighting. Still Ready for...   Grumpier Old Men   \n",
              "3  Friends are the people who let you be yourself...  Waiting to Exhale   \n",
              "\n",
              "   video  vote_average vote_count           director  \\\n",
              "0  False           7.7     5415.0    [John Lasseter]   \n",
              "1  False           6.9     2413.0     [Joe Johnston]   \n",
              "2  False           6.5       92.0    [Howard Deutch]   \n",
              "3  False           6.1       34.0  [Forest Whitaker]   \n",
              "\n",
              "                                              actors  \n",
              "0  [Tom Hanks, Tim Allen, Don Rickles, Jim Varney...  \n",
              "1  [Robin Williams, Jonathan Hyde, Kirsten Dunst,...  \n",
              "2  [Walter Matthau, Jack Lemmon, Ann-Margret, Sop...  \n",
              "3  [Whitney Houston, Angela Bassett, Loretta Devi...  \n",
              "\n",
              "[4 rows x 26 columns]"
            ],
            "text/html": [
              "\n",
              "  <div id=\"df-07819b75-009f-44cb-8ad3-b05c0be61032\">\n",
              "    <div class=\"colab-df-container\">\n",
              "      <div>\n",
              "<style scoped>\n",
              "    .dataframe tbody tr th:only-of-type {\n",
              "        vertical-align: middle;\n",
              "    }\n",
              "\n",
              "    .dataframe tbody tr th {\n",
              "        vertical-align: top;\n",
              "    }\n",
              "\n",
              "    .dataframe thead th {\n",
              "        text-align: right;\n",
              "    }\n",
              "</style>\n",
              "<table border=\"1\" class=\"dataframe\">\n",
              "  <thead>\n",
              "    <tr style=\"text-align: right;\">\n",
              "      <th></th>\n",
              "      <th>adult</th>\n",
              "      <th>belongs_to_collection</th>\n",
              "      <th>budget</th>\n",
              "      <th>genres</th>\n",
              "      <th>homepage</th>\n",
              "      <th>id</th>\n",
              "      <th>imdb_id</th>\n",
              "      <th>original_language</th>\n",
              "      <th>original_title</th>\n",
              "      <th>overview</th>\n",
              "      <th>...</th>\n",
              "      <th>runtime</th>\n",
              "      <th>spoken_languages</th>\n",
              "      <th>status</th>\n",
              "      <th>tagline</th>\n",
              "      <th>title</th>\n",
              "      <th>video</th>\n",
              "      <th>vote_average</th>\n",
              "      <th>vote_count</th>\n",
              "      <th>director</th>\n",
              "      <th>actors</th>\n",
              "    </tr>\n",
              "  </thead>\n",
              "  <tbody>\n",
              "    <tr>\n",
              "      <th>0</th>\n",
              "      <td>False</td>\n",
              "      <td>Toy Story Collection</td>\n",
              "      <td>30000000</td>\n",
              "      <td>[Animation, Comedy, Family]</td>\n",
              "      <td>http://toystory.disney.com/toy-story</td>\n",
              "      <td>862</td>\n",
              "      <td>tt0114709</td>\n",
              "      <td>en</td>\n",
              "      <td>Toy Story</td>\n",
              "      <td>Led by Woody, Andy's toys live happily in his ...</td>\n",
              "      <td>...</td>\n",
              "      <td>81.0</td>\n",
              "      <td>[{'iso_639_1': 'en', 'name': 'English'}]</td>\n",
              "      <td>Released</td>\n",
              "      <td>NaN</td>\n",
              "      <td>Toy Story</td>\n",
              "      <td>False</td>\n",
              "      <td>7.7</td>\n",
              "      <td>5415.0</td>\n",
              "      <td>[John Lasseter]</td>\n",
              "      <td>[Tom Hanks, Tim Allen, Don Rickles, Jim Varney...</td>\n",
              "    </tr>\n",
              "    <tr>\n",
              "      <th>1</th>\n",
              "      <td>False</td>\n",
              "      <td>None</td>\n",
              "      <td>65000000</td>\n",
              "      <td>[Adventure, Fantasy, Family]</td>\n",
              "      <td>NaN</td>\n",
              "      <td>8844</td>\n",
              "      <td>tt0113497</td>\n",
              "      <td>en</td>\n",
              "      <td>Jumanji</td>\n",
              "      <td>When siblings Judy and Peter discover an encha...</td>\n",
              "      <td>...</td>\n",
              "      <td>104.0</td>\n",
              "      <td>[{'iso_639_1': 'en', 'name': 'English'}, {'iso...</td>\n",
              "      <td>Released</td>\n",
              "      <td>Roll the dice and unleash the excitement!</td>\n",
              "      <td>Jumanji</td>\n",
              "      <td>False</td>\n",
              "      <td>6.9</td>\n",
              "      <td>2413.0</td>\n",
              "      <td>[Joe Johnston]</td>\n",
              "      <td>[Robin Williams, Jonathan Hyde, Kirsten Dunst,...</td>\n",
              "    </tr>\n",
              "    <tr>\n",
              "      <th>2</th>\n",
              "      <td>False</td>\n",
              "      <td>Grumpy Old Men Collection</td>\n",
              "      <td>0</td>\n",
              "      <td>[Romance, Comedy]</td>\n",
              "      <td>NaN</td>\n",
              "      <td>15602</td>\n",
              "      <td>tt0113228</td>\n",
              "      <td>en</td>\n",
              "      <td>Grumpier Old Men</td>\n",
              "      <td>A family wedding reignites the ancient feud be...</td>\n",
              "      <td>...</td>\n",
              "      <td>101.0</td>\n",
              "      <td>[{'iso_639_1': 'en', 'name': 'English'}]</td>\n",
              "      <td>Released</td>\n",
              "      <td>Still Yelling. Still Fighting. Still Ready for...</td>\n",
              "      <td>Grumpier Old Men</td>\n",
              "      <td>False</td>\n",
              "      <td>6.5</td>\n",
              "      <td>92.0</td>\n",
              "      <td>[Howard Deutch]</td>\n",
              "      <td>[Walter Matthau, Jack Lemmon, Ann-Margret, Sop...</td>\n",
              "    </tr>\n",
              "    <tr>\n",
              "      <th>3</th>\n",
              "      <td>False</td>\n",
              "      <td>None</td>\n",
              "      <td>16000000</td>\n",
              "      <td>[Comedy, Drama, Romance]</td>\n",
              "      <td>NaN</td>\n",
              "      <td>31357</td>\n",
              "      <td>tt0114885</td>\n",
              "      <td>en</td>\n",
              "      <td>Waiting to Exhale</td>\n",
              "      <td>Cheated on, mistreated and stepped on, the wom...</td>\n",
              "      <td>...</td>\n",
              "      <td>127.0</td>\n",
              "      <td>[{'iso_639_1': 'en', 'name': 'English'}]</td>\n",
              "      <td>Released</td>\n",
              "      <td>Friends are the people who let you be yourself...</td>\n",
              "      <td>Waiting to Exhale</td>\n",
              "      <td>False</td>\n",
              "      <td>6.1</td>\n",
              "      <td>34.0</td>\n",
              "      <td>[Forest Whitaker]</td>\n",
              "      <td>[Whitney Houston, Angela Bassett, Loretta Devi...</td>\n",
              "    </tr>\n",
              "  </tbody>\n",
              "</table>\n",
              "<p>4 rows × 26 columns</p>\n",
              "</div>\n",
              "      <button class=\"colab-df-convert\" onclick=\"convertToInteractive('df-07819b75-009f-44cb-8ad3-b05c0be61032')\"\n",
              "              title=\"Convert this dataframe to an interactive table.\"\n",
              "              style=\"display:none;\">\n",
              "        \n",
              "  <svg xmlns=\"http://www.w3.org/2000/svg\" height=\"24px\"viewBox=\"0 0 24 24\"\n",
              "       width=\"24px\">\n",
              "    <path d=\"M0 0h24v24H0V0z\" fill=\"none\"/>\n",
              "    <path d=\"M18.56 5.44l.94 2.06.94-2.06 2.06-.94-2.06-.94-.94-2.06-.94 2.06-2.06.94zm-11 1L8.5 8.5l.94-2.06 2.06-.94-2.06-.94L8.5 2.5l-.94 2.06-2.06.94zm10 10l.94 2.06.94-2.06 2.06-.94-2.06-.94-.94-2.06-.94 2.06-2.06.94z\"/><path d=\"M17.41 7.96l-1.37-1.37c-.4-.4-.92-.59-1.43-.59-.52 0-1.04.2-1.43.59L10.3 9.45l-7.72 7.72c-.78.78-.78 2.05 0 2.83L4 21.41c.39.39.9.59 1.41.59.51 0 1.02-.2 1.41-.59l7.78-7.78 2.81-2.81c.8-.78.8-2.07 0-2.86zM5.41 20L4 18.59l7.72-7.72 1.47 1.35L5.41 20z\"/>\n",
              "  </svg>\n",
              "      </button>\n",
              "      \n",
              "  <style>\n",
              "    .colab-df-container {\n",
              "      display:flex;\n",
              "      flex-wrap:wrap;\n",
              "      gap: 12px;\n",
              "    }\n",
              "\n",
              "    .colab-df-convert {\n",
              "      background-color: #E8F0FE;\n",
              "      border: none;\n",
              "      border-radius: 50%;\n",
              "      cursor: pointer;\n",
              "      display: none;\n",
              "      fill: #1967D2;\n",
              "      height: 32px;\n",
              "      padding: 0 0 0 0;\n",
              "      width: 32px;\n",
              "    }\n",
              "\n",
              "    .colab-df-convert:hover {\n",
              "      background-color: #E2EBFA;\n",
              "      box-shadow: 0px 1px 2px rgba(60, 64, 67, 0.3), 0px 1px 3px 1px rgba(60, 64, 67, 0.15);\n",
              "      fill: #174EA6;\n",
              "    }\n",
              "\n",
              "    [theme=dark] .colab-df-convert {\n",
              "      background-color: #3B4455;\n",
              "      fill: #D2E3FC;\n",
              "    }\n",
              "\n",
              "    [theme=dark] .colab-df-convert:hover {\n",
              "      background-color: #434B5C;\n",
              "      box-shadow: 0px 1px 3px 1px rgba(0, 0, 0, 0.15);\n",
              "      filter: drop-shadow(0px 1px 2px rgba(0, 0, 0, 0.3));\n",
              "      fill: #FFFFFF;\n",
              "    }\n",
              "  </style>\n",
              "\n",
              "      <script>\n",
              "        const buttonEl =\n",
              "          document.querySelector('#df-07819b75-009f-44cb-8ad3-b05c0be61032 button.colab-df-convert');\n",
              "        buttonEl.style.display =\n",
              "          google.colab.kernel.accessAllowed ? 'block' : 'none';\n",
              "\n",
              "        async function convertToInteractive(key) {\n",
              "          const element = document.querySelector('#df-07819b75-009f-44cb-8ad3-b05c0be61032');\n",
              "          const dataTable =\n",
              "            await google.colab.kernel.invokeFunction('convertToInteractive',\n",
              "                                                     [key], {});\n",
              "          if (!dataTable) return;\n",
              "\n",
              "          const docLinkHtml = 'Like what you see? Visit the ' +\n",
              "            '<a target=\"_blank\" href=https://colab.research.google.com/notebooks/data_table.ipynb>data table notebook</a>'\n",
              "            + ' to learn more about interactive tables.';\n",
              "          element.innerHTML = '';\n",
              "          dataTable['output_type'] = 'display_data';\n",
              "          await google.colab.output.renderOutput(dataTable, element);\n",
              "          const docLink = document.createElement('div');\n",
              "          docLink.innerHTML = docLinkHtml;\n",
              "          element.appendChild(docLink);\n",
              "        }\n",
              "      </script>\n",
              "    </div>\n",
              "  </div>\n",
              "  "
            ]
          },
          "metadata": {},
          "execution_count": 61
        }
      ]
    },
    {
      "cell_type": "code",
      "source": [
        "# Elimino columnas que no usaré\n",
        "columns_to_drop = ['video','imdb_id','adult','original_title', 'poster_path', 'homepage']\n",
        "df_movies = df_movies.drop(columns_to_drop, axis = 1)"
      ],
      "metadata": {
        "id": "MTFjhwdj8rUc"
      },
      "execution_count": null,
      "outputs": []
    },
    {
      "cell_type": "code",
      "source": [
        "df_movies.info()"
      ],
      "metadata": {
        "id": "JPSSNdEm6Pq0",
        "colab": {
          "base_uri": "https://localhost:8080/"
        },
        "outputId": "5cf79b7d-a589-4a6f-8dc6-0926dba443f9"
      },
      "execution_count": null,
      "outputs": [
        {
          "output_type": "stream",
          "name": "stdout",
          "text": [
            "<class 'pandas.core.frame.DataFrame'>\n",
            "Int64Index: 45432 entries, 0 to 45431\n",
            "Data columns (total 20 columns):\n",
            " #   Column                 Non-Null Count  Dtype  \n",
            "---  ------                 --------------  -----  \n",
            " 0   belongs_to_collection  4488 non-null   object \n",
            " 1   budget                 45432 non-null  object \n",
            " 2   genres                 45432 non-null  object \n",
            " 3   id                     45432 non-null  object \n",
            " 4   original_language      45421 non-null  object \n",
            " 5   overview               44478 non-null  object \n",
            " 6   popularity             45429 non-null  object \n",
            " 7   production_companies   45429 non-null  object \n",
            " 8   production_countries   45429 non-null  object \n",
            " 9   release_date           45345 non-null  object \n",
            " 10  revenue                45429 non-null  float64\n",
            " 11  runtime                45172 non-null  float64\n",
            " 12  spoken_languages       45429 non-null  object \n",
            " 13  status                 45348 non-null  object \n",
            " 14  tagline                20401 non-null  object \n",
            " 15  title                  45429 non-null  object \n",
            " 16  vote_average           45429 non-null  float64\n",
            " 17  vote_count             45429 non-null  float64\n",
            " 18  director               45432 non-null  object \n",
            " 19  actors                 45432 non-null  object \n",
            "dtypes: float64(4), object(16)\n",
            "memory usage: 7.3+ MB\n"
          ]
        }
      ]
    },
    {
      "cell_type": "code",
      "source": [
        "df_movies['id'].duplicated().sum()"
      ],
      "metadata": {
        "colab": {
          "base_uri": "https://localhost:8080/"
        },
        "id": "ZN1a8Ny67-dh",
        "outputId": "bbdb6b9d-a33d-45d6-a31f-488d5778fe6d"
      },
      "execution_count": null,
      "outputs": [
        {
          "output_type": "execute_result",
          "data": {
            "text/plain": [
              "0"
            ]
          },
          "metadata": {},
          "execution_count": 64
        }
      ]
    },
    {
      "cell_type": "markdown",
      "source": [
        "verificar datos por separado"
      ],
      "metadata": {
        "id": "OWirqJ3o6JyV"
      }
    },
    {
      "cell_type": "code",
      "source": [
        "print(movies['id'].duplicated().sum())\n",
        "print(type(movies['id'][0]))"
      ],
      "metadata": {
        "colab": {
          "base_uri": "https://localhost:8080/"
        },
        "id": "8IolhAeS27XQ",
        "outputId": "f1db5b12-6081-4b85-93b8-605fff9865ae"
      },
      "execution_count": null,
      "outputs": [
        {
          "output_type": "stream",
          "name": "stdout",
          "text": [
            "0\n",
            "<class 'str'>\n"
          ]
        }
      ]
    },
    {
      "cell_type": "code",
      "source": [
        "print(credits['id'].duplicated().sum())\n",
        "print(type(credits['id'][0]))"
      ],
      "metadata": {
        "colab": {
          "base_uri": "https://localhost:8080/"
        },
        "id": "h8ooXP7a3AMM",
        "outputId": "5aad3acd-92f2-4b04-8f8e-c22f5f230319"
      },
      "execution_count": null,
      "outputs": [
        {
          "output_type": "stream",
          "name": "stdout",
          "text": [
            "0\n",
            "<class 'str'>\n"
          ]
        }
      ]
    },
    {
      "cell_type": "code",
      "source": [
        "df_movies.info()"
      ],
      "metadata": {
        "colab": {
          "base_uri": "https://localhost:8080/"
        },
        "id": "8Q7Wd2nfk_Hp",
        "outputId": "da68f527-41f3-4ec4-b878-12863c2e82fe"
      },
      "execution_count": null,
      "outputs": [
        {
          "output_type": "stream",
          "name": "stdout",
          "text": [
            "<class 'pandas.core.frame.DataFrame'>\n",
            "Int64Index: 45432 entries, 0 to 45431\n",
            "Data columns (total 20 columns):\n",
            " #   Column                 Non-Null Count  Dtype  \n",
            "---  ------                 --------------  -----  \n",
            " 0   belongs_to_collection  4488 non-null   object \n",
            " 1   budget                 45432 non-null  object \n",
            " 2   genres                 45432 non-null  object \n",
            " 3   id                     45432 non-null  object \n",
            " 4   original_language      45421 non-null  object \n",
            " 5   overview               44478 non-null  object \n",
            " 6   popularity             45429 non-null  object \n",
            " 7   production_companies   45429 non-null  object \n",
            " 8   production_countries   45429 non-null  object \n",
            " 9   release_date           45345 non-null  object \n",
            " 10  revenue                45429 non-null  float64\n",
            " 11  runtime                45172 non-null  float64\n",
            " 12  spoken_languages       45429 non-null  object \n",
            " 13  status                 45348 non-null  object \n",
            " 14  tagline                20401 non-null  object \n",
            " 15  title                  45429 non-null  object \n",
            " 16  vote_average           45429 non-null  float64\n",
            " 17  vote_count             45429 non-null  float64\n",
            " 18  director               45432 non-null  object \n",
            " 19  actors                 45432 non-null  object \n",
            "dtypes: float64(4), object(16)\n",
            "memory usage: 7.3+ MB\n"
          ]
        }
      ]
    },
    {
      "cell_type": "markdown",
      "source": [
        "# **ETL**  \n",
        "\n",
        "* Algunos campos, como `belongs_to_collection`, `production_companies` y otros (ver diccionario de datos) están anidados, esto es o bien tienen un diccionario o una lista como valores en cada fila, ¡deberán desanidarlos para poder y unirlos al dataset de nuevo hacer alguna de las consultas de la API! O bien buscar la manera de acceder a esos datos sin desanidarlos.\n",
        "\n",
        "* Los valores nulos de los campos `revenue`, `budget` deben ser rellenados por el número 0.\n",
        "\n",
        "* Los valores nulos del campo `release date` deben eliminarse.\n",
        "\n",
        "* De haber `fechas`, deberán tener el formato AAAA-mm-dd, además **deberán crear** la columna `release_year` donde extraerán el año de la fecha de estreno.\n",
        "\n",
        "* Crear la columna con el retorno de inversión, llamada `return` con los campos `revenue` y `budget`, dividiendo estas dos últimas revenue / budget, cuando no hay datos disponibles para calcularlo, deberá tomar el valor 0.\n",
        "\n",
        "* Eliminar las columnas que no serán utilizadas, `video,imdb_id,adult,original_title,poster_path y homepage.`"
      ],
      "metadata": {
        "id": "mYeUquuYi3Mb"
      }
    },
    {
      "cell_type": "markdown",
      "source": [
        "## Revenue"
      ],
      "metadata": {
        "id": "a3ogOIHbqd_k"
      }
    },
    {
      "cell_type": "code",
      "source": [
        "# Buscar valores nulos o vacíos para revenue\n",
        "null_values = df_movies['revenue'].isnull()\n",
        "empty_values = df_movies['revenue'] == ''\n",
        "\n",
        "# Imprimir los resultados\n",
        "print(\"Valores nulos en revenue:\")\n",
        "print(null_values.sum())\n",
        "\n",
        "print(\"Valores vacíos en revenue:\")\n",
        "print(empty_values.sum())\n",
        "\n",
        "\n"
      ],
      "metadata": {
        "id": "ccggHCsnk7AG",
        "colab": {
          "base_uri": "https://localhost:8080/"
        },
        "outputId": "d44e7b6d-af4d-455a-e817-ccd2d38769ad"
      },
      "execution_count": null,
      "outputs": [
        {
          "output_type": "stream",
          "name": "stdout",
          "text": [
            "Valores nulos en revenue:\n",
            "3\n",
            "Valores vacíos en revenue:\n",
            "0\n"
          ]
        }
      ]
    },
    {
      "cell_type": "code",
      "source": [
        "# Reemplazar los valores nulos por 0\n",
        "df_movies['revenue'] = df_movies['revenue'].fillna(0)"
      ],
      "metadata": {
        "id": "I6YiwAv4pUZl"
      },
      "execution_count": null,
      "outputs": []
    },
    {
      "cell_type": "markdown",
      "source": [
        "## Budget"
      ],
      "metadata": {
        "id": "Spx_43Qe_HYY"
      }
    },
    {
      "cell_type": "code",
      "source": [
        "# Paso a float\n",
        "df_movies['budget'] = df_movies['budget'].astype(float)"
      ],
      "metadata": {
        "id": "hL4Gd6Wg_Jwm"
      },
      "execution_count": null,
      "outputs": []
    },
    {
      "cell_type": "code",
      "source": [
        "# Buscar valores nulos o vacíos para budget\n",
        "null_values = df_movies['budget'].isnull()\n",
        "empty_values = df_movies['budget'] == ''\n",
        "\n",
        "# Imprimir los resultados\n",
        "print(\"Valores nulos en budget:\")\n",
        "print(null_values.sum())\n",
        "\n",
        "print(\"Valores vacíos en budget:\")\n",
        "print(empty_values.sum())"
      ],
      "metadata": {
        "colab": {
          "base_uri": "https://localhost:8080/"
        },
        "id": "jXbyJ-C7jq5V",
        "outputId": "59fd0643-c988-4d45-d29b-eee5e1853cf6"
      },
      "execution_count": null,
      "outputs": [
        {
          "output_type": "stream",
          "name": "stdout",
          "text": [
            "Valores nulos en budget:\n",
            "0\n",
            "Valores vacíos en budget:\n",
            "0\n"
          ]
        }
      ]
    },
    {
      "cell_type": "code",
      "source": [
        "# Reemplazar los valores nulos por 0\n",
        "df_movies['budget'] = df_movies['budget'].fillna(0)"
      ],
      "metadata": {
        "id": "PVtqwT3GD79G"
      },
      "execution_count": null,
      "outputs": []
    },
    {
      "cell_type": "markdown",
      "source": [
        "## Release_date"
      ],
      "metadata": {
        "id": "7j9n0t4Eqg7k"
      }
    },
    {
      "cell_type": "code",
      "source": [
        "df_movies['release_date'].isnull().sum()"
      ],
      "metadata": {
        "id": "XcdroKquqTyC",
        "colab": {
          "base_uri": "https://localhost:8080/"
        },
        "outputId": "8b78c891-3535-420c-ba15-1f2ff21c16e3"
      },
      "execution_count": null,
      "outputs": [
        {
          "output_type": "execute_result",
          "data": {
            "text/plain": [
              "87"
            ]
          },
          "metadata": {},
          "execution_count": 73
        }
      ]
    },
    {
      "cell_type": "code",
      "source": [
        "# Eliminar los valores nulos de la columna \"release_date\"\n",
        "df_movies.dropna(subset=['release_date'], inplace=True)\n",
        "#87\n"
      ],
      "metadata": {
        "id": "SDUdFmz3ql8G"
      },
      "execution_count": null,
      "outputs": []
    },
    {
      "cell_type": "code",
      "source": [
        "df_movies.info()"
      ],
      "metadata": {
        "id": "KWhINn8BqyWR",
        "colab": {
          "base_uri": "https://localhost:8080/"
        },
        "outputId": "b665d4d1-854f-4872-8fa3-f0bbcb75296b"
      },
      "execution_count": null,
      "outputs": [
        {
          "output_type": "stream",
          "name": "stdout",
          "text": [
            "<class 'pandas.core.frame.DataFrame'>\n",
            "Int64Index: 45345 entries, 0 to 45431\n",
            "Data columns (total 20 columns):\n",
            " #   Column                 Non-Null Count  Dtype  \n",
            "---  ------                 --------------  -----  \n",
            " 0   belongs_to_collection  4485 non-null   object \n",
            " 1   budget                 45345 non-null  float64\n",
            " 2   genres                 45345 non-null  object \n",
            " 3   id                     45345 non-null  object \n",
            " 4   original_language      45334 non-null  object \n",
            " 5   overview               44404 non-null  object \n",
            " 6   popularity             45345 non-null  object \n",
            " 7   production_companies   45345 non-null  object \n",
            " 8   production_countries   45345 non-null  object \n",
            " 9   release_date           45345 non-null  object \n",
            " 10  revenue                45345 non-null  float64\n",
            " 11  runtime                45099 non-null  float64\n",
            " 12  spoken_languages       45345 non-null  object \n",
            " 13  status                 45265 non-null  object \n",
            " 14  tagline                20387 non-null  object \n",
            " 15  title                  45345 non-null  object \n",
            " 16  vote_average           45345 non-null  float64\n",
            " 17  vote_count             45345 non-null  float64\n",
            " 18  director               45345 non-null  object \n",
            " 19  actors                 45345 non-null  object \n",
            "dtypes: float64(5), object(15)\n",
            "memory usage: 7.3+ MB\n"
          ]
        }
      ]
    },
    {
      "cell_type": "code",
      "source": [
        "# Convertir el DataSeries a formato de fecha\n",
        "df_movies['release_date'] = pd.to_datetime(df_movies['release_date'], format='%Y-%m-%d', errors='coerce') #errors='coerce': This parameter indicates how to handle errors during the conversion."
      ],
      "metadata": {
        "id": "GE10A844_qdf"
      },
      "execution_count": null,
      "outputs": []
    },
    {
      "cell_type": "code",
      "source": [
        "# Crear nueva columna del año\n",
        "df_movies[\"release_year\"]= df_movies[\"release_date\"].dt.year"
      ],
      "metadata": {
        "id": "Re53sORRAXg7"
      },
      "execution_count": null,
      "outputs": []
    },
    {
      "cell_type": "code",
      "source": [
        "df_movies.info()"
      ],
      "metadata": {
        "id": "n3NBq_hoC5Td",
        "colab": {
          "base_uri": "https://localhost:8080/"
        },
        "outputId": "a30d8b12-a01c-438a-a1e5-4a93c03aaac4"
      },
      "execution_count": null,
      "outputs": [
        {
          "output_type": "stream",
          "name": "stdout",
          "text": [
            "<class 'pandas.core.frame.DataFrame'>\n",
            "Int64Index: 45345 entries, 0 to 45431\n",
            "Data columns (total 21 columns):\n",
            " #   Column                 Non-Null Count  Dtype         \n",
            "---  ------                 --------------  -----         \n",
            " 0   belongs_to_collection  4485 non-null   object        \n",
            " 1   budget                 45345 non-null  float64       \n",
            " 2   genres                 45345 non-null  object        \n",
            " 3   id                     45345 non-null  object        \n",
            " 4   original_language      45334 non-null  object        \n",
            " 5   overview               44404 non-null  object        \n",
            " 6   popularity             45345 non-null  object        \n",
            " 7   production_companies   45345 non-null  object        \n",
            " 8   production_countries   45345 non-null  object        \n",
            " 9   release_date           45345 non-null  datetime64[ns]\n",
            " 10  revenue                45345 non-null  float64       \n",
            " 11  runtime                45099 non-null  float64       \n",
            " 12  spoken_languages       45345 non-null  object        \n",
            " 13  status                 45265 non-null  object        \n",
            " 14  tagline                20387 non-null  object        \n",
            " 15  title                  45345 non-null  object        \n",
            " 16  vote_average           45345 non-null  float64       \n",
            " 17  vote_count             45345 non-null  float64       \n",
            " 18  director               45345 non-null  object        \n",
            " 19  actors                 45345 non-null  object        \n",
            " 20  release_year           45345 non-null  int64         \n",
            "dtypes: datetime64[ns](1), float64(5), int64(1), object(14)\n",
            "memory usage: 7.6+ MB\n"
          ]
        }
      ]
    },
    {
      "cell_type": "code",
      "source": [
        "df_movies['revenue'].head()"
      ],
      "metadata": {
        "colab": {
          "base_uri": "https://localhost:8080/"
        },
        "id": "KhVnx-QGmrE-",
        "outputId": "58306f14-c7a5-4246-d63a-f0e615af286e"
      },
      "execution_count": null,
      "outputs": [
        {
          "output_type": "execute_result",
          "data": {
            "text/plain": [
              "0    373554033.0\n",
              "1    262797249.0\n",
              "2            0.0\n",
              "3     81452156.0\n",
              "4     76578911.0\n",
              "Name: revenue, dtype: float64"
            ]
          },
          "metadata": {},
          "execution_count": 79
        }
      ]
    },
    {
      "cell_type": "markdown",
      "source": [
        "## Return\n",
        "\n",
        "Create the column with the return on investment, called return with the revenue and budget fields, dividing these last two revenue / budget, when there is no data available to calculate it, it must take the value 0."
      ],
      "metadata": {
        "id": "L7hjquQ7DUEp"
      }
    },
    {
      "cell_type": "code",
      "source": [
        "df_movies.info()"
      ],
      "metadata": {
        "id": "Mdm1SWl3Edzb",
        "colab": {
          "base_uri": "https://localhost:8080/"
        },
        "outputId": "857aeee9-580e-4c5e-b12f-82e88b15f71c"
      },
      "execution_count": null,
      "outputs": [
        {
          "output_type": "stream",
          "name": "stdout",
          "text": [
            "<class 'pandas.core.frame.DataFrame'>\n",
            "Int64Index: 45345 entries, 0 to 45431\n",
            "Data columns (total 21 columns):\n",
            " #   Column                 Non-Null Count  Dtype         \n",
            "---  ------                 --------------  -----         \n",
            " 0   belongs_to_collection  4485 non-null   object        \n",
            " 1   budget                 45345 non-null  float64       \n",
            " 2   genres                 45345 non-null  object        \n",
            " 3   id                     45345 non-null  object        \n",
            " 4   original_language      45334 non-null  object        \n",
            " 5   overview               44404 non-null  object        \n",
            " 6   popularity             45345 non-null  object        \n",
            " 7   production_companies   45345 non-null  object        \n",
            " 8   production_countries   45345 non-null  object        \n",
            " 9   release_date           45345 non-null  datetime64[ns]\n",
            " 10  revenue                45345 non-null  float64       \n",
            " 11  runtime                45099 non-null  float64       \n",
            " 12  spoken_languages       45345 non-null  object        \n",
            " 13  status                 45265 non-null  object        \n",
            " 14  tagline                20387 non-null  object        \n",
            " 15  title                  45345 non-null  object        \n",
            " 16  vote_average           45345 non-null  float64       \n",
            " 17  vote_count             45345 non-null  float64       \n",
            " 18  director               45345 non-null  object        \n",
            " 19  actors                 45345 non-null  object        \n",
            " 20  release_year           45345 non-null  int64         \n",
            "dtypes: datetime64[ns](1), float64(5), int64(1), object(14)\n",
            "memory usage: 7.6+ MB\n"
          ]
        }
      ]
    },
    {
      "cell_type": "code",
      "source": [
        "# Calcular el retorno de la inversión y asignar 0 cuando budget es 0\n",
        "\n",
        "#df_movies['return'] = np.where(df_movies['budget'] == 0, 0, df_movies['revenue'] / df_movies['budget'])\n",
        "df_movies['return'] = df_movies.apply(lambda row: row['revenue'] / row['budget'] if row['revenue'] and row['budget'] else 0, axis=1)\n",
        "df_movies.head()\n"
      ],
      "metadata": {
        "id": "QvO63ycHFVUz",
        "colab": {
          "base_uri": "https://localhost:8080/",
          "height": 592
        },
        "outputId": "b0fe6d9f-bcee-432a-f6da-b173f91758ee"
      },
      "execution_count": null,
      "outputs": [
        {
          "output_type": "execute_result",
          "data": {
            "text/plain": [
              "            belongs_to_collection      budget                        genres  \\\n",
              "0            Toy Story Collection  30000000.0   [Animation, Comedy, Family]   \n",
              "1                            None  65000000.0  [Adventure, Fantasy, Family]   \n",
              "2       Grumpy Old Men Collection         0.0             [Romance, Comedy]   \n",
              "3                            None  16000000.0      [Comedy, Drama, Romance]   \n",
              "4  Father of the Bride Collection         0.0                      [Comedy]   \n",
              "\n",
              "      id original_language                                           overview  \\\n",
              "0    862                en  Led by Woody, Andy's toys live happily in his ...   \n",
              "1   8844                en  When siblings Judy and Peter discover an encha...   \n",
              "2  15602                en  A family wedding reignites the ancient feud be...   \n",
              "3  31357                en  Cheated on, mistreated and stepped on, the wom...   \n",
              "4  11862                en  Just when George Banks has recovered from his ...   \n",
              "\n",
              "  popularity                               production_companies  \\\n",
              "0  21.946943                          [Pixar Animation Studios]   \n",
              "1  17.015539  [TriStar Pictures, Teitler Film, Interscope Co...   \n",
              "2    11.7129                     [Warner Bros., Lancaster Gate]   \n",
              "3   3.859495           [Twentieth Century Fox Film Corporation]   \n",
              "4   8.387519       [Sandollar Productions, Touchstone Pictures]   \n",
              "\n",
              "         production_countries release_date  ...  \\\n",
              "0  [United States of America]   1995-10-30  ...   \n",
              "1  [United States of America]   1995-12-15  ...   \n",
              "2  [United States of America]   1995-12-22  ...   \n",
              "3  [United States of America]   1995-12-22  ...   \n",
              "4  [United States of America]   1995-02-10  ...   \n",
              "\n",
              "                                    spoken_languages    status  \\\n",
              "0           [{'iso_639_1': 'en', 'name': 'English'}]  Released   \n",
              "1  [{'iso_639_1': 'en', 'name': 'English'}, {'iso...  Released   \n",
              "2           [{'iso_639_1': 'en', 'name': 'English'}]  Released   \n",
              "3           [{'iso_639_1': 'en', 'name': 'English'}]  Released   \n",
              "4           [{'iso_639_1': 'en', 'name': 'English'}]  Released   \n",
              "\n",
              "                                             tagline  \\\n",
              "0                                                NaN   \n",
              "1          Roll the dice and unleash the excitement!   \n",
              "2  Still Yelling. Still Fighting. Still Ready for...   \n",
              "3  Friends are the people who let you be yourself...   \n",
              "4  Just When His World Is Back To Normal... He's ...   \n",
              "\n",
              "                         title vote_average vote_count           director  \\\n",
              "0                    Toy Story          7.7     5415.0    [John Lasseter]   \n",
              "1                      Jumanji          6.9     2413.0     [Joe Johnston]   \n",
              "2             Grumpier Old Men          6.5       92.0    [Howard Deutch]   \n",
              "3            Waiting to Exhale          6.1       34.0  [Forest Whitaker]   \n",
              "4  Father of the Bride Part II          5.7      173.0    [Charles Shyer]   \n",
              "\n",
              "                                              actors release_year     return  \n",
              "0  [Tom Hanks, Tim Allen, Don Rickles, Jim Varney...         1995  12.451801  \n",
              "1  [Robin Williams, Jonathan Hyde, Kirsten Dunst,...         1995   4.043035  \n",
              "2  [Walter Matthau, Jack Lemmon, Ann-Margret, Sop...         1995   0.000000  \n",
              "3  [Whitney Houston, Angela Bassett, Loretta Devi...         1995   5.090760  \n",
              "4  [Steve Martin, Diane Keaton, Martin Short, Kim...         1995   0.000000  \n",
              "\n",
              "[5 rows x 22 columns]"
            ],
            "text/html": [
              "\n",
              "  <div id=\"df-164b1ffc-087f-46fb-8cbb-91cefe6f2f4e\">\n",
              "    <div class=\"colab-df-container\">\n",
              "      <div>\n",
              "<style scoped>\n",
              "    .dataframe tbody tr th:only-of-type {\n",
              "        vertical-align: middle;\n",
              "    }\n",
              "\n",
              "    .dataframe tbody tr th {\n",
              "        vertical-align: top;\n",
              "    }\n",
              "\n",
              "    .dataframe thead th {\n",
              "        text-align: right;\n",
              "    }\n",
              "</style>\n",
              "<table border=\"1\" class=\"dataframe\">\n",
              "  <thead>\n",
              "    <tr style=\"text-align: right;\">\n",
              "      <th></th>\n",
              "      <th>belongs_to_collection</th>\n",
              "      <th>budget</th>\n",
              "      <th>genres</th>\n",
              "      <th>id</th>\n",
              "      <th>original_language</th>\n",
              "      <th>overview</th>\n",
              "      <th>popularity</th>\n",
              "      <th>production_companies</th>\n",
              "      <th>production_countries</th>\n",
              "      <th>release_date</th>\n",
              "      <th>...</th>\n",
              "      <th>spoken_languages</th>\n",
              "      <th>status</th>\n",
              "      <th>tagline</th>\n",
              "      <th>title</th>\n",
              "      <th>vote_average</th>\n",
              "      <th>vote_count</th>\n",
              "      <th>director</th>\n",
              "      <th>actors</th>\n",
              "      <th>release_year</th>\n",
              "      <th>return</th>\n",
              "    </tr>\n",
              "  </thead>\n",
              "  <tbody>\n",
              "    <tr>\n",
              "      <th>0</th>\n",
              "      <td>Toy Story Collection</td>\n",
              "      <td>30000000.0</td>\n",
              "      <td>[Animation, Comedy, Family]</td>\n",
              "      <td>862</td>\n",
              "      <td>en</td>\n",
              "      <td>Led by Woody, Andy's toys live happily in his ...</td>\n",
              "      <td>21.946943</td>\n",
              "      <td>[Pixar Animation Studios]</td>\n",
              "      <td>[United States of America]</td>\n",
              "      <td>1995-10-30</td>\n",
              "      <td>...</td>\n",
              "      <td>[{'iso_639_1': 'en', 'name': 'English'}]</td>\n",
              "      <td>Released</td>\n",
              "      <td>NaN</td>\n",
              "      <td>Toy Story</td>\n",
              "      <td>7.7</td>\n",
              "      <td>5415.0</td>\n",
              "      <td>[John Lasseter]</td>\n",
              "      <td>[Tom Hanks, Tim Allen, Don Rickles, Jim Varney...</td>\n",
              "      <td>1995</td>\n",
              "      <td>12.451801</td>\n",
              "    </tr>\n",
              "    <tr>\n",
              "      <th>1</th>\n",
              "      <td>None</td>\n",
              "      <td>65000000.0</td>\n",
              "      <td>[Adventure, Fantasy, Family]</td>\n",
              "      <td>8844</td>\n",
              "      <td>en</td>\n",
              "      <td>When siblings Judy and Peter discover an encha...</td>\n",
              "      <td>17.015539</td>\n",
              "      <td>[TriStar Pictures, Teitler Film, Interscope Co...</td>\n",
              "      <td>[United States of America]</td>\n",
              "      <td>1995-12-15</td>\n",
              "      <td>...</td>\n",
              "      <td>[{'iso_639_1': 'en', 'name': 'English'}, {'iso...</td>\n",
              "      <td>Released</td>\n",
              "      <td>Roll the dice and unleash the excitement!</td>\n",
              "      <td>Jumanji</td>\n",
              "      <td>6.9</td>\n",
              "      <td>2413.0</td>\n",
              "      <td>[Joe Johnston]</td>\n",
              "      <td>[Robin Williams, Jonathan Hyde, Kirsten Dunst,...</td>\n",
              "      <td>1995</td>\n",
              "      <td>4.043035</td>\n",
              "    </tr>\n",
              "    <tr>\n",
              "      <th>2</th>\n",
              "      <td>Grumpy Old Men Collection</td>\n",
              "      <td>0.0</td>\n",
              "      <td>[Romance, Comedy]</td>\n",
              "      <td>15602</td>\n",
              "      <td>en</td>\n",
              "      <td>A family wedding reignites the ancient feud be...</td>\n",
              "      <td>11.7129</td>\n",
              "      <td>[Warner Bros., Lancaster Gate]</td>\n",
              "      <td>[United States of America]</td>\n",
              "      <td>1995-12-22</td>\n",
              "      <td>...</td>\n",
              "      <td>[{'iso_639_1': 'en', 'name': 'English'}]</td>\n",
              "      <td>Released</td>\n",
              "      <td>Still Yelling. Still Fighting. Still Ready for...</td>\n",
              "      <td>Grumpier Old Men</td>\n",
              "      <td>6.5</td>\n",
              "      <td>92.0</td>\n",
              "      <td>[Howard Deutch]</td>\n",
              "      <td>[Walter Matthau, Jack Lemmon, Ann-Margret, Sop...</td>\n",
              "      <td>1995</td>\n",
              "      <td>0.000000</td>\n",
              "    </tr>\n",
              "    <tr>\n",
              "      <th>3</th>\n",
              "      <td>None</td>\n",
              "      <td>16000000.0</td>\n",
              "      <td>[Comedy, Drama, Romance]</td>\n",
              "      <td>31357</td>\n",
              "      <td>en</td>\n",
              "      <td>Cheated on, mistreated and stepped on, the wom...</td>\n",
              "      <td>3.859495</td>\n",
              "      <td>[Twentieth Century Fox Film Corporation]</td>\n",
              "      <td>[United States of America]</td>\n",
              "      <td>1995-12-22</td>\n",
              "      <td>...</td>\n",
              "      <td>[{'iso_639_1': 'en', 'name': 'English'}]</td>\n",
              "      <td>Released</td>\n",
              "      <td>Friends are the people who let you be yourself...</td>\n",
              "      <td>Waiting to Exhale</td>\n",
              "      <td>6.1</td>\n",
              "      <td>34.0</td>\n",
              "      <td>[Forest Whitaker]</td>\n",
              "      <td>[Whitney Houston, Angela Bassett, Loretta Devi...</td>\n",
              "      <td>1995</td>\n",
              "      <td>5.090760</td>\n",
              "    </tr>\n",
              "    <tr>\n",
              "      <th>4</th>\n",
              "      <td>Father of the Bride Collection</td>\n",
              "      <td>0.0</td>\n",
              "      <td>[Comedy]</td>\n",
              "      <td>11862</td>\n",
              "      <td>en</td>\n",
              "      <td>Just when George Banks has recovered from his ...</td>\n",
              "      <td>8.387519</td>\n",
              "      <td>[Sandollar Productions, Touchstone Pictures]</td>\n",
              "      <td>[United States of America]</td>\n",
              "      <td>1995-02-10</td>\n",
              "      <td>...</td>\n",
              "      <td>[{'iso_639_1': 'en', 'name': 'English'}]</td>\n",
              "      <td>Released</td>\n",
              "      <td>Just When His World Is Back To Normal... He's ...</td>\n",
              "      <td>Father of the Bride Part II</td>\n",
              "      <td>5.7</td>\n",
              "      <td>173.0</td>\n",
              "      <td>[Charles Shyer]</td>\n",
              "      <td>[Steve Martin, Diane Keaton, Martin Short, Kim...</td>\n",
              "      <td>1995</td>\n",
              "      <td>0.000000</td>\n",
              "    </tr>\n",
              "  </tbody>\n",
              "</table>\n",
              "<p>5 rows × 22 columns</p>\n",
              "</div>\n",
              "      <button class=\"colab-df-convert\" onclick=\"convertToInteractive('df-164b1ffc-087f-46fb-8cbb-91cefe6f2f4e')\"\n",
              "              title=\"Convert this dataframe to an interactive table.\"\n",
              "              style=\"display:none;\">\n",
              "        \n",
              "  <svg xmlns=\"http://www.w3.org/2000/svg\" height=\"24px\"viewBox=\"0 0 24 24\"\n",
              "       width=\"24px\">\n",
              "    <path d=\"M0 0h24v24H0V0z\" fill=\"none\"/>\n",
              "    <path d=\"M18.56 5.44l.94 2.06.94-2.06 2.06-.94-2.06-.94-.94-2.06-.94 2.06-2.06.94zm-11 1L8.5 8.5l.94-2.06 2.06-.94-2.06-.94L8.5 2.5l-.94 2.06-2.06.94zm10 10l.94 2.06.94-2.06 2.06-.94-2.06-.94-.94-2.06-.94 2.06-2.06.94z\"/><path d=\"M17.41 7.96l-1.37-1.37c-.4-.4-.92-.59-1.43-.59-.52 0-1.04.2-1.43.59L10.3 9.45l-7.72 7.72c-.78.78-.78 2.05 0 2.83L4 21.41c.39.39.9.59 1.41.59.51 0 1.02-.2 1.41-.59l7.78-7.78 2.81-2.81c.8-.78.8-2.07 0-2.86zM5.41 20L4 18.59l7.72-7.72 1.47 1.35L5.41 20z\"/>\n",
              "  </svg>\n",
              "      </button>\n",
              "      \n",
              "  <style>\n",
              "    .colab-df-container {\n",
              "      display:flex;\n",
              "      flex-wrap:wrap;\n",
              "      gap: 12px;\n",
              "    }\n",
              "\n",
              "    .colab-df-convert {\n",
              "      background-color: #E8F0FE;\n",
              "      border: none;\n",
              "      border-radius: 50%;\n",
              "      cursor: pointer;\n",
              "      display: none;\n",
              "      fill: #1967D2;\n",
              "      height: 32px;\n",
              "      padding: 0 0 0 0;\n",
              "      width: 32px;\n",
              "    }\n",
              "\n",
              "    .colab-df-convert:hover {\n",
              "      background-color: #E2EBFA;\n",
              "      box-shadow: 0px 1px 2px rgba(60, 64, 67, 0.3), 0px 1px 3px 1px rgba(60, 64, 67, 0.15);\n",
              "      fill: #174EA6;\n",
              "    }\n",
              "\n",
              "    [theme=dark] .colab-df-convert {\n",
              "      background-color: #3B4455;\n",
              "      fill: #D2E3FC;\n",
              "    }\n",
              "\n",
              "    [theme=dark] .colab-df-convert:hover {\n",
              "      background-color: #434B5C;\n",
              "      box-shadow: 0px 1px 3px 1px rgba(0, 0, 0, 0.15);\n",
              "      filter: drop-shadow(0px 1px 2px rgba(0, 0, 0, 0.3));\n",
              "      fill: #FFFFFF;\n",
              "    }\n",
              "  </style>\n",
              "\n",
              "      <script>\n",
              "        const buttonEl =\n",
              "          document.querySelector('#df-164b1ffc-087f-46fb-8cbb-91cefe6f2f4e button.colab-df-convert');\n",
              "        buttonEl.style.display =\n",
              "          google.colab.kernel.accessAllowed ? 'block' : 'none';\n",
              "\n",
              "        async function convertToInteractive(key) {\n",
              "          const element = document.querySelector('#df-164b1ffc-087f-46fb-8cbb-91cefe6f2f4e');\n",
              "          const dataTable =\n",
              "            await google.colab.kernel.invokeFunction('convertToInteractive',\n",
              "                                                     [key], {});\n",
              "          if (!dataTable) return;\n",
              "\n",
              "          const docLinkHtml = 'Like what you see? Visit the ' +\n",
              "            '<a target=\"_blank\" href=https://colab.research.google.com/notebooks/data_table.ipynb>data table notebook</a>'\n",
              "            + ' to learn more about interactive tables.';\n",
              "          element.innerHTML = '';\n",
              "          dataTable['output_type'] = 'display_data';\n",
              "          await google.colab.output.renderOutput(dataTable, element);\n",
              "          const docLink = document.createElement('div');\n",
              "          docLink.innerHTML = docLinkHtml;\n",
              "          element.appendChild(docLink);\n",
              "        }\n",
              "      </script>\n",
              "    </div>\n",
              "  </div>\n",
              "  "
            ]
          },
          "metadata": {},
          "execution_count": 81
        }
      ]
    },
    {
      "cell_type": "code",
      "source": [
        "df_movies['return'].isnull().sum()"
      ],
      "metadata": {
        "id": "eJOsf6rVDuOk",
        "colab": {
          "base_uri": "https://localhost:8080/"
        },
        "outputId": "3f1c4e88-8a4c-4b4a-e9cc-9f9118505a6c"
      },
      "execution_count": null,
      "outputs": [
        {
          "output_type": "execute_result",
          "data": {
            "text/plain": [
              "0"
            ]
          },
          "metadata": {},
          "execution_count": 82
        }
      ]
    },
    {
      "cell_type": "code",
      "source": [
        "df_movies['return'][0]"
      ],
      "metadata": {
        "id": "5nmvGGKLEOVS",
        "colab": {
          "base_uri": "https://localhost:8080/"
        },
        "outputId": "910b776f-c5de-4e9e-810f-f05e14143b71"
      },
      "execution_count": null,
      "outputs": [
        {
          "output_type": "execute_result",
          "data": {
            "text/plain": [
              "12.4518011"
            ]
          },
          "metadata": {},
          "execution_count": 83
        }
      ]
    },
    {
      "cell_type": "code",
      "source": [
        "df_movies['return'].head(10)"
      ],
      "metadata": {
        "id": "hEBR2BkoFpaA",
        "colab": {
          "base_uri": "https://localhost:8080/"
        },
        "outputId": "99954dda-7e86-41a9-e50d-b8c02f303cef"
      },
      "execution_count": null,
      "outputs": [
        {
          "output_type": "execute_result",
          "data": {
            "text/plain": [
              "0    12.451801\n",
              "1     4.043035\n",
              "2     0.000000\n",
              "3     5.090760\n",
              "4     0.000000\n",
              "5     3.123947\n",
              "6     0.000000\n",
              "7     0.000000\n",
              "8     1.838576\n",
              "9     6.072311\n",
              "Name: return, dtype: float64"
            ]
          },
          "metadata": {},
          "execution_count": 84
        }
      ]
    },
    {
      "cell_type": "markdown",
      "source": [
        "# Rearrange columns order"
      ],
      "metadata": {
        "id": "9cJ0pPYNgW9L"
      }
    },
    {
      "cell_type": "code",
      "source": [
        "columnas = ['id', 'title', 'belongs_to_collection', 'genres',  'budget', 'original_language', 'overview', 'popularity', 'production_companies', 'production_countries', 'release_date', 'revenue', 'runtime', 'spoken_languages', 'status', 'tagline', 'vote_average', 'vote_count', 'director', 'actors', 'release_year', 'return']\n"
      ],
      "metadata": {
        "id": "tcBnOjvugWZa"
      },
      "execution_count": null,
      "outputs": []
    },
    {
      "cell_type": "code",
      "source": [
        "df_movies = df_movies[columnas]"
      ],
      "metadata": {
        "id": "y37b0fsHgn36"
      },
      "execution_count": null,
      "outputs": []
    },
    {
      "cell_type": "markdown",
      "source": [
        "# Exporting CSV"
      ],
      "metadata": {
        "id": "bbL5p5mHGH-Y"
      }
    },
    {
      "cell_type": "code",
      "source": [
        "savefile_path = '/content/drive/MyDrive/Proyectos Henry/ML_Ops_Project/df_movies.csv'\n",
        "df_movies.to_csv(savefile_path, index=False)"
      ],
      "metadata": {
        "id": "HKhajHsCGJHg"
      },
      "execution_count": null,
      "outputs": []
    },
    {
      "cell_type": "code",
      "source": [
        "movies.info()"
      ],
      "metadata": {
        "colab": {
          "base_uri": "https://localhost:8080/"
        },
        "id": "vzAgr0YvwkGt",
        "outputId": "95c33de4-af5e-4dd0-918a-2217a7360374"
      },
      "execution_count": null,
      "outputs": [
        {
          "output_type": "stream",
          "name": "stdout",
          "text": [
            "<class 'pandas.core.frame.DataFrame'>\n",
            "Int64Index: 45433 entries, 0 to 45465\n",
            "Data columns (total 24 columns):\n",
            " #   Column                 Non-Null Count  Dtype  \n",
            "---  ------                 --------------  -----  \n",
            " 0   adult                  45433 non-null  object \n",
            " 1   belongs_to_collection  4488 non-null   object \n",
            " 2   budget                 45433 non-null  object \n",
            " 3   genres                 45433 non-null  object \n",
            " 4   homepage               7774 non-null   object \n",
            " 5   id                     45433 non-null  object \n",
            " 6   imdb_id                45416 non-null  object \n",
            " 7   original_language      45422 non-null  object \n",
            " 8   original_title         45433 non-null  object \n",
            " 9   overview               44479 non-null  object \n",
            " 10  popularity             45430 non-null  object \n",
            " 11  poster_path            45047 non-null  object \n",
            " 12  production_companies   45430 non-null  object \n",
            " 13  production_countries   45430 non-null  object \n",
            " 14  release_date           45346 non-null  object \n",
            " 15  revenue                45430 non-null  float64\n",
            " 16  runtime                45173 non-null  float64\n",
            " 17  spoken_languages       45430 non-null  object \n",
            " 18  status                 45349 non-null  object \n",
            " 19  tagline                20401 non-null  object \n",
            " 20  title                  45430 non-null  object \n",
            " 21  video                  45430 non-null  object \n",
            " 22  vote_average           45430 non-null  float64\n",
            " 23  vote_count             45430 non-null  float64\n",
            "dtypes: float64(4), object(20)\n",
            "memory usage: 9.7+ MB\n"
          ]
        }
      ]
    }
  ]
}